{
 "cells": [
  {
   "cell_type": "code",
   "execution_count": 1,
   "id": "7b63917a-9f54-4029-8d52-f0260ae76b5d",
   "metadata": {},
   "outputs": [
    {
     "name": "stdout",
     "output_type": "stream",
     "text": [
      "Check!\n"
     ]
    }
   ],
   "source": [
    "# Import some basic libraries and functions for this tutorial.\n",
    "import numpy as np\n",
    "import os\n",
    "\n",
    "from pydrake.common import temp_directory\n",
    "from pydrake.geometry import StartMeshcat\n",
    "from pydrake.math import RigidTransform, RollPitchYaw, RotationMatrix\n",
    "from pydrake.multibody.parsing import Parser\n",
    "from pydrake.multibody.plant import AddMultibodyPlantSceneGraph\n",
    "from pydrake.systems.analysis import Simulator\n",
    "from pydrake.systems.framework import DiagramBuilder\n",
    "from pydrake.visualization import AddDefaultVisualization, ModelVisualizer\n",
    "\n",
    "print(\"Check!\")"
   ]
  },
  {
   "cell_type": "code",
   "execution_count": 2,
   "id": "ffa2c6b6-c3c4-4ca1-bb88-23efca6c1716",
   "metadata": {},
   "outputs": [
    {
     "name": "stdout",
     "output_type": "stream",
     "text": [
      "Check!\n"
     ]
    }
   ],
   "source": [
    "from pydrake.all import (\n",
    "    AddMultibodyPlantSceneGraph, DiagramBuilder, \n",
    "    FindResourceOrThrow, GenerateHtml, InverseDynamicsController, \n",
    "    MultibodyPlant, Parser, Simulator)\n",
    "from pydrake.multibody.jupyter_widgets import MakeJointSlidersThatPublishOnCallback\n",
    "import pydrake\n",
    "from pydrake import geometry\n",
    "from pydrake.math import RigidTransform, RollPitchYaw, RotationMatrix \n",
    "from pydrake.solvers import MathematicalProgram, Solve\n",
    "from pydrake.systems.jupyter_widgets import PoseSliders, WidgetSystem\n",
    "from ipywidgets import ToggleButton, ToggleButtons\n",
    "from functools import partial\n",
    "from pydrake.all import (\n",
    "    JointIndex, PiecewisePolynomial, JacobianWrtVariable,\n",
    "    eq, ge,  AutoDiffXd, SnoptSolver, IpoptSolver,  \n",
    "    AddUnitQuaternionConstraintOnPlant, PositionConstraint, OrientationConstraint\n",
    "    )\n",
    "print(\"Check!\")"
   ]
  },
  {
   "cell_type": "markdown",
   "id": "713887ae-bbb8-45c3-870e-c0da52b0fd95",
   "metadata": {},
   "source": [
    "# 1 Setting up the scene\n",
    "#### some notes:\n",
    "\n",
    "from pydrake.all import (\n",
    "    autoDiffToGradientMatrix, initializeAutoDiffGivenGradientMatrix, autoDiffToValueMatrix, autoDiffToGradientMatrix)\n",
    "\n",
    "**These imports seem to be renovated, should have equivalent. Do check!** "
   ]
  },
  {
   "cell_type": "code",
   "execution_count": 3,
   "id": "aefd51d4-9cd5-486a-bb00-77a7c77bcdf5",
   "metadata": {},
   "outputs": [],
   "source": [
    "h = 1e-3\n",
    "builder = DiagramBuilder()\n",
    "plant, scene_graph = AddMultibodyPlantSceneGraph(builder, time_step=h)\n",
    "parser = Parser(plant)"
   ]
  },
  {
   "cell_type": "code",
   "execution_count": 4,
   "id": "20b735f4-bb3d-4224-9954-86168ca8a1d7",
   "metadata": {},
   "outputs": [
    {
     "name": "stdout",
     "output_type": "stream",
     "text": [
      "table_top_frame is <FixedOffsetFrame name='table_top_center' index=3 model_instance=2>\n"
     ]
    }
   ],
   "source": [
    "table_dir = (\"/Users/xiao/0_codes/ICBM_drake/models/objects\")\n",
    "box_dir = (\"/Users/xiao/0_codes/ICBM_drake/models/ycb/sdf/\")\n",
    "table_file = os.path.join(table_dir, \"table_top.sdf\")\n",
    "box_file = os.path.join(box_dir, \"003_cracker_box.sdf\")\n",
    "\n",
    "# These add multiple models and returns a list\n",
    "obj_pool1 = parser.AddModels(table_file)\n",
    "obj_pool2 = parser.AddModels(box_file)\n",
    "\n",
    "# get the model_instance for each\n",
    "table = obj_pool1[0] # since only one from each pool\n",
    "box = obj_pool2[0]\n",
    "\n",
    "# get table-top frame in the world, here the dummy is for getting familiar with Drake\n",
    "table_top_frame = plant.GetFrameByName(\"table_top_center\")\n",
    "\n",
    "# move the table for a bit\n",
    "X_W_table = RigidTransform(\n",
    "  R=RotationMatrix([\n",
    "    [1.0, 0.0, 0.0],\n",
    "    [0.0, 1.0, 0.0],\n",
    "    [0.0, 0.0, 1.0],]),\n",
    "  p=[0.0, 0.0, 0.0]\n",
    ") # or similar: X_W_table = RigidTransform(RotationMatrix.Identity(), [0., -0.4, 0.])\n",
    "\n",
    "plant.WeldFrames(plant.world_frame(), table_top_frame, X_W_table) # 2nd arg relative to 1st arg transformed by X_W_table \n",
    "# plant.WeldFrames(X_W_table, table_top_frame)\n",
    "print(f\"table_top_frame is {table_top_frame}\")\n",
    "\n",
    "\"\"\" These will be depracated on 2023-12-01\n",
    "Deprecated:\n",
    "    Use parser.AddModels() instead. To port the 2-argument form,\n",
    "    rename models using parser.SetAutoRenaming() and\n",
    "    plant.RenameModelInstance(). See PR #19978 for more details. This\n",
    "    will be removed from Drake on or after 2023-12-01.\n",
    "  parser.AddModelFromFile(table_file, \"table\") \"\"\"\n",
    "# # using add model from file \n",
    "# parser.AddModelFromFile(table_file, \"table\")\n",
    "# parser.AddModelFromFile(box_file, \"box\")\n",
    "\n",
    "\"\"\"\n",
    "# This is explicitly fixing the table to world frame. What happens if it is not\n",
    "# explicitly fixed here but \"not publishing to update its state\" ?? See later sections.  \n",
    "\n",
    "# fix the centre of table to world\n",
    "table_body_frame = plant.GetFrameByName(\"table_top_center\")\n",
    "plant.WeldFrames(plant.world_frame(), table_body_frame) \n",
    "\"\"\"\n",
    "\n",
    "# finalize the plant\n",
    "plant.Finalize()\n",
    "plant.set_name(\"table_with_box\")\n",
    "\n",
    "# now build the diagram\n",
    "diagram = builder.Build()"
   ]
  },
  {
   "cell_type": "markdown",
   "id": "a641015b-d63f-4252-be22-0fb4a461d410",
   "metadata": {},
   "source": [
    "## 1 On setting fixed body pose in world\n",
    "Use $plant.WeldFrames(parentFrame,\\;childFrame, \\;Transformation)$ to fix objects in the scene. For fixed objects, this needs to be done before $plant.Finalize()$\n",
    "### 1.1 for getting frames:\n",
    "plant.world_frame(), \n",
    "plant.GetFrameByName()\n",
    "### 1.2 using drake transformations:\n",
    "The transformation X should be of type \"*pydrake.math.RigidTransform*\"\n",
    "e.g.:\n",
    "X_W_table = RigidTransform(\n",
    "  R=RotationMatrix([\n",
    "    [1.0, 0.0, 0.0],\n",
    "    [0.0, 1.0, 0.0],\n",
    "    [0.0, 0.0, 1.0],]),\n",
    "  p=[0.0, 0.0, 0.0],)"
   ]
  },
  {
   "cell_type": "code",
   "execution_count": 5,
   "id": "8d51a23c-6f48-4544-ad24-4ab026da1738",
   "metadata": {},
   "outputs": [
    {
     "name": "stdout",
     "output_type": "stream",
     "text": [
      "box_body_frame is <RigidBody name='base_link_cracker' index=2 model_instance=3> \n",
      "\n",
      "box_body_id is <FrameId value=23>\n"
     ]
    }
   ],
   "source": [
    "# get free body box's frame and its id in the plant\n",
    "box_body_frame = plant.GetBodyByName(\"base_link_cracker\")\n",
    "box_body_id = plant.GetBodyFrameIdIfExists(box_body_frame.index())\n",
    "print(f\"box_body_frame is {box_body_frame} \\n\")\n",
    "print(f\"box_body_id is {box_body_id}\")"
   ]
  },
  {
   "cell_type": "code",
   "execution_count": 6,
   "id": "833721ec-5076-41a1-9467-ed849d8adcca",
   "metadata": {},
   "outputs": [],
   "source": [
    "# create the default diagram's context \n",
    "context = diagram.CreateDefaultContext()\n",
    "\n",
    "# get the mutable context for updates\n",
    "mutable_context = plant.GetMyContextFromRoot(context) # seems equivalent to .GetMyMutableContextFromRoot()\n",
    "\n",
    "# # move the table for a bit\n",
    "# X_W_table = RigidTransform(RotationMatrix.Identity(), [0., -0.4, 0.])\n",
    "\n",
    "# plant.SetFreeBodyPose(mutable_context, plant.GetBodyByName(\"table_top_link\"), X_W_table)\n",
    "\n",
    "# move the box a bit relative to the table-top\n",
    "X_table_box = RigidTransform(RollPitchYaw(np.asarray([0, 0, 0]) * np.pi / 180), p=[0.1, -0.2, 0.])\n",
    "X_W_table_dummy = table_top_frame.CalcPoseInWorld(mutable_context)\n",
    "X_W_box = X_W_table_dummy.multiply(X_table_box)\n",
    "plant.SetFreeBodyPose(mutable_context, box_body_frame, X_W_box)"
   ]
  },
  {
   "cell_type": "code",
   "execution_count": 7,
   "id": "a1ecad6a-0cd0-4c2f-afa5-83218dbdbded",
   "metadata": {},
   "outputs": [
    {
     "name": "stderr",
     "output_type": "stream",
     "text": [
      "INFO:drake:Meshcat listening for connections at http://localhost:7001\n"
     ]
    }
   ],
   "source": [
    "meshcat = StartMeshcat()\n",
    "# not yet publish any context for visualization"
   ]
  },
  {
   "cell_type": "code",
   "execution_count": 8,
   "id": "97588c47-7f67-4e1d-b49f-3914fae40493",
   "metadata": {},
   "outputs": [],
   "source": [
    "# Need this because a==b returns True even if a = AutoDiffXd(1, [1, 2]), b= AutoDiffXd(2, [3, 4])\n",
    "# That's the behavior of AutoDiffXd in C++, also.\n",
    "def autoDiffArrayEqual(a,b):\n",
    "    return np.array_equal(a, b) and np.array_equal(ExtractGradient(a), ExtractGradient(b))"
   ]
  },
  {
   "cell_type": "code",
   "execution_count": 9,
   "id": "46e609aa-2ff3-4440-a97d-5255cc5410de",
   "metadata": {},
   "outputs": [],
   "source": [
    "from pydrake.all import (AutoDiffXd, ExtractGradient)\n",
    "import numpy as np\n",
    "a = AutoDiffXd(1, [1, 2])\n",
    "b = AutoDiffXd(2, [3, 4]) "
   ]
  },
  {
   "cell_type": "code",
   "execution_count": 10,
   "id": "ff7b5819-9195-47eb-8c28-b013698621ce",
   "metadata": {},
   "outputs": [],
   "source": [
    "N = 100"
   ]
  },
  {
   "cell_type": "code",
   "execution_count": 11,
   "id": "c4d25cc7-bcac-4ed6-ad62-3fc5478fbb15",
   "metadata": {},
   "outputs": [],
   "source": [
    "\"\"\"\n",
    "one default context of the diagram per time step and each corresponds to one plant context? \n",
    "It this needed?\n",
    "To use SceneGraph, the plant context need to be derived from diagram\n",
    "\"\"\"\n",
    "\n",
    "# Create one context per timestep to maximize cache hits\n",
    "context_list = [diagram.CreateDefaultContext() for i in range(N)] \n",
    "plant_context_list = [plant.GetMyContextFromRoot(context_list[i]) for i in range(N)]\n",
    "\n",
    "#or just:\n",
    "# plant_context_list = [plant.CreateDefaultContext() for i in range(N)]"
   ]
  },
  {
   "cell_type": "code",
   "execution_count": 12,
   "id": "f4a2182e-9c5b-49f5-9d56-619e04c001a0",
   "metadata": {},
   "outputs": [],
   "source": [
    "# convert to AutoDiff compatible\n",
    "ad_diagram = diagram.ToAutoDiffXd()\n",
    "ad_plant = ad_diagram.GetSubsystemByName(\"table_with_box\")"
   ]
  },
  {
   "cell_type": "code",
   "execution_count": 13,
   "id": "89a1edb4-6202-4524-ba1f-119b2a6679f1",
   "metadata": {},
   "outputs": [],
   "source": [
    "# create new AutoDiff context to maximize cache hits\n",
    "\"\"\" To use SceneGraph, the plant context need to be derived from diagram \"\"\"\n",
    "ad_context_list = [ad_diagram.CreateDefaultContext() for i in range(N)]\n",
    "ad_plant_context_list = [ad_plant.GetMyContextFromRoot(ad_context_list[i]) for i in range(N)]"
   ]
  },
  {
   "cell_type": "code",
   "execution_count": 14,
   "id": "c21445d6-e1e1-4d44-88f0-99d0607a66a4",
   "metadata": {},
   "outputs": [
    {
     "name": "stdout",
     "output_type": "stream",
     "text": [
      "The box's mass is: 0.411\n",
      "\n",
      "The gravity vector is: [ 0.    0.   -9.81]\n",
      "\n"
     ]
    }
   ],
   "source": [
    "# the context here is the very first one \n",
    "\"\"\" Notices here the box is an list of pydrake.multibody.tree.ModelInstanceIndex after parser.AddModels(...) \"\"\"\n",
    "total_mass = sum(plant.get_body(index).get_mass(context) for index in plant.GetBodyIndices(box))\n",
    "gravity = plant.gravity_field().gravity_vector()\n",
    "\n",
    "print(f\"The box's mass is: {total_mass}\\n\")\n",
    "print(f\"The gravity vector is: {gravity}\\n\")"
   ]
  },
  {
   "cell_type": "code",
   "execution_count": 15,
   "id": "e89b3d06-393a-4f81-9320-2903c7037f5e",
   "metadata": {},
   "outputs": [
    {
     "name": "stdout",
     "output_type": "stream",
     "text": [
      "h_var has type: <class 'numpy.ndarray'>, and shape: (99,)\n",
      "\n",
      "h_var[0] has type: <class 'pydrake.symbolic.Variable'>\n",
      "\n"
     ]
    }
   ],
   "source": [
    "# time step constraint\n",
    "T = 0.5\n",
    "prog = MathematicalProgram()\n",
    "\n",
    "# time steps\n",
    "h_var = prog.NewContinuousVariables(N-1, \"h\")\n",
    "print(f\"h_var has type: {type(h_var)}, and shape: {h_var.shape}\\n\")\n",
    "print(f\"h_var[0] has type: {type(h_var[0])}\\n\")"
   ]
  },
  {
   "cell_type": "code",
   "execution_count": 16,
   "id": "229f7dad-e137-4b8b-9413-e20fe7d6de97",
   "metadata": {},
   "outputs": [],
   "source": [
    "# constraints on time\n",
    "prog.AddBoundingBoxConstraint([0.5*T/(N-1)]*(N-1), [2.0*T/(N-1)]*(N-1), h_var)\n",
    "prog.AddLinearConstraint(sum(h_var) >= 0.9*T)\n",
    "prog.AddLinearConstraint(sum(h_var) <= 1.5*T)\n",
    "prog.SetInitialGuess(h_var, [T/(N-1)]*(N-1))"
   ]
  },
  {
   "cell_type": "code",
   "execution_count": 17,
   "id": "eeab0593-1fc9-4bcf-ade0-0afb7c97813d",
   "metadata": {},
   "outputs": [],
   "source": [
    "# constraints on q, v, vdot\n",
    "nq_o = plant.num_positions(box)\n",
    "nv_o = plant.num_velocities(box)\n",
    "\n",
    "# the return type of prog.NewContinuousVariables() is numpy.ndarray\n",
    "q_o_vars = prog.NewContinuousVariables(nq_o, N, \"q_o\") # [row, col]: [nq_o, N]\n",
    "v_o_vars = prog.NewContinuousVariables(nv_o, N, \"v_o\")\n",
    "vdot_vars = prog.NewContinuousVariables(nv_o, N-1, \"vdot_o\") # same dim as defects because this will be integrated over each interval"
   ]
  },
  {
   "cell_type": "code",
   "execution_count": 18,
   "id": "c8714dd1-be10-480d-b360-e590bded1e4b",
   "metadata": {},
   "outputs": [
    {
     "name": "stdout",
     "output_type": "stream",
     "text": [
      "The box initial q is: [ 1.   0.   0.   0.   0.1 -0.2  0. ] \n",
      "\n",
      "The box initial v is: [0. 0. 0. 0. 0. 0.] \n",
      "\n"
     ]
    },
    {
     "data": {
      "text/plain": [
       "numpy.ndarray"
      ]
     },
     "execution_count": 18,
     "metadata": {},
     "output_type": "execute_result"
    }
   ],
   "source": [
    "# intial constraint\n",
    "q0_o = plant.GetPositions(mutable_context, box)\n",
    "v0_o = plant.GetVelocities(mutable_context, box)\n",
    "\n",
    "print(f\"The box initial q is: {q0_o} \\n\")\n",
    "print(f\"The box initial v is: {v0_o} \\n\")\n",
    "type(q0_o)"
   ]
  },
  {
   "cell_type": "code",
   "execution_count": 19,
   "id": "0fc21ce2-192c-4dd8-82bb-81a136714149",
   "metadata": {},
   "outputs": [
    {
     "data": {
      "text/plain": [
       "<pydrake.solvers.Binding𝓣BoundingBoxConstraint𝓤 at 0x16e19aa30>"
      ]
     },
     "execution_count": 19,
     "metadata": {},
     "output_type": "execute_result"
    }
   ],
   "source": [
    "# set init v and vdot if needed\n",
    "vdot0_o = np.array([0., 0., 0., 0., 0., -9.81]) # \n",
    "v0_o = np.array([0., 0., 0., 0., 0., 0.]) # twist [wx, wy, wz, vx, vy, vz]\n",
    "\n",
    "# set box constraints on the initial states\n",
    "prog.AddBoundingBoxConstraint(q0_o, q0_o, q_o_vars[:, 0]) # at t = 0\n",
    "prog.AddBoundingBoxConstraint(v0_o, v0_o, v_o_vars[:, 0]) # at t = 0"
   ]
  },
  {
   "cell_type": "code",
   "execution_count": 20,
   "id": "a1e5f302-d51f-4df4-9ea6-eda0af311dc8",
   "metadata": {},
   "outputs": [],
   "source": [
    "# add unit quaternion constraint for each time point\n",
    "for i in range(N):\n",
    "    \"\"\" This constraint is added to the generalized positions not just the rotation part?? Double check this in C++ \"\"\"\n",
    "    AddUnitQuaternionConstraintOnPlant(plant, q_o_vars[:, i], prog)"
   ]
  },
  {
   "cell_type": "code",
   "execution_count": 21,
   "id": "4cc2b9da-2dff-4bbf-9fbd-f37515a80e31",
   "metadata": {},
   "outputs": [
    {
     "data": {
      "text/plain": [
       "(7, 100)"
      ]
     },
     "execution_count": 21,
     "metadata": {},
     "output_type": "execute_result"
    }
   ],
   "source": [
    "q_o_vars.shape"
   ]
  },
  {
   "cell_type": "code",
   "execution_count": 23,
   "id": "5cec19d1-c42f-4962-a3c8-d94ba2b828cf",
   "metadata": {},
   "outputs": [
    {
     "data": {
      "text/plain": [
       "7"
      ]
     },
     "execution_count": 23,
     "metadata": {},
     "output_type": "execute_result"
    }
   ],
   "source": [
    "plant.num_positions() # after fixing the table to world, this drops from 14 to 7"
   ]
  },
  {
   "cell_type": "code",
   "execution_count": 29,
   "id": "92291dfd-b3e6-4f75-93f3-d3505deba498",
   "metadata": {},
   "outputs": [
    {
     "name": "stdout",
     "output_type": "stream",
     "text": [
      "Total: 1 floating bodies in the world\n"
     ]
    }
   ],
   "source": [
    "floating_bodies = plant.GetFloatingBaseBodies() # this returns a python set\n",
    "print(f\"Total: {len(floating_bodies)} floating bodies in the world\")"
   ]
  },
  {
   "cell_type": "markdown",
   "id": "4e71b130-e8a7-4c67-827f-f3159aa0fa5c",
   "metadata": {},
   "source": []
  }
 ],
 "metadata": {
  "kernelspec": {
   "display_name": "Python 3 (ipykernel)",
   "language": "python",
   "name": "python3"
  },
  "language_info": {
   "codemirror_mode": {
    "name": "ipython",
    "version": 3
   },
   "file_extension": ".py",
   "mimetype": "text/x-python",
   "name": "python",
   "nbconvert_exporter": "python",
   "pygments_lexer": "ipython3",
   "version": "3.11.6"
  }
 },
 "nbformat": 4,
 "nbformat_minor": 5
}
