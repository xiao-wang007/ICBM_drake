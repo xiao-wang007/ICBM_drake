{
 "cells": [
  {
   "cell_type": "markdown",
   "id": "2b9be40c-5527-4f43-9341-875651ee76be",
   "metadata": {},
   "source": [
    "# class drake::geometry::QueryObject< T >"
   ]
  },
  {
   "cell_type": "code",
   "execution_count": 1,
   "id": "6858526c-970e-43f6-afcc-1e9df506af9b",
   "metadata": {},
   "outputs": [],
   "source": [
    "# Import some basic libraries and functions for this tutorial.\n",
    "import numpy as np\n",
    "import os\n",
    "\n",
    "from pydrake.common import temp_directory\n",
    "from pydrake.geometry import StartMeshcat\n",
    "from pydrake.math import RigidTransform, RollPitchYaw, RotationMatrix\n",
    "from pydrake.multibody.parsing import Parser\n",
    "from pydrake.multibody.plant import AddMultibodyPlantSceneGraph\n",
    "from pydrake.systems.analysis import Simulator\n",
    "from pydrake.systems.framework import DiagramBuilder\n",
    "from pydrake.visualization import AddDefaultVisualization, ModelVisualizer\n",
    "from pydrake.all import (\n",
    "    AddMultibodyPlantSceneGraph, DiagramBuilder, \n",
    "    FindResourceOrThrow, GenerateHtml, InverseDynamicsController, \n",
    "    MultibodyPlant, Parser, Simulator)\n",
    "from pydrake.multibody.jupyter_widgets import MakeJointSlidersThatPublishOnCallback\n",
    "import pydrake\n",
    "from pydrake import geometry\n",
    "from pydrake.math import RigidTransform, RollPitchYaw, RotationMatrix \n",
    "from pydrake.solvers import MathematicalProgram, Solve\n",
    "from pydrake.systems.jupyter_widgets import PoseSliders, WidgetSystem\n",
    "from ipywidgets import ToggleButton, ToggleButtons\n",
    "from functools import partial\n",
    "from pydrake.all import (\n",
    "    JointIndex, PiecewisePolynomial, JacobianWrtVariable,\n",
    "    eq, ge,  AutoDiffXd, SnoptSolver, IpoptSolver,  \n",
    "    AddUnitQuaternionConstraintOnPlant, PositionConstraint, OrientationConstraint\n",
    "    )"
   ]
  },
  {
   "cell_type": "code",
   "execution_count": 2,
   "id": "39d0ade5-41cf-4e1a-84f2-ea4b6a9a7f81",
   "metadata": {},
   "outputs": [],
   "source": [
    "h = 1e-3\n",
    "builder = DiagramBuilder()\n",
    "plant, scene_graph = AddMultibodyPlantSceneGraph(builder, time_step=h)\n",
    "parser = Parser(plant)"
   ]
  },
  {
   "cell_type": "code",
   "execution_count": 3,
   "id": "827c0c20-fd33-4201-add3-fb7a345e78ae",
   "metadata": {},
   "outputs": [],
   "source": [
    "dir1 = \"/Users/xiao/0_codes/ICBM_drake/models/objects\"\n",
    "dir2 = \"/Users/xiao/0_codes/ICBM_drake/models/ycb/sdf/\"\n",
    "table_file = os.path.join(dir1, \"table_top.sdf\")\n",
    "panda_file = \"/Users/xiao/0_codes/ICBM_drake/models/franka_description/urdf/panda_arm_hand.urdf\"\n",
    "box_file = os.path.join(dir2, \"003_cracker_box.sdf\")\n",
    "table_modelInstance = parser.AddModels(table_file)[0]  # this return pydrake.multibody.tree.ModelInstanceIndex\n",
    "panda_modelInstance = parser.AddModels(panda_file)[0]\n",
    "box_modelInstance = parser.AddModels(box_file)[0]\n",
    "\n",
    "table_top_frame = plant.GetFrameByName(\"table_top_center\")\n",
    "robot_base = plant.GetFrameByName(\"panda_link0\")\n",
    "\n",
    "X_W_table = RigidTransform(\n",
    "  R=RotationMatrix([\n",
    "    [1.0, 0.0, 0.0],\n",
    "    [0.0, 1.0, 0.0],\n",
    "    [0.0, 0.0, 1.0],]),\n",
    "  p=[0.0, 0.0, 0.0]\n",
    ")\n",
    "\n",
    "plant.WeldFrames(plant.world_frame(), table_top_frame, X_W_table)\n",
    "plant.WeldFrames(table_top_frame, robot_base, RigidTransform(RotationMatrix.Identity(), [0., -0.4, 0.]))\n",
    "plant.Finalize()\n",
    "plant.set_name(\"table_with_box\")\n",
    "diagram = builder.Build()\n",
    "context = diagram.CreateDefaultContext()\n",
    "mutable_context = plant.GetMyContextFromRoot(context)"
   ]
  },
  {
   "cell_type": "markdown",
   "id": "0ca1444e-ddda-480e-a74a-ed7a5f30985a",
   "metadata": {},
   "source": [
    "<div class=\"alert alert-block alert-success\">\n",
    "<b>Querying the scene geometry based on context at $t_k$:</b> 1. create mutable_contexts from root_context for each time step; 2. at $t_k$, using its corresponding mutable_context to create a query_port; 3. create query_object, which has some useful member functions; 4. create the inspector = query_object.inspector() to extract informations from the scene geometries.\n",
    "</div>"
   ]
  },
  {
   "cell_type": "code",
   "execution_count": 5,
   "id": "a5028043-ed33-40ea-809b-847af3a4f113",
   "metadata": {},
   "outputs": [],
   "source": [
    "query_port = plant.get_geometry_query_input_port()"
   ]
  },
  {
   "cell_type": "code",
   "execution_count": 9,
   "id": "e33f04e1-eabf-4be8-a4ec-0734b67bdc3f",
   "metadata": {},
   "outputs": [],
   "source": [
    "if query_port.HasValue(mutable_context):\n",
    "    query_object = query_port.Eval(mutable_context)"
   ]
  },
  {
   "cell_type": "code",
   "execution_count": 10,
   "id": "ab6aeed3-c39d-4d49-9adc-c5ae767bdb5f",
   "metadata": {},
   "outputs": [],
   "source": [
    "signed_distance_pairs = query_object.ComputeSignedDistancePairwiseClosestPoints()"
   ]
  },
  {
   "cell_type": "code",
   "execution_count": 26,
   "id": "6aff48ae-bfb9-457a-91ad-f529aeb7677f",
   "metadata": {},
   "outputs": [
    {
     "name": "stdout",
     "output_type": "stream",
     "text": [
      "2165\n"
     ]
    }
   ],
   "source": [
    "print(len(signed_distance_pairs))"
   ]
  },
  {
   "cell_type": "code",
   "execution_count": 16,
   "id": "a8dab5d9-9664-43f5-a4f4-7aefa07ce3fd",
   "metadata": {},
   "outputs": [
    {
     "name": "stdout",
     "output_type": "stream",
     "text": [
      "<GeometryId value=21>\n",
      "<GeometryId value=282>\n"
     ]
    }
   ],
   "source": [
    "print(signed_distance_pairs[0].id_A)\n",
    "print(signed_distance_pairs[0].id_B)"
   ]
  },
  {
   "cell_type": "code",
   "execution_count": 23,
   "id": "41f5eb78-d54e-47b4-ac45-c206c98d8675",
   "metadata": {},
   "outputs": [],
   "source": [
    "# using the inspector to get info on the pairs\n",
    "inspector = query_object.inspector()\n",
    "frameA_id = inspector.GetFrameId(signed_distance_pairs[0].id_A)\n",
    "frameB_id = inspector.GetFrameId(signed_distance_pairs[1].id_B)\n",
    "\n",
    "bodyA = plant.GetBodyFromFrameId(frameA_id)\n",
    "bodyB = plant.GetBodyFromFrameId(frameB_id)"
   ]
  },
  {
   "cell_type": "code",
   "execution_count": 24,
   "id": "9beb68d1-f5bf-4c44-8378-008d2b9b204c",
   "metadata": {},
   "outputs": [
    {
     "data": {
      "text/plain": [
       "pydrake.multibody.tree.RigidBody"
      ]
     },
     "execution_count": 24,
     "metadata": {},
     "output_type": "execute_result"
    }
   ],
   "source": [
    "type(bodyA)"
   ]
  },
  {
   "cell_type": "code",
   "execution_count": 27,
   "id": "17152cce-765c-4964-815e-c6964581dfd3",
   "metadata": {
    "scrolled": true
   },
   "outputs": [
    {
     "name": "stdout",
     "output_type": "stream",
     "text": [
      "<RigidBody name='table_top_link' index=1 model_instance=2>\n",
      "<RigidBody name='base_link_cracker' index=14 model_instance=4>\n"
     ]
    }
   ],
   "source": [
    "print(bodyA)\n",
    "print(bodyB)"
   ]
  },
  {
   "cell_type": "markdown",
   "id": "af3c426d-77a4-41d3-81d2-a2ad5945b27b",
   "metadata": {},
   "source": [
    "__A variant of ComputeSignedDistancePairwiseClosestPoints() which computes the signed distance (and witnesses) between a specific pair of geometries indicated by id.__ "
   ]
  },
  {
   "cell_type": "code",
   "execution_count": 28,
   "id": "1e6ab1be-2348-4acb-aad1-14278c325006",
   "metadata": {},
   "outputs": [],
   "source": [
    "\"\"\"\n",
    "# This could be used for getting pairs between finger and box\n",
    "query_object.ComputeSignedDistancePairClosestPoints(GeometryId geometry_id_A,\n",
    "                                                    GeometryId geometry_id_B)\n",
    "\"\"\"                                                     \"\"\"\n",
    "# maybe use this \n",
    "query_object.ComputeSignedDistanceToPoint()\n",
    "\"\"\"\n",
    "\n",
    "# get link 7 in {W}\n",
    "link7_frame = plant.GetFrameByName(\"panda_link7\")"
   ]
  },
  {
   "cell_type": "code",
   "execution_count": 30,
   "id": "35cd9d79-236d-4f46-90f5-b2c2415eb52c",
   "metadata": {},
   "outputs": [
    {
     "name": "stdout",
     "output_type": "stream",
     "text": [
      "<BodyFrame name='panda_link7' index=11 model_instance=3>\n"
     ]
    }
   ],
   "source": [
    "print(link7_frame)"
   ]
  },
  {
   "cell_type": "code",
   "execution_count": 31,
   "id": "ec102e21-fa90-4eab-9ffa-5540b10f2db8",
   "metadata": {},
   "outputs": [
    {
     "data": {
      "text/plain": [
       "['CalcAngularVelocity',\n",
       " 'CalcOffsetPoseInBody',\n",
       " 'CalcOffsetRotationMatrixInBody',\n",
       " 'CalcPose',\n",
       " 'CalcPoseInBodyFrame',\n",
       " 'CalcPoseInWorld',\n",
       " 'CalcRelativeSpatialAcceleration',\n",
       " 'CalcRelativeSpatialAccelerationInWorld',\n",
       " 'CalcRelativeSpatialVelocity',\n",
       " 'CalcRelativeSpatialVelocityInWorld',\n",
       " 'CalcRotationMatrix',\n",
       " 'CalcRotationMatrixInBodyFrame',\n",
       " 'CalcRotationMatrixInWorld',\n",
       " 'CalcSpatialAcceleration',\n",
       " 'CalcSpatialAccelerationInWorld',\n",
       " 'CalcSpatialVelocity',\n",
       " 'CalcSpatialVelocityInWorld',\n",
       " 'EvalAngularVelocityInWorld',\n",
       " 'GetFixedOffsetPoseInBody',\n",
       " 'GetFixedPoseInBodyFrame',\n",
       " 'GetFixedRotationMatrixInBody',\n",
       " 'GetFixedRotationMatrixInBodyFrame',\n",
       " 'GetParentPlant',\n",
       " '__class__',\n",
       " '__del__',\n",
       " '__delattr__',\n",
       " '__dir__',\n",
       " '__doc__',\n",
       " '__eq__',\n",
       " '__format__',\n",
       " '__ge__',\n",
       " '__getattribute__',\n",
       " '__getstate__',\n",
       " '__gt__',\n",
       " '__hash__',\n",
       " '__init__',\n",
       " '__init_subclass__',\n",
       " '__le__',\n",
       " '__lt__',\n",
       " '__module__',\n",
       " '__ne__',\n",
       " '__new__',\n",
       " '__reduce__',\n",
       " '__reduce_ex__',\n",
       " '__repr__',\n",
       " '__setattr__',\n",
       " '__sizeof__',\n",
       " '__str__',\n",
       " '__subclasshook__',\n",
       " '_pybind11_del_orig',\n",
       " 'body',\n",
       " 'index',\n",
       " 'is_body_frame',\n",
       " 'is_world_frame',\n",
       " 'model_instance',\n",
       " 'name',\n",
       " 'scoped_name']"
      ]
     },
     "execution_count": 31,
     "metadata": {},
     "output_type": "execute_result"
    }
   ],
   "source": [
    "dir(link7_frame)"
   ]
  },
  {
   "cell_type": "code",
   "execution_count": 35,
   "id": "bdaeb9e2-f44b-4e11-92d8-ce75645fee21",
   "metadata": {},
   "outputs": [
    {
     "data": {
      "text/plain": [
       "RigidTransform(\n",
       "  R=RotationMatrix([\n",
       "    [1.0, 0.0, 0.0],\n",
       "    [0.0, 1.0, 0.0],\n",
       "    [0.0, 0.0, 1.0],\n",
       "  ]),\n",
       "  p=[0.0, 0.0, 0.0],\n",
       ")"
      ]
     },
     "execution_count": 35,
     "metadata": {},
     "output_type": "execute_result"
    }
   ],
   "source": [
    "link7_frame.CalcPoseInBodyFrame(mutable_context)"
   ]
  },
  {
   "cell_type": "code",
   "execution_count": 37,
   "id": "3dcea77a-81d0-44ef-86a9-f23f081c58b6",
   "metadata": {},
   "outputs": [
    {
     "data": {
      "text/plain": [
       "RigidTransform(\n",
       "  R=RotationMatrix([\n",
       "    [1.0, 0.0, 0.0],\n",
       "    [0.0, -1.0, -9.793177720293495e-12],\n",
       "    [0.0, 9.793177720293495e-12, -1.0],\n",
       "  ]),\n",
       "  p=[0.088, -0.39999999999966707, 1.033],\n",
       ")"
      ]
     },
     "execution_count": 37,
     "metadata": {},
     "output_type": "execute_result"
    }
   ],
   "source": [
    "link7_frame.CalcPoseInWorld(mutable_context)"
   ]
  },
  {
   "cell_type": "markdown",
   "id": "5941e45a-0057-4d9a-b96d-e50f5ba39478",
   "metadata": {},
   "source": [
    "<div class=\"alert alert-block alert-success\">\n",
    "<b>I know what to do next!!:</b> Manually choose a point on the finger in {link8}. Then manually choose three points of the box to give surface normal. Something useful relevant to contact constraints: https://drake.mit.edu/doxygen_cxx/group__contact__surface__constraints.html\n",
    "</div>"
   ]
  },
  {
   "cell_type": "markdown",
   "id": "c3cf123e-d9c9-4767-81b7-f4114bfcc7e6",
   "metadata": {},
   "source": [
    "__this will be useful!__ #include \"drake/geometry/proximity/calc_distance_to_surface_mesh.h\" and \"proximity_utilities.h\" These are what I will be doing manually."
   ]
  },
  {
   "cell_type": "code",
   "execution_count": 41,
   "id": "96fa350d-83e1-4d7f-bc63-c38dcd7b269a",
   "metadata": {},
   "outputs": [
    {
     "name": "stdout",
     "output_type": "stream",
     "text": [
      "box fram in W: RigidTransform(\n",
      "  R=RotationMatrix([\n",
      "    [1.0, 0.0, 0.0],\n",
      "    [0.0, 1.0, 0.0],\n",
      "    [0.0, 0.0, 1.0],\n",
      "  ]),\n",
      "  p=[0.0, 0.0, 0.0],\n",
      ")\n"
     ]
    }
   ],
   "source": [
    "box_frame = plant.GetFrameByName(\"base_link_cracker\")\n",
    "print(f\"box fram in W: {box_frame.CalcPoseInWorld(mutable_context)}\")"
   ]
  },
  {
   "cell_type": "code",
   "execution_count": 43,
   "id": "a866e931-6679-4b93-b03c-a175fa8f3a34",
   "metadata": {},
   "outputs": [
    {
     "data": {
      "text/plain": [
       "ModelInstanceIndex(3)"
      ]
     },
     "execution_count": 43,
     "metadata": {},
     "output_type": "execute_result"
    }
   ],
   "source": [
    "panda_modelInstance"
   ]
  },
  {
   "cell_type": "code",
   "execution_count": 44,
   "id": "f1816b28-2985-48e0-ac60-39ad49fcea82",
   "metadata": {},
   "outputs": [
    {
     "data": {
      "text/plain": [
       "<BodyFrame name='world' index=0 model_instance=0>"
      ]
     },
     "execution_count": 44,
     "metadata": {},
     "output_type": "execute_result"
    }
   ],
   "source": [
    "plant.world_frame()"
   ]
  },
  {
   "cell_type": "code",
   "execution_count": 47,
   "id": "818a7d78-d66b-40dd-8d08-9c18247f9c86",
   "metadata": {},
   "outputs": [
    {
     "data": {
      "text/plain": [
       "RigidTransform(\n",
       "  R=RotationMatrix([\n",
       "    [1.0, 0.0, 0.0],\n",
       "    [0.0, 1.0, 0.0],\n",
       "    [0.0, 0.0, 1.0],\n",
       "  ]),\n",
       "  p=[0.0, 0.0, 0.0],\n",
       ")"
      ]
     },
     "execution_count": 47,
     "metadata": {},
     "output_type": "execute_result"
    }
   ],
   "source": [
    "plant.world_frame().CalcPoseInWorld(mutable_context)"
   ]
  },
  {
   "cell_type": "code",
   "execution_count": 301,
   "id": "20e3fe7d-60b9-4ae7-bc27-b83470ccfeeb",
   "metadata": {},
   "outputs": [],
   "source": [
    "# a function to extract collision points from the box\n",
    "def getPointsFromCollisionBox(modelfile):\n",
    "    points = []\n",
    "    with open(modelfile, 'r') as f:\n",
    "        model_file = f.read()\n",
    "    model_data = bs(model_file, \"xml\")\n",
    "    box_collision_points = model_data.find_all('collision') # this gathers all <collision> tags in the model.\n",
    "    # print(box_collision_points)\n",
    "    for ele in box_collision_points:\n",
    "        if ele[\"name\"].split('_')[0] == \"point\":\n",
    "            coords = ele.text.strip().split(' ')\n",
    "            points.append([coords[0], coords[1], coords[2]])\n",
    "    return np.array(points).astype(float)\n",
    "    \n",
    "points = getPointsFromCollisionBox(box_file)"
   ]
  },
  {
   "cell_type": "code",
   "execution_count": 303,
   "id": "147fb14f-607d-49b4-844f-1f2268f6dca7",
   "metadata": {},
   "outputs": [
    {
     "data": {
      "text/plain": [
       "numpy.ndarray"
      ]
     },
     "execution_count": 303,
     "metadata": {},
     "output_type": "execute_result"
    }
   ],
   "source": [
    "type(points)"
   ]
  },
  {
   "cell_type": "code",
   "execution_count": null,
   "id": "35810e13-00cc-48e5-9511-3002ce2b2e8a",
   "metadata": {},
   "outputs": [],
   "source": []
  }
 ],
 "metadata": {
  "kernelspec": {
   "display_name": "Python 3 (ipykernel)",
   "language": "python",
   "name": "python3"
  },
  "language_info": {
   "codemirror_mode": {
    "name": "ipython",
    "version": 3
   },
   "file_extension": ".py",
   "mimetype": "text/x-python",
   "name": "python",
   "nbconvert_exporter": "python",
   "pygments_lexer": "ipython3",
   "version": "3.11.6"
  }
 },
 "nbformat": 4,
 "nbformat_minor": 5
}
