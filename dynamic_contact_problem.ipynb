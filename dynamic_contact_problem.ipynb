{
 "cells": [
  {
   "cell_type": "code",
   "execution_count": 1,
   "id": "7b63917a-9f54-4029-8d52-f0260ae76b5d",
   "metadata": {},
   "outputs": [
    {
     "name": "stdout",
     "output_type": "stream",
     "text": [
      "Check!\n"
     ]
    }
   ],
   "source": [
    "# Import some basic libraries and functions for this tutorial.\n",
    "import numpy as np\n",
    "import os\n",
    "\n",
    "from pydrake.common import temp_directory\n",
    "from pydrake.geometry import StartMeshcat\n",
    "from pydrake.math import RigidTransform, RollPitchYaw, RotationMatrix\n",
    "from pydrake.multibody.parsing import Parser\n",
    "from pydrake.multibody.plant import AddMultibodyPlantSceneGraph\n",
    "from pydrake.systems.analysis import Simulator\n",
    "from pydrake.systems.framework import DiagramBuilder\n",
    "from pydrake.visualization import AddDefaultVisualization, ModelVisualizer\n",
    "\n",
    "print(\"Check!\")"
   ]
  },
  {
   "cell_type": "code",
   "execution_count": 2,
   "id": "ffa2c6b6-c3c4-4ca1-bb88-23efca6c1716",
   "metadata": {},
   "outputs": [
    {
     "name": "stdout",
     "output_type": "stream",
     "text": [
      "Check!\n"
     ]
    }
   ],
   "source": [
    "from pydrake.all import (\n",
    "    AddMultibodyPlantSceneGraph, DiagramBuilder, \n",
    "    FindResourceOrThrow, GenerateHtml, InverseDynamicsController, \n",
    "    MultibodyPlant, Parser, Simulator)\n",
    "from pydrake.multibody.jupyter_widgets import MakeJointSlidersThatPublishOnCallback\n",
    "import pydrake\n",
    "from pydrake import geometry\n",
    "from pydrake.math import RigidTransform, RollPitchYaw, RotationMatrix \n",
    "from pydrake.solvers import MathematicalProgram, Solve\n",
    "from pydrake.systems.jupyter_widgets import PoseSliders, WidgetSystem\n",
    "from ipywidgets import ToggleButton, ToggleButtons\n",
    "from functools import partial\n",
    "from pydrake.all import (\n",
    "    JointIndex, PiecewisePolynomial, JacobianWrtVariable,\n",
    "    eq, ge,  AutoDiffXd, SnoptSolver, IpoptSolver,  \n",
    "    AddUnitQuaternionConstraintOnPlant, PositionConstraint, OrientationConstraint\n",
    "    )\n",
    "print(\"Check!\")"
   ]
  },
  {
   "cell_type": "markdown",
   "id": "713887ae-bbb8-45c3-870e-c0da52b0fd95",
   "metadata": {},
   "source": [
    "from pydrake.all import (\n",
    "    autoDiffToGradientMatrix, initializeAutoDiffGivenGradientMatrix, autoDiffToValueMatrix, autoDiffToGradientMatrix)\n",
    "\n",
    "**These imports seem to be renovated, should have equivalent. Do check!** "
   ]
  },
  {
   "cell_type": "code",
   "execution_count": 3,
   "id": "aefd51d4-9cd5-486a-bb00-77a7c77bcdf5",
   "metadata": {},
   "outputs": [],
   "source": [
    "h = 1e-3\n",
    "builder = DiagramBuilder()\n",
    "plant, scene_graph = AddMultibodyPlantSceneGraph(builder, time_step=h)\n",
    "parser = Parser(plant)"
   ]
  },
  {
   "cell_type": "code",
   "execution_count": 4,
   "id": "20b735f4-bb3d-4224-9954-86168ca8a1d7",
   "metadata": {},
   "outputs": [
    {
     "data": {
      "text/plain": [
       "'\\n# This is explicitly fixing the table to world frame. What happens if it is not\\n# explicitly fixed here but \"not publishing to update its state\" ?? See later sections.  \\n\\n# fix the centre of table to world\\ntable_body_frame = plant.GetFrameByName(\"table_top_center\")\\nplant.WeldFrames(plant.world_frame(), table_body_frame) \\n'"
      ]
     },
     "execution_count": 4,
     "metadata": {},
     "output_type": "execute_result"
    }
   ],
   "source": [
    "table_dir = (\"/Users/xiao/0_codes/usingDrake/models/objects\")\n",
    "block_dir = (\"/Users/xiao/0_codes/usingDrake/models/ycb/sdf/\")\n",
    "table_file = os.path.join(table_dir, \"table_top.sdf\")\n",
    "block_file = os.path.join(block_dir, \"003_cracker_box.sdf\")\n",
    "\n",
    "# add table \n",
    "table = parser.AddModels(table_file)\n",
    "box = parser.AddModels(block_file)\n",
    "\n",
    "\"\"\"\n",
    "# This is explicitly fixing the table to world frame. What happens if it is not\n",
    "# explicitly fixed here but \"not publishing to update its state\" ?? See later sections.  \n",
    "\n",
    "# fix the centre of table to world\n",
    "table_body_frame = plant.GetFrameByName(\"table_top_center\")\n",
    "plant.WeldFrames(plant.world_frame(), table_body_frame) \n",
    "\"\"\""
   ]
  },
  {
   "cell_type": "code",
   "execution_count": 5,
   "id": "0d060569-5cc3-4b34-abc6-711f4fb554a1",
   "metadata": {},
   "outputs": [],
   "source": [
    "plant.Finalize()\n",
    "plant.set_name(\"table_with_box\")"
   ]
  },
  {
   "cell_type": "code",
   "execution_count": 6,
   "id": "8d51a23c-6f48-4544-ad24-4ab026da1738",
   "metadata": {},
   "outputs": [
    {
     "name": "stdout",
     "output_type": "stream",
     "text": [
      "box_body_frame is <RigidBody name='base_link_cracker' index=2 model_instance=3> \n",
      "\n",
      "box_body_id is <FrameId value=23>\n"
     ]
    }
   ],
   "source": [
    "# get free body box's frame and its id in the plant\n",
    "box_body_frame = plant.GetBodyByName(\"base_link_cracker\")\n",
    "box_body_id = plant.GetBodyFrameIdIfExists(box_body_frame.index())\n",
    "print(f\"box_body_frame is {box_body_frame} \\n\")\n",
    "print(f\"box_body_id is {box_body_id}\")"
   ]
  },
  {
   "cell_type": "code",
   "execution_count": 7,
   "id": "2e21a00b-fef1-4df2-b2cc-36bf6986a565",
   "metadata": {},
   "outputs": [],
   "source": [
    "draw_frames = True\n",
    "frames_to_draw = [box_body_id] if draw_frames else []"
   ]
  },
  {
   "cell_type": "code",
   "execution_count": 8,
   "id": "d3105438-674d-472c-9285-5a2ad132cdb3",
   "metadata": {},
   "outputs": [],
   "source": [
    "# now build the diagram\n",
    "diagram = builder.Build()\n",
    "\n",
    "# create the default diagram's context \n",
    "context = diagram.CreateDefaultContext()\n",
    "\n",
    "# get the mutable context for updates\n",
    "mutable_context = plant.GetMyContextFromRoot(context) # seems equivalent to .GetMyMutableContextFromRoot()\n",
    "\n",
    "# move the table for a bit\n",
    "X_W_table = RigidTransform(RotationMatrix.Identity(), [0., -0.4, 0.])\n",
    "plant.SetFreeBodyPose(mutable_context, plant.GetBodyByName(\"table_top_link\"), X_W_table)\n",
    "\n",
    "# move the box a bit relative to the table-top\n",
    "X_table_box = RigidTransform(RollPitchYaw(np.asarray([0, 0, 0]) * np.pi / 180), p=[0.1, -0.2, 0.])\n",
    "\n",
    "# get table-top frame in the world, here the dummy is for getting familiar with Drake\n",
    "table_top_frame = plant.GetFrameByName(\"table_top_center\")\n",
    "X_W_table_dummy = table_top_frame.CalcPoseInWorld(mutable_context)\n",
    "X_W_box = X_W_table_dummy.multiply(X_table_box)\n",
    "plant.SetFreeBodyPose(mutable_context, box_body_frame, X_W_box)"
   ]
  },
  {
   "cell_type": "code",
   "execution_count": 10,
   "id": "a1ecad6a-0cd0-4c2f-afa5-83218dbdbded",
   "metadata": {},
   "outputs": [
    {
     "name": "stderr",
     "output_type": "stream",
     "text": [
      "INFO:drake:Meshcat listening for connections at http://localhost:7002\n"
     ]
    }
   ],
   "source": [
    "meshcat = StartMeshcat()\n",
    "# not yet publish any context for visualization"
   ]
  },
  {
   "cell_type": "code",
   "execution_count": null,
   "id": "97588c47-7f67-4e1d-b49f-3914fae40493",
   "metadata": {},
   "outputs": [],
   "source": [
    "# Need this because a==b returns True even if a = AutoDiffXd(1, [1, 2]), b= AutoDiffXd(2, [3, 4])\n",
    "# That's the behavior of AutoDiffXd in C++, also.\n",
    "def autoDiffArrayEqual(a, b):\n",
    "    return np.array_equal(a, b) and np.array_equal(autoDiff"
   ]
  }
 ],
 "metadata": {
  "kernelspec": {
   "display_name": "Python 3 (ipykernel)",
   "language": "python",
   "name": "python3"
  },
  "language_info": {
   "codemirror_mode": {
    "name": "ipython",
    "version": 3
   },
   "file_extension": ".py",
   "mimetype": "text/x-python",
   "name": "python",
   "nbconvert_exporter": "python",
   "pygments_lexer": "ipython3",
   "version": "3.11.6"
  }
 },
 "nbformat": 4,
 "nbformat_minor": 5
}
