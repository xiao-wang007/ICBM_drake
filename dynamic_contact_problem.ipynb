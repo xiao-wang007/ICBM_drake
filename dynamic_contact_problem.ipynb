{
 "cells": [
  {
   "cell_type": "code",
   "execution_count": 3,
   "id": "7b63917a-9f54-4029-8d52-f0260ae76b5d",
   "metadata": {},
   "outputs": [
    {
     "name": "stdout",
     "output_type": "stream",
     "text": [
      "Check!\n"
     ]
    }
   ],
   "source": [
    "# Import some basic libraries and functions for this tutorial.\n",
    "import numpy as np\n",
    "import os\n",
    "\n",
    "from pydrake.common import temp_directory\n",
    "from pydrake.geometry import StartMeshcat\n",
    "from pydrake.math import RigidTransform, RollPitchYaw, RotationMatrix\n",
    "from pydrake.multibody.parsing import Parser\n",
    "from pydrake.multibody.plant import AddMultibodyPlantSceneGraph\n",
    "from pydrake.systems.analysis import Simulator\n",
    "from pydrake.systems.framework import DiagramBuilder\n",
    "from pydrake.visualization import AddDefaultVisualization, ModelVisualizer\n",
    "\n",
    "print(\"Check!\")"
   ]
  },
  {
   "cell_type": "code",
   "execution_count": 4,
   "id": "ffa2c6b6-c3c4-4ca1-bb88-23efca6c1716",
   "metadata": {},
   "outputs": [
    {
     "name": "stdout",
     "output_type": "stream",
     "text": [
      "Check!\n"
     ]
    }
   ],
   "source": [
    "from pydrake.all import (\n",
    "    AddMultibodyPlantSceneGraph, DiagramBuilder, \n",
    "    FindResourceOrThrow, GenerateHtml, InverseDynamicsController, \n",
    "    MultibodyPlant, Parser, Simulator)\n",
    "from pydrake.multibody.jupyter_widgets import MakeJointSlidersThatPublishOnCallback\n",
    "import pydrake\n",
    "from pydrake import geometry\n",
    "from pydrake.math import RigidTransform, RollPitchYaw, RotationMatrix \n",
    "from pydrake.solvers import MathematicalProgram, Solve\n",
    "from pydrake.systems.jupyter_widgets import PoseSliders, WidgetSystem\n",
    "from ipywidgets import ToggleButton, ToggleButtons\n",
    "from functools import partial\n",
    "from pydrake.all import (\n",
    "    JointIndex, PiecewisePolynomial, JacobianWrtVariable,\n",
    "    eq, ge,  AutoDiffXd, SnoptSolver, IpoptSolver,  \n",
    "    AddUnitQuaternionConstraintOnPlant, PositionConstraint, OrientationConstraint\n",
    "    )\n",
    "print(\"Check!\")"
   ]
  },
  {
   "cell_type": "markdown",
   "id": "713887ae-bbb8-45c3-870e-c0da52b0fd95",
   "metadata": {},
   "source": [
    "# 1 Setting up the scene\n",
    "#### some notes:\n",
    "\n",
    "from pydrake.all import (\n",
    "    autoDiffToGradientMatrix, initializeAutoDiffGivenGradientMatrix, autoDiffToValueMatrix, autoDiffToGradientMatrix)\n",
    "\n",
    "**These imports seem to be renovated, should have equivalent. Do check!** "
   ]
  },
  {
   "cell_type": "code",
   "execution_count": 5,
   "id": "aefd51d4-9cd5-486a-bb00-77a7c77bcdf5",
   "metadata": {},
   "outputs": [],
   "source": [
    "h = 1e-3\n",
    "builder = DiagramBuilder()\n",
    "plant, scene_graph = AddMultibodyPlantSceneGraph(builder, time_step=h)\n",
    "parser = Parser(plant)"
   ]
  },
  {
   "cell_type": "code",
   "execution_count": 6,
   "id": "1070c319-5f78-4741-ab15-410decf319c8",
   "metadata": {},
   "outputs": [
    {
     "name": "stderr",
     "output_type": "stream",
     "text": [
      "INFO:drake:PackageMap: Downloading https://github.com/RobotLocomotion/models/archive/90397c33cab9b7234d94c1018f2755bb9989c5a8.tar.gz\n"
     ]
    }
   ],
   "source": [
    "dir1 = \"/Users/xiao/0_codes/ICBM_drake/models/objects\"\n",
    "dir2 = \"/Users/xiao/0_codes/ICBM_drake/models/ycb/sdf/\"\n",
    "table_file = os.path.join(dir1, \"table_top.sdf\")\n",
    "panda_file = \"/Users/xiao/0_codes/ICBM_drake/models/franka_description/urdf/panda_arm_hand.urdf\"\n",
    "box_file = os.path.join(dir2, \"003_cracker_box.sdf\")\n",
    "\n",
    "# scene_dir = (\"/Users/xiao/0_codes/ICBM_drake/scenes/scene1\")\n",
    "# These add multiple models and returns a list\n",
    "table_modelInstance = parser.AddModels(table_file)[0]  # this return pydrake.multibody.tree.ModelInstanceIndex\n",
    "panda_modelInstance = parser.AddModels(panda_file)[0]\n",
    "box_modelInstance = parser.AddModels(box_file)[0]"
   ]
  },
  {
   "cell_type": "code",
   "execution_count": 7,
   "id": "0b2d834e-7940-4404-b312-4b65accb9e68",
   "metadata": {},
   "outputs": [
    {
     "name": "stdout",
     "output_type": "stream",
     "text": [
      "ModelInstanceIndex(2)\n",
      "<class 'pydrake.multibody.tree.ModelInstanceIndex'>\n"
     ]
    }
   ],
   "source": [
    "print(table_modelInstance)\n",
    "print(type(table_modelInstance))"
   ]
  },
  {
   "cell_type": "code",
   "execution_count": 8,
   "id": "20b735f4-bb3d-4224-9954-86168ca8a1d7",
   "metadata": {},
   "outputs": [
    {
     "name": "stdout",
     "output_type": "stream",
     "text": [
      "table_top_frame is <FixedOffsetFrame name='table_top_center' index=3 model_instance=2>\n"
     ]
    }
   ],
   "source": [
    "# get table-top frame in the world, here the dummy is for getting familiar with Drake\n",
    "table_top_frame = plant.GetFrameByName(\"table_top_center\")\n",
    "robot_base = plant.GetFrameByName(\"panda_link0\")\n",
    "\n",
    "# move the table for a bit\n",
    "X_W_table = RigidTransform(\n",
    "  R=RotationMatrix([\n",
    "    [1.0, 0.0, 0.0],\n",
    "    [0.0, 1.0, 0.0],\n",
    "    [0.0, 0.0, 1.0],]),\n",
    "  p=[0.0, 0.0, 0.0]\n",
    ") # or similar: X_W_table = RigidTransform(RotationMatrix.Identity(), [0., -0.4, 0.])\n",
    "\n",
    "plant.WeldFrames(plant.world_frame(), table_top_frame, X_W_table) # 2nd arg relative to 1st arg transformed by X_W_table \n",
    "\n",
    "# fix panda to table top.\n",
    "plant.WeldFrames(table_top_frame, robot_base, RigidTransform(RotationMatrix.Identity(), [0., -0.4, 0.]))\n",
    "\n",
    "\n",
    "# plant.WeldFrames(X_W_table, table_top_frame)\n",
    "print(f\"table_top_frame is {table_top_frame}\")\n",
    "\n",
    "\"\"\" These will be depracated on 2023-12-01\n",
    "Deprecated:\n",
    "    Use parser.AddModels() instead. To port the 2-argument form,\n",
    "    rename models using parser.SetAutoRenaming() and\n",
    "    plant.RenameModelInstance(). See PR #19978 for more details. This\n",
    "    will be removed from Drake on or after 2023-12-01.\n",
    "  parser.AddModelFromFile(table_file, \"table\") \"\"\"\n",
    "# # using add model from file \n",
    "# parser.AddModelFromFile(table_file, \"table\")\n",
    "# parser.AddModelFromFile(box_file, \"box\")\n",
    "\n",
    "\"\"\"\n",
    "# This is explicitly fixing the table to world frame. What happens if it is not\n",
    "# explicitly fixed here but \"not publishing to update its state\" ?? See later sections.  \n",
    "\n",
    "# fix the centre of table to world\n",
    "table_body_frame = plant.GetFrameByName(\"table_top_center\")\n",
    "plant.WeldFrames(plant.world_frame(), table_body_frame) \n",
    "\"\"\"\n",
    "\n",
    "# finalize the plant\n",
    "plant.Finalize()\n",
    "plant.set_name(\"table_with_box\")\n",
    "\n",
    "# now build the diagram\n",
    "diagram = builder.Build()"
   ]
  },
  {
   "cell_type": "markdown",
   "id": "a641015b-d63f-4252-be22-0fb4a461d410",
   "metadata": {},
   "source": [
    "## 1 On setting fixed body pose in world\n",
    "Use $plant.WeldFrames(parentFrame,\\;childFrame, \\;Transformation)$ to fix objects in the scene. For fixed objects, this needs to be done before $plant.Finalize()$\n",
    "### 1.1 for getting frames:\n",
    "plant.world_frame(), \n",
    "plant.GetFrameByName()\n",
    "### 1.2 using drake transformations:\n",
    "The transformation X should be of type \"*pydrake.math.RigidTransform*\"\n",
    "e.g.:\n",
    "X_W_table = RigidTransform(\n",
    "  R=RotationMatrix([\n",
    "    [1.0, 0.0, 0.0],\n",
    "    [0.0, 1.0, 0.0],\n",
    "    [0.0, 0.0, 1.0],]),\n",
    "  p=[0.0, 0.0, 0.0],)"
   ]
  },
  {
   "cell_type": "code",
   "execution_count": 9,
   "id": "8d51a23c-6f48-4544-ad24-4ab026da1738",
   "metadata": {},
   "outputs": [
    {
     "name": "stdout",
     "output_type": "stream",
     "text": [
      "box_body_frame is <RigidBody name='base_link_cracker' index=14 model_instance=4> \n",
      "\n",
      "box_body_id is <FrameId value=268>\n",
      "<class 'pydrake.multibody.tree.RigidBody'>\n",
      "<class 'pydrake.geometry.FrameId'>\n",
      "<BodyFrame name='base_link_cracker' index=27 model_instance=4>\n"
     ]
    }
   ],
   "source": [
    "# get free body box and its id in the plant\n",
    "box_body = plant.GetBodyByName(\"base_link_cracker\") # get the body instance\n",
    "box_body_id = plant.GetBodyFrameIdIfExists(box_body.index()) # get the body's id in the plant\n",
    "\n",
    "table_top_body = plant.GetBodyByName(\"table_top_link\") # since only one from each pool\n",
    "table_top_frame_id = plant.GetBodyFrameIdIfExists(table_top_body.index())\n",
    "\n",
    "panda_base = plant.GetBodyByName(\"panda_link0\")\n",
    "panda_base_frame_id = plant.GetBodyFrameIdIfExists(panda_base.index())\n",
    "\n",
    "panda_hand = plant.GetBodyByName(\"panda_hand\")\n",
    "panda_hand_frame_id = plant.GetBodyFrameIdIfExists(panda_hand.index())\n",
    "\n",
    "print(f\"box_body_frame is {box_body} \\n\")\n",
    "print(f\"box_body_id is {box_body_id}\")\n",
    "\n",
    "print(type(box_body))\n",
    "\n",
    "print(type(box_body_id))\n",
    "\n",
    "# this \n",
    "print(box_body.body_frame()) # this get the body frame from the body instance"
   ]
  },
  {
   "cell_type": "code",
   "execution_count": 10,
   "id": "aedf49fc-10ac-49cb-8229-3cb464a1d3f7",
   "metadata": {},
   "outputs": [
    {
     "data": {
      "text/plain": [
       "<BodyFrame name='panda_hand' index=13 model_instance=3>"
      ]
     },
     "execution_count": 10,
     "metadata": {},
     "output_type": "execute_result"
    }
   ],
   "source": [
    "panda_base.body_frame()\n",
    "panda_hand.body_frame()"
   ]
  },
  {
   "cell_type": "code",
   "execution_count": 11,
   "id": "833721ec-5076-41a1-9467-ed849d8adcca",
   "metadata": {},
   "outputs": [],
   "source": [
    "# create the default diagram's context \n",
    "context = diagram.CreateDefaultContext()\n",
    "\n",
    "# get the mutable context for updates\n",
    "mutable_context = plant.GetMyContextFromRoot(context) # seems equivalent to .GetMyMutableContextFromRoot()\n",
    "\n",
    "# # move the table for a bit\n",
    "# X_W_table = RigidTransform(RotationMatrix.Identity(), [0., -0.4, 0.])\n",
    "\n",
    "# plant.SetFreeBodyPose(mutable_context, plant.GetBodyByName(\"table_top_link\"), X_W_table)\n",
    "\n",
    "# move the box a bit relative to the table-top\n",
    "X_table_box = RigidTransform(RollPitchYaw(np.asarray([0, 0, 0]) * np.pi / 180), p=[0.1, -0.2, 0.])\n",
    "X_W_table_dummy = table_top_frame.CalcPoseInWorld(mutable_context)\n",
    "X_W_box = X_W_table_dummy.multiply(X_table_box)\n",
    "plant.SetFreeBodyPose(mutable_context, box_body, X_W_box)"
   ]
  },
  {
   "cell_type": "code",
   "execution_count": 12,
   "id": "a1ecad6a-0cd0-4c2f-afa5-83218dbdbded",
   "metadata": {},
   "outputs": [
    {
     "name": "stderr",
     "output_type": "stream",
     "text": [
      "INFO:drake:Meshcat listening for connections at http://localhost:7001\n"
     ]
    }
   ],
   "source": [
    "meshcat = StartMeshcat()\n",
    "# not yet publish any context for visualization"
   ]
  },
  {
   "cell_type": "code",
   "execution_count": 13,
   "id": "97588c47-7f67-4e1d-b49f-3914fae40493",
   "metadata": {},
   "outputs": [],
   "source": [
    "# Need this because a==b returns True even if a = AutoDiffXd(1, [1, 2]), b= AutoDiffXd(2, [3, 4])\n",
    "# That's the behavior of AutoDiffXd in C++, also.\n",
    "def autoDiffArrayEqual(a,b):\n",
    "    return np.array_equal(a, b) and np.array_equal(ExtractGradient(a), ExtractGradient(b))"
   ]
  },
  {
   "cell_type": "code",
   "execution_count": 14,
   "id": "46e609aa-2ff3-4440-a97d-5255cc5410de",
   "metadata": {},
   "outputs": [],
   "source": [
    "from pydrake.all import (AutoDiffXd, ExtractGradient)\n",
    "import numpy as np\n",
    "a = AutoDiffXd(1, [1, 2])\n",
    "b = AutoDiffXd(2, [3, 4]) "
   ]
  },
  {
   "cell_type": "code",
   "execution_count": 15,
   "id": "ff7b5819-9195-47eb-8c28-b013698621ce",
   "metadata": {},
   "outputs": [],
   "source": [
    "N = 100"
   ]
  },
  {
   "cell_type": "code",
   "execution_count": 16,
   "id": "c4d25cc7-bcac-4ed6-ad62-3fc5478fbb15",
   "metadata": {},
   "outputs": [],
   "source": [
    "\"\"\"\n",
    "one default context of the diagram per time step and each corresponds to one plant context? \n",
    "It this needed?\n",
    "To use SceneGraph, the plant context need to be derived from diagram\n",
    "\"\"\"\n",
    "\n",
    "# Create one context per timestep to maximize cache hits\n",
    "context_list = [diagram.CreateDefaultContext() for i in range(N)] \n",
    "plant_context_list = [plant.GetMyContextFromRoot(context_list[i]) for i in range(N)]\n",
    "\n",
    "#or just:\n",
    "# plant_context_list = [plant.CreateDefaultContext() for i in range(N)]"
   ]
  },
  {
   "cell_type": "code",
   "execution_count": 17,
   "id": "f4a2182e-9c5b-49f5-9d56-619e04c001a0",
   "metadata": {},
   "outputs": [],
   "source": [
    "# convert to AutoDiff compatible\n",
    "ad_diagram = diagram.ToAutoDiffXd()\n",
    "ad_plant = ad_diagram.GetSubsystemByName(\"table_with_box\")"
   ]
  },
  {
   "cell_type": "code",
   "execution_count": 18,
   "id": "89a1edb4-6202-4524-ba1f-119b2a6679f1",
   "metadata": {},
   "outputs": [],
   "source": [
    "# create new AutoDiff context to maximize cache hits\n",
    "\"\"\" To use SceneGraph, the plant context need to be derived from diagram \"\"\"\n",
    "ad_context_list = [ad_diagram.CreateDefaultContext() for i in range(N)]\n",
    "ad_plant_context_list = [ad_plant.GetMyContextFromRoot(ad_context_list[i]) for i in range(N)]"
   ]
  },
  {
   "cell_type": "code",
   "execution_count": 19,
   "id": "c21445d6-e1e1-4d44-88f0-99d0607a66a4",
   "metadata": {},
   "outputs": [
    {
     "name": "stdout",
     "output_type": "stream",
     "text": [
      "The box's mass is: 0.411\n",
      "\n",
      "Total mass of panda is: 18.92\n",
      "\n",
      "The gravity vector is: [ 0.    0.   -9.81]\n",
      "\n"
     ]
    }
   ],
   "source": [
    "# the context here is the very first one \n",
    "\"\"\" Notices here the box is an list of pydrake.multibody.tree.ModelInstanceIndex after parser.AddModels(...) \"\"\"\n",
    "box_mass = sum(plant.get_body(index).get_mass(context) for index in plant.GetBodyIndices(box_modelInstance))\n",
    "panda_mass = sum(plant.get_body(index).get_mass(context) for index in plant.GetBodyIndices(panda_modelInstance))\n",
    "gravity = plant.gravity_field().gravity_vector()\n",
    "\n",
    "print(f\"The box's mass is: {box_mass}\\n\")\n",
    "print(f\"Total mass of panda is: {panda_mass}\\n\")\n",
    "print(f\"The gravity vector is: {gravity}\\n\")"
   ]
  },
  {
   "cell_type": "markdown",
   "id": "840a949b-e5a7-40e9-b9cd-f2b939417650",
   "metadata": {},
   "source": [
    "# Section 2: setting up the decVars and prog()"
   ]
  },
  {
   "cell_type": "markdown",
   "id": "880aed64-2365-42bb-8299-f1db0b90ac16",
   "metadata": {},
   "source": [
    "<div class=\"alert alert-block alert-danger\">\n",
    "<b>Need to think carefully here!:</b> The decision variable should include also $\\gamma_k$, the slack variables, one for each contact; the tangential contact forces $\\lambda^+$ and $\\lambda^-$ are enough in 2D case, the difference of which determines the magnitude of the resultant tangential force at the contact. In 3D cases, these $\\lambda$s and also the weights for each basis vector of the approximation of the friction cone. The number of the weights depends on the discretization of the cone. Saying, approx by hexagon, then we have 6 more decision variables, which is to produce the direction of one of the tangential friction (the other is exactly the opposite, so 6 is enough). The direction of the tangential friction is $\\hat{f}_t = w_1 \\hat{b}_1 + w_2 \\hat{b}_2 + w_3 \\hat{b}_3 + w_4 \\hat{b}_4 + w_5 \\hat{b}_5 + w_6 \\hat{b}_6$ expressed in the frame at the contact point $\\{C\\}$. Therefore, in this case with panda + a box, assuming 5 contact points (1 hand-box, 4 box-table), nDecVar = 7$\\times$2 + 6$\\times$2 + 1$\\times$5 + 3$\\times$5 + 6$\\times$5 = arm_dof + box_dof + slackVar + $\\lambda$s + coneWeights = 76. Damn!!\n",
    "    The $\\alpha$ and $\\beta$ are used as the trick to improve convergence in solving with SQP (e.g. SNOPT) in Section 3.2 of the paper. Let's try solving it first using interior-point methods.\n",
    "</div>"
   ]
  },
  {
   "cell_type": "markdown",
   "id": "03f24a07-406a-4954-8554-2519c63e752c",
   "metadata": {},
   "source": [
    "<div class=\"alert alert-block alert-warning\">\n",
    "    <b>Here I set the convention of the ordering of the decision variables:</b> \n",
    "</div>"
   ]
  },
  {
   "cell_type": "markdown",
   "id": "c07723c0-2fa0-4da3-8bb8-57b252f7d1fa",
   "metadata": {},
   "source": [
    "The decision variable set will be ordered as:\n",
    "***\n",
    "__[q_arm, v_arm, q_objects, v_objects, c_params, coneBasis]__, where within c_params, each sub-set [$\\lambda_{Nk}, \\lambda^+_k, \\lambda^-_k, \\gamma_k$] corresponds to one contact point in 2D. The contact type are ordered like this: hand-obj, obj-obj, obj-env.\n"
   ]
  },
  {
   "cell_type": "code",
   "execution_count": 43,
   "id": "d36e8ee9-9b06-4b48-b56c-168c322c0a0c",
   "metadata": {},
   "outputs": [
    {
     "data": {
      "text/plain": [
       "76"
      ]
     },
     "execution_count": 43,
     "metadata": {},
     "output_type": "execute_result"
    }
   ],
   "source": [
    "7*2+6*2+5+15+30"
   ]
  },
  {
   "cell_type": "code",
   "execution_count": 33,
   "id": "eeab0593-1fc9-4bcf-ade0-0afb7c97813d",
   "metadata": {
    "scrolled": true
   },
   "outputs": [
    {
     "name": "stdout",
     "output_type": "stream",
     "text": [
      "h_var has type: <class 'numpy.ndarray'>, and shape: (99,)\n",
      "\n",
      "h_var[0] has type: <class 'pydrake.symbolic.Variable'>\n",
      "\n"
     ]
    },
    {
     "data": {
      "text/plain": [
       "' This should not be here. \\n    constraints on acceleration should come from the dynamics. '"
      ]
     },
     "execution_count": 33,
     "metadata": {},
     "output_type": "execute_result"
    }
   ],
   "source": [
    "T = 0.5\n",
    "prog = MathematicalProgram()\n",
    "\n",
    "\"\"\" # maybe skip the h_var for now, this means the time step is fixed.`;\n",
    "# bind time step \n",
    "h_var = prog.NewContinuousVariables(N-1, \"h\")\n",
    "\"\"\"\n",
    "\n",
    "# create the decVar vector: arm_dof + box_dof + $\\lambda$s + slackVar +  + coneWeights \n",
    "# KEEP THE ORDERING CONSISTANT!\n",
    "nq_box = plant.num_positions(box_modelInstance)\n",
    "nv_box = plant.num_velocities(box_modelInstance)\n",
    "nq_arm = plant.num_positions(panda_modelInstance)\n",
    "nv_arm = plant.num_velocities(panda_modelInstance)\n",
    "\n",
    "# 1 hand-obj, 4 obj-env\n",
    "n_contact = 5\n",
    "\n",
    "# 7 + 2, 2 are two 'fixed' finger joints\n",
    "assert nq_arm == 9, \"# of joints does not match, something is wrong!\"\n",
    "\n",
    "# the return type of prog.NewContinuousVariables() is numpy.ndarray\n",
    "# decVars: for arm and one object\n",
    "q_box_vars = prog.NewContinuousVariables(nq_box, N, \"q_box\") # [row, col]: [nq_o, N]\n",
    "v_box_vars = prog.NewContinuousVariables(nv_box, N, \"v_box\")\n",
    "q_arm_vars = prog.NewContinuousVariables(nq_arm-2, N, \"q_arm\")\n",
    "v_arm_vars = prog.NewContinuousVariables(nv_arm-2, N, \"q_arm\")\n",
    "\n",
    "# decVars: c_params, [N, +, -, alpha, beta]\n",
    "c_params_vars = prog.NewContinuousVariables(5*n_contact, N, \"c_params\")\n",
    "\n",
    "# decVars: cone basis, assuming a hexagon approximation\n",
    "cone_vars = prog.NewContinuousVariables(6*n_contact, N, \"coneBasis\")\n",
    "\n",
    "print(f\"h_var has type: {type(h_var)}, and shape: {h_var.shape}\\n\")\n",
    "print(f\"h_var[0] has type: {type(h_var[0])}\\n\")"
   ]
  },
  {
   "cell_type": "code",
   "execution_count": 32,
   "id": "229f7dad-e137-4b8b-9413-e20fe7d6de97",
   "metadata": {},
   "outputs": [
    {
     "data": {
      "text/plain": [
       "' # DO NOT bother with variable time step just yet \\n# constraints on time\\nprog.AddBoundingBoxConstraint([0.5*T/(N-1)]*(N-1), [2.0*T/(N-1)]*(N-1), h_var)\\nprog.AddLinearConstraint(sum(h_var) >= 0.9*T)\\nprog.AddLinearConstraint(sum(h_var) <= 1.5*T)\\nprog.SetInitialGuess(h_var, [T/(N-1)]*(N-1))\\n'"
      ]
     },
     "execution_count": 32,
     "metadata": {},
     "output_type": "execute_result"
    }
   ],
   "source": [
    "\"\"\"\n",
    "# DO NOT bother with variable time step just yet \n",
    "# constraints on time\n",
    "prog.AddBoundingBoxConstraint([0.5*T/(N-1)]*(N-1), [2.0*T/(N-1)]*(N-1), h_var)\n",
    "prog.AddLinearConstraint(sum(h_var) >= 0.9*T)\n",
    "prog.AddLinearConstraint(sum(h_var) <= 1.5*T)\n",
    "prog.SetInitialGuess(h_var, [T/(N-1)]*(N-1))\n",
    "\"\"\""
   ]
  },
  {
   "cell_type": "code",
   "execution_count": 23,
   "id": "c8714dd1-be10-480d-b360-e590bded1e4b",
   "metadata": {},
   "outputs": [
    {
     "name": "stdout",
     "output_type": "stream",
     "text": [
      "The box initial q is: [ 1.   0.   0.   0.   0.1 -0.2  0. ] \n",
      "\n",
      "The box initial v is: [0. 0. 0. 0. 0. 0.] \n",
      "\n",
      "The panda initial q is: [0. 0. 0. 0. 0. 0. 0.] \n",
      "\n",
      "The panda initial v is: [0. 0. 0. 0. 0. 0. 0.] \n",
      "\n"
     ]
    }
   ],
   "source": [
    "# boundary constraints\n",
    "q0_box = plant.GetPositions(mutable_context, box_modelInstance)\n",
    "v0_box = plant.GetVelocities(mutable_context, box_modelInstance)\n",
    "q0_arm = plant.GetPositions(mutable_context, panda_modelInstance)[:7] # excluding the fingers\n",
    "v0_arm = plant.GetVelocities(mutable_context, panda_modelInstance)[:7] \n",
    "                             \n",
    "\n",
    "print(f\"The box initial q is: {q0_box} \\n\")\n",
    "print(f\"The box initial v is: {v0_box} \\n\")\n",
    "print(f\"The panda initial q is: {q0_arm} \\n\")\n",
    "print(f\"The panda initial v is: {v0_arm} \\n\")"
   ]
  },
  {
   "cell_type": "code",
   "execution_count": 24,
   "id": "0fc21ce2-192c-4dd8-82bb-81a136714149",
   "metadata": {},
   "outputs": [
    {
     "data": {
      "text/plain": [
       "<pydrake.solvers.Binding𝓣BoundingBoxConstraint𝓤 at 0x162bffb30>"
      ]
     },
     "execution_count": 24,
     "metadata": {},
     "output_type": "execute_result"
    }
   ],
   "source": [
    "# set init v and vdot if needed\n",
    "vdot0_box = np.array([0., 0., 0., 0., 0., -9.81]) # not sure if this is needed\n",
    "v0_box = np.array([0., 0., 0., 0., 0., 0.]) # twist [wx, wy, wz, vx, vy, vz]\n",
    "\n",
    "# set box constraints on the initial states\n",
    "prog.AddBoundingBoxConstraint(q0_box, q0_box, q_box_vars[:, 0]) # at t = 0\n",
    "prog.AddBoundingBoxConstraint(v0_box, v0_box, v_box_vars[:, 0]) # at t = 0\n",
    "prog.AddBoundingBoxConstraint(q0_arm, q0_arm, q_arm_vars[:, 0]) \n",
    "prog.AddBoundingBoxConstraint(v0_arm, v0_arm, v_arm_vars[:, 0]) "
   ]
  },
  {
   "cell_type": "code",
   "execution_count": 26,
   "id": "a1e5f302-d51f-4df4-9ea6-eda0af311dc8",
   "metadata": {},
   "outputs": [],
   "source": [
    "\"\"\" # this is adds unit quaternion constraints to all quaternion joints in the plant\n",
    "\n",
    "# add unit quaternion constraint for each time point\n",
    "for i in range(N):\n",
    "    # This constraint is added to the generalized positions not just the rotation part?? Double check this in C++\n",
    "    # yes, to generalized positions\n",
    "    AddUnitQuaternionConstraintOnPlant(plant, q_o_vars[:, i], prog) # The decision variables for the generalized position of the plant.\n",
    "\"\"\"\n",
    "\n",
    "# what I need is unit quaternion constraints on the object at all time points\n",
    "from pydrake.multibody.inverse_kinematics import UnitQuaternionConstraint\n",
    "for i in range(N):\n",
    "    prog.AddConstraint(UnitQuaternionConstraint(), q_box_vars[3:, i]) # double check if positions are arranged [x, y, z, w, i, j, k]"
   ]
  },
  {
   "cell_type": "code",
   "execution_count": 27,
   "id": "3707db12-10ed-466a-8ddf-a978eb74f80d",
   "metadata": {},
   "outputs": [
    {
     "name": "stdout",
     "output_type": "stream",
     "text": [
      "[0 1 2 3 4 5 6]\n",
      "[4 5 6]\n",
      "[3 4 5 6]\n"
     ]
    }
   ],
   "source": [
    "tester = np.arange(7)\n",
    "print(tester)\n",
    "print(tester[4:])\n",
    "print(tester[3:])"
   ]
  },
  {
   "cell_type": "code",
   "execution_count": 34,
   "id": "4cc2b9da-2dff-4bbf-9fbd-f37515a80e31",
   "metadata": {},
   "outputs": [
    {
     "data": {
      "text/plain": [
       "(7, 100)"
      ]
     },
     "execution_count": 34,
     "metadata": {},
     "output_type": "execute_result"
    }
   ],
   "source": [
    "q_box_vars.shape"
   ]
  },
  {
   "cell_type": "code",
   "execution_count": 35,
   "id": "5cec19d1-c42f-4962-a3c8-d94ba2b828cf",
   "metadata": {},
   "outputs": [
    {
     "data": {
      "text/plain": [
       "16"
      ]
     },
     "execution_count": 35,
     "metadata": {},
     "output_type": "execute_result"
    }
   ],
   "source": [
    "plant.num_positions() # after fixing the table to world, this drops from 14 to 7"
   ]
  },
  {
   "cell_type": "code",
   "execution_count": 42,
   "id": "92291dfd-b3e6-4f75-93f3-d3505deba498",
   "metadata": {},
   "outputs": [
    {
     "name": "stdout",
     "output_type": "stream",
     "text": [
      "Total: 1 floating bodies in the world\n",
      "5\n"
     ]
    },
    {
     "data": {
      "text/plain": [
       "<BodyFrame_[AutoDiffXd] name='panda_link8' index=12 model_instance=3>"
      ]
     },
     "execution_count": 42,
     "metadata": {},
     "output_type": "execute_result"
    }
   ],
   "source": [
    "floating_bodies = plant.GetFloatingBaseBodies() # this returns a python set\n",
    "print(f\"Total: {len(floating_bodies)} floating bodies in the world\")\n",
    "print(n_contact)\n",
    "frame_hand = ad_plant.GetFrameByName(\"panda_link8\")\n",
    "frame_hand"
   ]
  },
  {
   "cell_type": "markdown",
   "id": "4e71b130-e8a7-4c67-827f-f3159aa0fa5c",
   "metadata": {},
   "source": [
    "# 3 Adding constraints on the decVars\n"
   ]
  },
  {
   "cell_type": "markdown",
   "id": "bafb5266-1ece-47f8-84f5-f7ed0e197f6e",
   "metadata": {},
   "source": [
    "<div class=\"alert alert-block alert-warning\">\n",
    "<b>NOTE:</b> The selected point in its corresponding frame should be passed in. Before enforcing the manipulator equation constraint, all the contact points are made available by contact selector, pose estimation and assumptions. For sliding contact: for one contact, a contact point in {hand}, also the same point in {box}; these two should be resolved in {contact-point} for relative tangential velocity. \n",
    "</div>"
   ]
  },
  {
   "cell_type": "markdown",
   "id": "1a5cf012-6706-4cfe-8f02-e2165e4a3a53",
   "metadata": {},
   "source": [
    "$\\underline{\\lambda} = (\\lambda_1, \\lambda_2, \\lambda_3, \\lambda_4, \\lambda_5, \\lambda_6)$, one for each basis. "
   ]
  },
  {
   "cell_type": "markdown",
   "id": "4b45000c-bf8a-4380-9b96-af2bdd7f8abd",
   "metadata": {},
   "source": [
    "<div class=\"alert alert-block alert-warning\">\n",
    "<b>To do:</b> Need to figure out how to retrieve points from geometry. The point is expressed in {model} by default using signed_distance_pairs = query_object.ComputeSignedDistancePairwiseClosestPoints() in Drake's class drake::geometry::QueryObject<T>. Since I am not using the part of pipeline, need to find a way to express the point in frames. Let's just assume the selected points are in the {model} and passed into def manipulator_equation_cst(). \n",
    "</div>"
   ]
  },
  {
   "cell_type": "code",
   "execution_count": 52,
   "id": "ede1b69b-889b-4086-a451-ee1522ac291d",
   "metadata": {},
   "outputs": [
    {
     "ename": "AttributeError",
     "evalue": "module 'numpy' has no attribute 'identify'",
     "output_type": "error",
     "traceback": [
      "\u001b[0;31m---------------------------------------------------------------------------\u001b[0m",
      "\u001b[0;31mAttributeError\u001b[0m                            Traceback (most recent call last)",
      "Cell \u001b[0;32mIn[52], line 2\u001b[0m\n\u001b[1;32m      1\u001b[0m n_u \u001b[38;5;241m=\u001b[39m plant\u001b[38;5;241m.\u001b[39mnum_actuated_dofs()\n\u001b[0;32m----> 2\u001b[0m B \u001b[38;5;241m=\u001b[39m \u001b[43mnp\u001b[49m\u001b[38;5;241;43m.\u001b[39;49m\u001b[43midentify\u001b[49m(n_u) \n\u001b[1;32m      4\u001b[0m \u001b[38;5;124;03m\"\"\" n_f: number of contacts \"\"\"\u001b[39;00m\n\u001b[1;32m      5\u001b[0m n_f \u001b[38;5;241m=\u001b[39m n_ho \u001b[38;5;241m+\u001b[39m n_oo \u001b[38;5;241m+\u001b[39m n_oe \u001b[38;5;66;03m# \u001b[39;00m\n",
      "File \u001b[0;32m~/pyenvs/drake-env/lib/python3.11/site-packages/numpy/__init__.py:333\u001b[0m, in \u001b[0;36m__getattr__\u001b[0;34m(attr)\u001b[0m\n\u001b[1;32m    330\u001b[0m     \u001b[38;5;124m\"\u001b[39m\u001b[38;5;124mRemoved in NumPy 1.25.0\u001b[39m\u001b[38;5;124m\"\u001b[39m\n\u001b[1;32m    331\u001b[0m     \u001b[38;5;28;01mraise\u001b[39;00m \u001b[38;5;167;01mRuntimeError\u001b[39;00m(\u001b[38;5;124m\"\u001b[39m\u001b[38;5;124mTester was removed in NumPy 1.25.\u001b[39m\u001b[38;5;124m\"\u001b[39m)\n\u001b[0;32m--> 333\u001b[0m \u001b[38;5;28;01mraise\u001b[39;00m \u001b[38;5;167;01mAttributeError\u001b[39;00m(\u001b[38;5;124m\"\u001b[39m\u001b[38;5;124mmodule \u001b[39m\u001b[38;5;132;01m{!r}\u001b[39;00m\u001b[38;5;124m has no attribute \u001b[39m\u001b[38;5;124m\"\u001b[39m\n\u001b[1;32m    334\u001b[0m                      \u001b[38;5;124m\"\u001b[39m\u001b[38;5;132;01m{!r}\u001b[39;00m\u001b[38;5;124m\"\u001b[39m\u001b[38;5;241m.\u001b[39mformat(\u001b[38;5;18m__name__\u001b[39m, attr))\n",
      "\u001b[0;31mAttributeError\u001b[0m: module 'numpy' has no attribute 'identify'"
     ]
    }
   ],
   "source": [
    "# the manipulator equation constraint\n",
    "def manipulator_equation_cst(decVars, context_index, p_contacts):\n",
    "    \"\"\"\n",
    "    this function implements the system dynamics in implicit form, as non-linear eq constraint, using implicit Euler integration: \n",
    "    \n",
    "    0 = [ Buₙ₊₁ + ∑ᵢ (Jᵢ_WBᵀ(qₙ₊₁)ᵀ * Fᵢ_AB_W(λᵢ,ₙ₊₁)) + tau_g(qₙ₊₁) - C(qₙ₊₁, Vₙ₊₁) ] * dt - M(qₙ₊₁) * (Vₙ₊₁ - Vₙ)\n",
    "    \n",
    "    decVars: [vₙ, qₙ₊₁, vₙ₊₁, uₙ₊₁, λₙ₊₁], which is a subset of the decVars of the overall system. \n",
    "             lambda contains N, lambda1, lambda2, lambda3, lambda4, lambda5, lambda6\n",
    "             The format of the input to the Eval() function is a vector containing: {vₙ, qₙ₊₁, vₙ₊₁, uₙ₊₁, λₙ₊₁},\n",
    "             where λₙ₊₁ is a concatenation of lambdas for all contacts\n",
    "\n",
    "    context_index: one context of a plant for each time point.\n",
    "    p_contacts: [nc, 3], \n",
    "                the 3d coordinates of the points in {model}, which is relative to the object model; \n",
    "                the ordering priority is h-o > o-o > o-env\n",
    "    \"\"\"\n",
    "    # unpack decVars\n",
    "    v_n, q_next, v_next, u_next, lambdas = np.split(decVars, [nq_o, \n",
    "                                                                  nq_o+nq_v, \n",
    "                                                                  nq_o+nq_v*2, \n",
    "                                                                  nq_o+nq_v*2+n_u, \n",
    "                                                                  nq_o+nq_v*2+n_u])\n",
    "    \n",
    "    # update context position and velocity\n",
    "    if isinstance(decVars[0], AutoDiffXd):\n",
    "        if not autoDiffArrayEqual(q_next, ad_plant.GetPositions(ad_plant_context_list[context_index], box)):\n",
    "            ad_plant.SetPositions(ad_plant_context_list[context_index], box, q_next)\n",
    "        if not autoDiffArrayEqual(v_next, ad_plant.GetVelocities(ad_plant_context_list[context_index], box)):\n",
    "            ad_plant.SetVelocities(ad_plant_context_list[context_index], box, v_next)\n",
    "        \n",
    "        # this is needed to commodate ad and non-ad plant, to avoid coding it twice\n",
    "        eval_plant = ad_plant\n",
    "        eval_plant_context = ad_plant_context_list[context_index]\n",
    "            \n",
    "    else:\n",
    "        if not np.array_equal(q, plant.GetPositions(plant_context_list[context_index], box)):\n",
    "            plant.SetPositions(plant_context_list[context_index], box, q_next)\n",
    "        if not np.array_equal(v, plant.GetVelocities(plant_context_list[context_index], cracker_box)):\n",
    "            plant.SetVelocities(plant_context_list[context_index], box, v_next)\n",
    "\n",
    "        eval_plant = plant\n",
    "        eval_plant_context = plant_context_list[context_index]\n",
    "\n",
    "    # this selects the actuated dofs, which by passes the unactuated generalized v of objects \n",
    "    B = plant.MakeActuationMatrix()\n",
    "    \n",
    "    # control with selection matrix\n",
    "    y = B @ u_next\n",
    "    g_term = eval_plant.CalcGravityGeneralizedForces(eval_plant_context)\n",
    "\n",
    "    # gravity\n",
    "    y += g_term\n",
    "    c_term = eval_plant.CalcBiasTerm(eval_plant_context)\n",
    "\n",
    "    # velocity product (or bias term) \n",
    "    y -= c_term\n",
    "    M = eval_plant.CalcMassMatrixViaInverseDynamics(eval_plant_context)\n",
    "\n",
    "    # now the contact, which has two part: contact jacobian and the contact wrench\n",
    "    # first off, the contact Jacobian \n",
    "    \"\"\" Jv_V_WCa reads the spatial velocity(V) Jacobian of contact point a (Ca) expressed in {W} w.r.t the generalize v \n",
    "        the point in body frame is required by SELECTION \"\"\"\n",
    "    # get frame of the hand(link-8), and a point on the hand in this frame \n",
    "    frame_hand = eval_plant.GetFrameByName(\"panda_link8\")\n",
    "\n",
    "    # a point relative to frame_hand, here it is chosen arbitrarily. Consort to the real model for this point or from contact selector.\n",
    "    p_in_hand = np.array([[0.1],[0.1],[0.1]])\n",
    "\n",
    "    \"\"\"\n",
    "    These two jacobians are required to map contact forces to each 'system'\n",
    "    By Newton's 3rd Law, one for hand; then the opposite to the object. Equal and opposite.\n",
    "    The Jacobians here has sparsity structure, zeros for object in the part mapping to \n",
    "    the arm, and likewise for the part mapping to the object.\n",
    "    \"\"\"\n",
    "    # Jacobian of a point in {hand} evaluated in {W}\n",
    "    Jv_V_W_Chand = eval_plant.CalcJacobianSpatialVelocity(eval_plant_context, \n",
    "                                                      JacobianWrtVariable.kV, \n",
    "                                                      frame_hand, \n",
    "                                                      p_in_hand, \n",
    "                                                      eval_plant.world_frame(), \n",
    "                                                      eval_plant.world_frame())\n",
    "    # box frame\n",
    "    frame_box = eval_plant.GetFrameByName(\"base_link_cracker\")\n",
    "    # the contact point in box frame, this is an arbitray choice\n",
    "    p_in_box = np.array([[0.1],[0.1],[0.1]])\n",
    "    \n",
    "    # Jacobian of a point in {box}, this Jacobian is just the Identity Matrix \n",
    "    # 6-spatial-velo = J @ 6-generalized-dof.\n",
    "    Jv_V_W_Cbox = eval_plant.CalcJacobianSpatialVelocity(eval_plant_context, \n",
    "                                                      JacobianWrtVariable.kV, \n",
    "                                                      frame_box, \n",
    "                                                      p_in_box, \n",
    "                                                      eval_plant.world_frame(), \n",
    "                                                      eval_plant.world_frame())\n",
    "\n",
    "    # Compute the wrench in {W} using the decVar\n",
    "    # 1. get the contact frame (establish its convention)\n",
    "    # 2. express the contact normal in {contact_point}\n",
    "    # 3. express tangential direction in {contact_point} using the cone basis,\n",
    "    #    i.e. the positive span produces a tangential vector\n",
    "    # 4. express the resultant force (fn + ft) in {W}\n",
    "    # The contact wrench in {W} is [0, 0, 0, fx, fy, fz], which is resolved from fc = fn + ft\n",
    "\n",
    "    # this reads: the twist of {hand} in {box} expressed in {W}  \n",
    "    V_box_hand_W = frame_hand.CalcSpatialVelocity(eval_plant, frame_box, eval_plant.world_frame())\n",
    "    # Now need to get the p_{model}\n",
    "    pydrake.geometry.SceneGraphInspector.GetPoseInFrame() Find equivalent or manually compute it!!\n",
    "    \"\"\" Continue on:\n",
    "    line 211 in sliding_friction_complementarity_constraint.cc\n",
    "    \n",
    "    // We use Bg to mean the geometry frame attached to body B, and Bb to mean\n",
    "    // the body frame of body B.\n",
    "    const Vector3<AutoDiffXd>& p_BgCb = signed_distance_pair.p_BCb;\n",
    "    const Vector3<AutoDiffXd> p_BbCb =\n",
    "        inspector.GetPoseInFrame(signed_distance_pair.id_B).template cast<AutoDiffXd>() * p_BgCb;\n",
    "    \"\"\"\n",
    "    \n",
    "\n",
    "    \n",
    "    \"\"\" continue on reading manipulator_equation_constraint_text.cc \n",
    "    There must be the part to resolve the fc = fn + ft into {W} in the SceneGraph() or inspector() or whatever that\n",
    "    I did not see in the doEval() in contact_wrench_evaluator.cc \"\"\"\n",
    "\n",
    "    # compute M(q)\n",
    "    eval_plant.CalcMassMatrixViaInverseDynamics(eval_plant_context)\n",
    "\n",
    "    \"\"\" \n",
    "        AutoDiffVecXd F_AB_W;\n",
    "    it->second.contact_wrench_evaluator->Eval(\n",
    "        it->second.contact_wrench_evaluator->ComposeVariableValues(*context_,\n",
    "                                                                   lambda),\n",
    "        &F_AB_W);\n",
    "\n",
    "    // By definition, F_AB_W is the contact wrench applied to id_B from id_A,\n",
    "    // at the contact point. By Newton's third law, the contact wrench applied\n",
    "    // to id_A from id_B at the contact point is -F_AB_W.\n",
    "    *y += Jv_V_WCa.transpose() * -F_AB_W + Jv_V_WCb.transpose() * F_AB_W;\n",
    "  }\n",
    "    \"\"\"\n",
    "    \n",
    "    \"\"\"\n",
    "    or\n",
    "    Jv_v_WCa = eval_plant.CalcJacobianTranslationalVelocity()\n",
    "    Jv_v_WCb = eval_plant.CalcJacobianTranslationalVelocity()\n",
    "    \n",
    "    these are needed to compute the relative velocity at contact point.\n",
    "\n",
    "    Make sure I understand all the jacobians tools in drake!\n",
    "    \"\"\"\n",
    "    \n",
    "    # initialize the ee_term which is the same dim as the arm dof\n",
    "    ee_wrench = np.zeros(nv_o)\n",
    "    \n",
    "    # need to compute the contact Jacobian based on selected points (or project onto surface) \n",
    "    # rather than using SceneGraph inspector\n",
    "    y += "
   ]
  },
  {
   "cell_type": "code",
   "execution_count": 41,
   "id": "3c7aaca8-88a9-48f0-8bdf-8f107c3000b9",
   "metadata": {},
   "outputs": [
    {
     "name": "stdout",
     "output_type": "stream",
     "text": [
      "[0 1 2 3 4 5 6 7 8 9]\n",
      "[array([0, 1]), array([2, 3]), array([4, 5]), array([6, 7, 8, 9])]\n"
     ]
    }
   ],
   "source": [
    "t = np.arange(10)\n",
    "print(t)\n",
    "\n",
    "a = np.split(t, [2, 4, 6])\n",
    "print(a)"
   ]
  },
  {
   "cell_type": "code",
   "execution_count": 42,
   "id": "571485ec-a3c4-416d-ba6d-f870cc75f45b",
   "metadata": {},
   "outputs": [
    {
     "data": {
      "text/plain": [
       "0"
      ]
     },
     "execution_count": 42,
     "metadata": {},
     "output_type": "execute_result"
    }
   ],
   "source": [
    "plant.num_actuated_dofs()"
   ]
  },
  {
   "cell_type": "code",
   "execution_count": 50,
   "id": "ed366aff-1aa2-4c7f-894c-c861e4393ca7",
   "metadata": {},
   "outputs": [
    {
     "data": {
      "text/plain": [
       "False"
      ]
     },
     "execution_count": 50,
     "metadata": {},
     "output_type": "execute_result"
    }
   ],
   "source": [
    "isinstance(q_o_vars[0, 0], AutoDiffXd)"
   ]
  },
  {
   "cell_type": "code",
   "execution_count": 51,
   "id": "e574a931-b897-4180-9223-448173a4333b",
   "metadata": {},
   "outputs": [
    {
     "data": {
      "text/plain": [
       "pydrake.symbolic.Variable"
      ]
     },
     "execution_count": 51,
     "metadata": {},
     "output_type": "execute_result"
    }
   ],
   "source": [
    "type(q_o_vars[0][0])"
   ]
  },
  {
   "cell_type": "code",
   "execution_count": 53,
   "id": "273ae95c-378b-4810-a011-d5dce4b154c0",
   "metadata": {},
   "outputs": [
    {
     "data": {
      "text/plain": [
       "array([0., 0., 0., 0., 0.])"
      ]
     },
     "execution_count": 53,
     "metadata": {},
     "output_type": "execute_result"
    }
   ],
   "source": [
    "np.zeros((5))"
   ]
  },
  {
   "cell_type": "code",
   "execution_count": 54,
   "id": "796feb93-fe26-4116-8be9-ba29ce4fb029",
   "metadata": {},
   "outputs": [
    {
     "data": {
      "text/plain": [
       "array([0., 0., 0., 0., 0.])"
      ]
     },
     "execution_count": 54,
     "metadata": {},
     "output_type": "execute_result"
    }
   ],
   "source": [
    "np.zeros(5)"
   ]
  },
  {
   "cell_type": "code",
   "execution_count": null,
   "id": "a77667c5-7dca-40ce-b45a-956163731156",
   "metadata": {},
   "outputs": [],
   "source": []
  }
 ],
 "metadata": {
  "kernelspec": {
   "display_name": "Python 3 (ipykernel)",
   "language": "python",
   "name": "python3"
  },
  "language_info": {
   "codemirror_mode": {
    "name": "ipython",
    "version": 3
   },
   "file_extension": ".py",
   "mimetype": "text/x-python",
   "name": "python",
   "nbconvert_exporter": "python",
   "pygments_lexer": "ipython3",
   "version": "3.11.6"
  }
 },
 "nbformat": 4,
 "nbformat_minor": 5
}
