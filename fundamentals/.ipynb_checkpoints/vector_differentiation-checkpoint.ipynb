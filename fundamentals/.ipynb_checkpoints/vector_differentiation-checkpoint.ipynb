{
 "cells": [
  {
   "cell_type": "code",
   "execution_count": 1,
   "id": "b55540de-f428-4027-807e-d2facb2afac2",
   "metadata": {},
   "outputs": [],
   "source": [
    "import sympy as sm\n",
    "import sympy.physics.mechanics as me\n",
    "sm.init_printing(use_latex='mathjax')"
   ]
  },
  {
   "cell_type": "code",
   "execution_count": 2,
   "id": "9f9fd449-d23d-4ade-80fc-9ea4c19a4565",
   "metadata": {},
   "outputs": [],
   "source": [
    "# a vector expressed with unit vectors from three different frames\n",
    "alpha, beta = sm.symbols(\"alpha, beta\")\n",
    "a, b, c, d, e, f = sm.symbols(\"a, b, c, d, e, f\")\n",
    "\n",
    "A = me.ReferenceFrame('A')\n",
    "B = me.ReferenceFrame('B')\n",
    "C = me.ReferenceFrame('C')\n",
    "\n",
    "B.orient_axis(A, A.x, alpha) # reads B is oriented \n",
    "C.orient_axis(B, B.x, beta)\n",
    "\n",
    "v = a*A.x + b*A.y + c*B.x + d*B.y + e*C.x + f*C.y"
   ]
  },
  {
   "cell_type": "markdown",
   "id": "5d2bacec-6be4-4bfb-aec1-9a4f2e058b64",
   "metadata": {},
   "source": [
    "Now show the frames of A, B, C with relativity"
   ]
  },
  {
   "cell_type": "code",
   "execution_count": 3,
   "id": "6845841f-1ac7-49ae-a1fd-f66b728dfb5c",
   "metadata": {},
   "outputs": [
    {
     "data": {
      "text/latex": [
       "$\\displaystyle \\left[\\begin{matrix}1 & 0 & 0\\\\0 & 1 & 0\\\\0 & 0 & 1\\end{matrix}\\right]$"
      ],
      "text/plain": [
       "⎡1  0  0⎤\n",
       "⎢       ⎥\n",
       "⎢0  1  0⎥\n",
       "⎢       ⎥\n",
       "⎣0  0  1⎦"
      ]
     },
     "execution_count": 3,
     "metadata": {},
     "output_type": "execute_result"
    }
   ],
   "source": [
    "A.dcm(A)"
   ]
  },
  {
   "cell_type": "markdown",
   "id": "f4aaec7d-66cc-426f-b655-ce344adb4eb2",
   "metadata": {},
   "source": [
    "To calculate $\\frac{^A \\partial \\bar{v}}{\\partial \\alpha}$: \n",
    "1. to project $\\bar{v}$ onto the unit vectors of $\\{A\\}$\n",
    "2. then take the partial derivatives of the meansure numbers w.r.t $\\alpha$"
   ]
  },
  {
   "cell_type": "code",
   "execution_count": 4,
   "id": "c6df0fb0-b0f6-46f1-957a-1463cdd038e3",
   "metadata": {},
   "outputs": [
    {
     "data": {
      "text/latex": [
       "$\\displaystyle \\left[\\begin{matrix}1 & 0 & 0\\\\0 & \\cos{\\left(\\alpha \\right)} & \\sin{\\left(\\alpha \\right)}\\\\0 & - \\sin{\\left(\\alpha \\right)} & \\cos{\\left(\\alpha \\right)}\\end{matrix}\\right]$"
      ],
      "text/plain": [
       "⎡1     0       0   ⎤\n",
       "⎢                  ⎥\n",
       "⎢0  cos(α)   sin(α)⎥\n",
       "⎢                  ⎥\n",
       "⎣0  -sin(α)  cos(α)⎦"
      ]
     },
     "execution_count": 4,
     "metadata": {},
     "output_type": "execute_result"
    }
   ],
   "source": [
    "B.dcm(A)"
   ]
  },
  {
   "cell_type": "code",
   "execution_count": 5,
   "id": "c1f70c4e-0bc8-4ebc-b9f6-871f9acff413",
   "metadata": {},
   "outputs": [
    {
     "data": {
      "text/latex": [
       "$\\displaystyle \\left[\\begin{matrix}1 & 0 & 0\\\\0 & \\cos{\\left(\\beta \\right)} & \\sin{\\left(\\beta \\right)}\\\\0 & - \\sin{\\left(\\beta \\right)} & \\cos{\\left(\\beta \\right)}\\end{matrix}\\right]$"
      ],
      "text/plain": [
       "⎡1     0       0   ⎤\n",
       "⎢                  ⎥\n",
       "⎢0  cos(β)   sin(β)⎥\n",
       "⎢                  ⎥\n",
       "⎣0  -sin(β)  cos(β)⎦"
      ]
     },
     "execution_count": 5,
     "metadata": {},
     "output_type": "execute_result"
    }
   ],
   "source": [
    "C.dcm(B)"
   ]
  },
  {
   "cell_type": "code",
   "execution_count": 6,
   "id": "f863ab2e-2dd7-488a-86d5-080f32d2210c",
   "metadata": {},
   "outputs": [
    {
     "data": {
      "text/latex": [
       "$\\displaystyle \\left[\\begin{matrix}1 & 0 & 0\\\\0 & - \\sin{\\left(\\alpha \\right)} \\sin{\\left(\\beta \\right)} + \\cos{\\left(\\alpha \\right)} \\cos{\\left(\\beta \\right)} & \\sin{\\left(\\alpha \\right)} \\cos{\\left(\\beta \\right)} + \\sin{\\left(\\beta \\right)} \\cos{\\left(\\alpha \\right)}\\\\0 & - \\sin{\\left(\\alpha \\right)} \\cos{\\left(\\beta \\right)} - \\sin{\\left(\\beta \\right)} \\cos{\\left(\\alpha \\right)} & - \\sin{\\left(\\alpha \\right)} \\sin{\\left(\\beta \\right)} + \\cos{\\left(\\alpha \\right)} \\cos{\\left(\\beta \\right)}\\end{matrix}\\right]$"
      ],
      "text/plain": [
       "⎡1                0                               0               ⎤\n",
       "⎢                                                                 ⎥\n",
       "⎢0  -sin(α)⋅sin(β) + cos(α)⋅cos(β)  sin(α)⋅cos(β) + sin(β)⋅cos(α) ⎥\n",
       "⎢                                                                 ⎥\n",
       "⎣0  -sin(α)⋅cos(β) - sin(β)⋅cos(α)  -sin(α)⋅sin(β) + cos(α)⋅cos(β)⎦"
      ]
     },
     "execution_count": 6,
     "metadata": {},
     "output_type": "execute_result"
    }
   ],
   "source": [
    "C.dcm(A)"
   ]
  },
  {
   "cell_type": "code",
   "execution_count": 7,
   "id": "a029cc87-7ba7-4a18-9e5c-f44057fff527",
   "metadata": {},
   "outputs": [],
   "source": [
    "# the dot product provides the projection, which then is diffed w.r.t alpha\n",
    "dvdalphaAx = v.dot(A.x).diff(alpha)\n",
    "dvdalphaAy = v.dot(A.y).diff(alpha)\n",
    "dvdalphaAz = v.dot(A.z).diff(alpha)"
   ]
  },
  {
   "cell_type": "code",
   "execution_count": 8,
   "id": "579bfe26-158d-47cc-a031-75b3781f732f",
   "metadata": {},
   "outputs": [
    {
     "data": {
      "text/latex": [
       "$\\displaystyle 0$"
      ],
      "text/plain": [
       "0"
      ]
     },
     "execution_count": 8,
     "metadata": {},
     "output_type": "execute_result"
    }
   ],
   "source": [
    "dvdalphaAx"
   ]
  },
  {
   "cell_type": "code",
   "execution_count": 9,
   "id": "736207b6-fb75-4d77-af47-f4ea1c9f69ca",
   "metadata": {},
   "outputs": [
    {
     "data": {
      "text/latex": [
       "$\\displaystyle - d \\sin{\\left(\\alpha \\right)} + f \\left(- \\sin{\\left(\\alpha \\right)} \\cos{\\left(\\beta \\right)} - \\sin{\\left(\\beta \\right)} \\cos{\\left(\\alpha \\right)}\\right)$"
      ],
      "text/plain": [
       "-d⋅sin(α) + f⋅(-sin(α)⋅cos(β) - sin(β)⋅cos(α))"
      ]
     },
     "execution_count": 9,
     "metadata": {},
     "output_type": "execute_result"
    }
   ],
   "source": [
    "dvdalphaAy"
   ]
  },
  {
   "cell_type": "code",
   "execution_count": 10,
   "id": "01d25700-b53b-4ca4-b0a9-de65c9848dbd",
   "metadata": {},
   "outputs": [
    {
     "data": {
      "text/latex": [
       "$\\displaystyle d \\cos{\\left(\\alpha \\right)} + f \\left(- \\sin{\\left(\\alpha \\right)} \\sin{\\left(\\beta \\right)} + \\cos{\\left(\\alpha \\right)} \\cos{\\left(\\beta \\right)}\\right)$"
      ],
      "text/plain": [
       "d⋅cos(α) + f⋅(-sin(α)⋅sin(β) + cos(α)⋅cos(β))"
      ]
     },
     "execution_count": 10,
     "metadata": {},
     "output_type": "execute_result"
    }
   ],
   "source": [
    "dvdalphaAz"
   ]
  },
  {
   "cell_type": "markdown",
   "id": "ced0f527-475b-4ef6-b1e7-7aacd5a45037",
   "metadata": {},
   "source": [
    "Now construct the vector for $\\frac{^A \\partial \\bar{v}}{\\partial \\alpha}$ using the new measure number and the unit vectos in $\\{A\\}$"
   ]
  },
  {
   "cell_type": "code",
   "execution_count": 11,
   "id": "f30b7135-7493-4c2f-8425-7a791599b028",
   "metadata": {},
   "outputs": [
    {
     "data": {
      "text/latex": [
       "$\\displaystyle (- d \\sin{\\left(\\alpha \\right)} + f \\left(- \\sin{\\left(\\alpha \\right)} \\cos{\\left(\\beta \\right)} - \\sin{\\left(\\beta \\right)} \\cos{\\left(\\alpha \\right)}\\right))\\mathbf{\\hat{a}_y} + (d \\cos{\\left(\\alpha \\right)} + f \\left(- \\sin{\\left(\\alpha \\right)} \\sin{\\left(\\beta \\right)} + \\cos{\\left(\\alpha \\right)} \\cos{\\left(\\beta \\right)}\\right))\\mathbf{\\hat{a}_z}$"
      ],
      "text/plain": [
       "(-d⋅sin(α) + f⋅(-sin(α)⋅cos(β) - sin(β)⋅cos(α))) a_y + (d⋅cos(α) + f⋅(-sin(α)⋅sin(β) + cos(α)⋅cos(β))) a_z"
      ]
     },
     "execution_count": 11,
     "metadata": {},
     "output_type": "execute_result"
    }
   ],
   "source": [
    "dvdalpha = dvdalphaAx*A.x + dvdalphaAy*A.y + dvdalphaAz*A.z\n",
    "dvdalpha"
   ]
  },
  {
   "cell_type": "markdown",
   "id": "357a5e50-7be6-4cd3-8710-ba9d5d45feaa",
   "metadata": {},
   "source": [
    "To do it using built-in function"
   ]
  },
  {
   "cell_type": "code",
   "execution_count": 12,
   "id": "4892011e-4621-4aad-9580-49f8f465bbfb",
   "metadata": {},
   "outputs": [],
   "source": [
    "dvdalpha_in_A = v.diff(alpha, A) # which reads diff v expressed in {A} w.r.t alpha  "
   ]
  },
  {
   "cell_type": "code",
   "execution_count": 38,
   "id": "3f33a5f1-e7f6-446f-b81e-529ab668f2b1",
   "metadata": {},
   "outputs": [
    {
     "data": {
      "text/latex": [
       "$\\displaystyle (- d \\sin{\\left(\\alpha \\right)} + f \\left(- \\sin{\\left(\\alpha \\right)} \\cos{\\left(\\beta \\right)} - \\sin{\\left(\\beta \\right)} \\cos{\\left(\\alpha \\right)}\\right))\\mathbf{\\hat{a}_y} + (d \\cos{\\left(\\alpha \\right)} + f \\left(- \\sin{\\left(\\alpha \\right)} \\sin{\\left(\\beta \\right)} + \\cos{\\left(\\alpha \\right)} \\cos{\\left(\\beta \\right)}\\right))\\mathbf{\\hat{a}_z}$"
      ],
      "text/plain": [
       "(-d⋅sin(α) + f⋅(-sin(α)⋅cos(β) - sin(β)⋅cos(α))) a_y + (d⋅cos(α) + f⋅(-sin(α)⋅sin(β) + cos(α)⋅cos(β))) a_z"
      ]
     },
     "execution_count": 38,
     "metadata": {},
     "output_type": "execute_result"
    }
   ],
   "source": [
    "dvdalpha_in_A.express(A)"
   ]
  },
  {
   "cell_type": "markdown",
   "id": "e052cf6e-59bf-4207-8a38-fe7f5336aed2",
   "metadata": {},
   "source": [
    "Example: calculate $\\frac{^B \\partial \\bar{v}}{\\partial e}$"
   ]
  },
  {
   "cell_type": "code",
   "execution_count": 28,
   "id": "2b38ccc2-43b6-40b2-ade9-0ea8efa372eb",
   "metadata": {},
   "outputs": [],
   "source": [
    "dvde_Bx = v.dot(B.x).diff(e)\n",
    "dvde_By = v.dot(B.y).diff(e)\n",
    "dvde_Bz = v.dot(B.z).diff(e)\n",
    "dvde_in_B = dvde_Bx*B.x + dvde_By*B.y + dvde_Bz*B.z"
   ]
  },
  {
   "cell_type": "code",
   "execution_count": 29,
   "id": "8f9b4e0c-10d6-4984-93c4-900babb901b4",
   "metadata": {},
   "outputs": [
    {
     "data": {
      "text/latex": [
       "$\\displaystyle \\mathbf{\\hat{b}_x}$"
      ],
      "text/plain": [
       "b_x"
      ]
     },
     "execution_count": 29,
     "metadata": {},
     "output_type": "execute_result"
    }
   ],
   "source": [
    "dvde_in_B"
   ]
  },
  {
   "cell_type": "code",
   "execution_count": 41,
   "id": "f670b3ad-86ad-4bd0-8f8b-6254e2a50e92",
   "metadata": {},
   "outputs": [
    {
     "data": {
      "text/latex": [
       "$\\displaystyle \\mathbf{\\hat{b}_x}$"
      ],
      "text/plain": [
       "b_x"
      ]
     },
     "execution_count": 41,
     "metadata": {},
     "output_type": "execute_result"
    }
   ],
   "source": [
    "v.diff(e, B).express(B)"
   ]
  },
  {
   "cell_type": "markdown",
   "id": "161154a2-f9e1-4e40-b544-296eeacfd757",
   "metadata": {},
   "source": [
    "### \"express\" vs differentiation \n",
    "A vector can be expressed in any reference frame. \n",
    "Simply project the vector onto the unit (mutually perpendicular) vector of fixed in the frame of interest.\n",
    "Then rewrite the vector in terms of the new (projected) measure numbers associated with the 3 unit vectors using the relavent dcm entries.\n",
    "This is the same as using a transformation $^A X_B$, i.e. $\\{B\\}$ expressed in $\\{A\\}$: ${^A} v = {^A} X_B \\; {^B} v$"
   ]
  },
  {
   "cell_type": "code",
   "execution_count": null,
   "id": "82215dad-3a76-45fb-86ef-c75eb7ae9c10",
   "metadata": {},
   "outputs": [],
   "source": []
  }
 ],
 "metadata": {
  "kernelspec": {
   "display_name": "Python 3 (ipykernel)",
   "language": "python",
   "name": "python3"
  },
  "language_info": {
   "codemirror_mode": {
    "name": "ipython",
    "version": 3
   },
   "file_extension": ".py",
   "mimetype": "text/x-python",
   "name": "python",
   "nbconvert_exporter": "python",
   "pygments_lexer": "ipython3",
   "version": "3.11.6"
  }
 },
 "nbformat": 4,
 "nbformat_minor": 5
}
