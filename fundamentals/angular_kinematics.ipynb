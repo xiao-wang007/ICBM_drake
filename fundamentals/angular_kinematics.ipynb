{
 "cells": [
  {
   "cell_type": "code",
   "execution_count": 1,
   "id": "19a5e19f-94cc-46d8-85e6-60f79ef74356",
   "metadata": {},
   "outputs": [],
   "source": [
    "import sympy as sm\n",
    "import sympy.physics.mechanics as me\n",
    "me.init_vprinting(use_latex='mathjax')"
   ]
  },
  {
   "cell_type": "markdown",
   "id": "3a93f1da-2b20-4cb8-b310-16f1d0d9c1cb",
   "metadata": {},
   "source": [
    "# Section 1: Angular Velocity\n",
    "Reference frames can be oriented relative to each other, using $R \\in SO(3)$. \n",
    "If the relative orientation of the two reference frame changes w.r.t time, then the angular velocity ${}^A\\bar{\\omega}^B$, which reads the angular velocity of $\\{B\\}$ observed in $\\{A\\}$,\n",
    "can be calculated."
   ]
  },
  {
   "cell_type": "markdown",
   "id": "06382ee0-3c3c-48d7-ae11-4816855117f7",
   "metadata": {},
   "source": [
    "If $\\hat{b}_x$, $\\hat{b}_y$, $\\hat{b}_z$ are the right-handed mutually perpendicular unit vectors fixed in $\\{B\\}$,\n",
    "then:\n",
    "\n",
    "${}^A\\bar{\\omega}^B :=\n",
    "\\left(\\frac{{}^A d\\hat{b}_y}{dt} \\cdot \\hat{b}_z\\right) \\hat{b}_x +\n",
    "\\left(\\frac{{}^A d\\hat{b}_z}{dt} \\cdot \\hat{b}_x\\right) \\hat{b}_y +\n",
    "\\left(\\frac{{}^A d\\hat{b}_x}{dt} \\cdot \\hat{b}_y\\right) \\hat{b}_z $"
   ]
  },
  {
   "cell_type": "markdown",
   "id": "88c45fa2-8eab-4912-ade9-7fb352ecfcd2",
   "metadata": {},
   "source": [
    "The rotation matrix of $\\{B\\}$ w.r.t $\\{A\\}$ or (from A to B) ${{}^B R^A}$ is used to rotate the $SO(3)$ of $\\{A\\}$ to $\\{B\\}$:\n",
    "i.e. $\\hat{B} = {}^B R^A \\hat{A}$\n",
    "\n",
    "## The take-away:\n",
    "__Given this ${}^B R^A$ at any instance of time and also the time derivatives of its each entries, we can compute ${}^A\\bar{\\omega}^B$. Computing $\\frac{{}^A\\hat{b}_x}{dt}$ requires to project the basis vectors in $\\{B\\}$ onto those of $\\{A\\}$. By doing so, the only the measure numbers is changing with time, not the basis vectors (as no longer expressed in $\\{B\\}$)__\n",
    "\n",
    "$\\begin{split}\n",
    "\\hat{b}_x & = c_{xx} \\hat{a}_x + c_{xy} \\hat{a}_y + c_{xz} \\hat{a}_z \\\\\n",
    "\\hat{b}_y & = c_{yx} \\hat{a}_x + c_{yy} \\hat{a}_y + c_{yz} \\hat{a}_z \\\\\n",
    "\\hat{b}_z & = c_{zx} \\hat{a}_x + c_{zy} \\hat{a}_y + c_{zz} \\hat{a}_z\\end{split}$"
   ]
  },
  {
   "cell_type": "code",
   "execution_count": 3,
   "id": "3266b467-3b16-47ab-baa5-7997e203962d",
   "metadata": {},
   "outputs": [],
   "source": [
    "# create the dcm with time varying elements\n",
    "# .dynamicsymbols() is implicit on t\n",
    "cxx, cxy, cxz = me.dynamicsymbols(\"c_{xx}, c_{xy}, c_{xz}\")\n",
    "cyx, cyy, cyz = me.dynamicsymbols(\"c_{yx}, c_{yy}, c_{yz}\")\n",
    "czx, czy, czz = me.dynamicsymbols(\"c_{zx}, c_{zy}, c_{zz}\")\n",
    "B_R_A = sm.Matrix([[cxx, cxy, cxz],\n",
    "                   [cyx, cyy, cyz],\n",
    "                   [czx, czy, czz]]) "
   ]
  },
  {
   "cell_type": "code",
   "execution_count": 8,
   "id": "7487088c-1412-4c32-98be-4930366d8af4",
   "metadata": {},
   "outputs": [
    {
     "data": {
      "text/latex": [
       "$\\displaystyle \\left[\\begin{matrix}c_{xx} & c_{xy} & c_{xz}\\\\c_{yx} & c_{yy} & c_{yz}\\\\c_{zx} & c_{zy} & c_{zz}\\end{matrix}\\right]$"
      ],
      "text/plain": [
       "⎡c_{xx}  c_{xy}  c_{xz}⎤\n",
       "⎢                      ⎥\n",
       "⎢c_{yx}  c_{yy}  c_{yz}⎥\n",
       "⎢                      ⎥\n",
       "⎣c_{zx}  c_{zy}  c_{zz}⎦"
      ]
     },
     "execution_count": 8,
     "metadata": {},
     "output_type": "execute_result"
    }
   ],
   "source": [
    "A = me.ReferenceFrame('A')\n",
    "B = me.ReferenceFrame('B')\n",
    "\n",
    "# this reads orient B relative to A by B_R_A\n",
    "B.orient_explicit(A, B_R_A.transpose()) # .orient_explicit() applies the orientation with transpose on default \n",
    "B.dcm(A)"
   ]
  },
  {
   "cell_type": "markdown",
   "id": "bea9bd1e-c6e1-4087-b2b3-c843d9956d96",
   "metadata": {},
   "source": [
    "__Writing the unit vector $\\hat{b}_x$, $\\hat{b}_y$, $\\hat{b}_z$ of $\\{B\\}$ in terms of $\\hat{a}_x$, $\\hat{a}_y$, $\\hat{a}_z$ of $\\{A\\}$__"
   ]
  },
  {
   "cell_type": "code",
   "execution_count": 9,
   "id": "8300df3b-a149-47b5-a7c3-9b54ca235ecc",
   "metadata": {},
   "outputs": [
    {
     "data": {
      "text/latex": [
       "$\\displaystyle c_{xx}\\mathbf{\\hat{a}_x} + c_{xy}\\mathbf{\\hat{a}_y} + c_{xz}\\mathbf{\\hat{a}_z}$"
      ],
      "text/plain": [
       "c_{xx} a_x + c_{xy} a_y + c_{xz} a_z"
      ]
     },
     "execution_count": 9,
     "metadata": {},
     "output_type": "execute_result"
    }
   ],
   "source": [
    "B.x.express(A)"
   ]
  },
  {
   "cell_type": "code",
   "execution_count": 10,
   "id": "6a01b8dc-ef6f-427d-8dce-8031dbcea7bc",
   "metadata": {},
   "outputs": [
    {
     "data": {
      "text/latex": [
       "$\\displaystyle c_{yx}\\mathbf{\\hat{a}_x} + c_{yy}\\mathbf{\\hat{a}_y} + c_{yz}\\mathbf{\\hat{a}_z}$"
      ],
      "text/plain": [
       "c_{yx} a_x + c_{yy} a_y + c_{yz} a_z"
      ]
     },
     "execution_count": 10,
     "metadata": {},
     "output_type": "execute_result"
    }
   ],
   "source": [
    "B.y.express(A)"
   ]
  },
  {
   "cell_type": "code",
   "execution_count": 11,
   "id": "05ebd1ed-5c86-4b62-b188-320f4fdf5ad2",
   "metadata": {},
   "outputs": [
    {
     "data": {
      "text/latex": [
       "$\\displaystyle c_{zx}\\mathbf{\\hat{a}_x} + c_{zy}\\mathbf{\\hat{a}_y} + c_{zz}\\mathbf{\\hat{a}_z}$"
      ],
      "text/plain": [
       "c_{zx} a_x + c_{zy} a_y + c_{zz} a_z"
      ]
     },
     "execution_count": 11,
     "metadata": {},
     "output_type": "execute_result"
    }
   ],
   "source": [
    "B.z.express(A)"
   ]
  },
  {
   "cell_type": "markdown",
   "id": "73d94a13-717c-45b7-8804-3108d57d6adf",
   "metadata": {},
   "source": [
    "To compute the angular velocities, the derivative of $\\{B\\}$'s unit vector, $\\frac{{}^A\\hat{b}_x}{dt}$, $\\frac{{}^A\\hat{b}_y}{dt}$, $\\frac{{}^A\\hat{b}_z}{dt}$ need to be calculated, and then the measure numbers can be obtained by dotting this derivative with the corresponding unit vector, such as $\\frac{{}^A\\hat{b}_x}{dt} \\cdot \\hat{b}_z$ "
   ]
  },
  {
   "cell_type": "code",
   "execution_count": 17,
   "id": "df53eeed-9dab-406e-8e54-f9c5cbc7ea61",
   "metadata": {},
   "outputs": [
    {
     "data": {
      "text/latex": [
       "$\\displaystyle \\dot{c}_{xx}\\mathbf{\\hat{a}_x} + \\dot{c}_{xy}\\mathbf{\\hat{a}_y} + \\dot{c}_{xz}\\mathbf{\\hat{a}_z}$"
      ],
      "text/plain": [
       "c_{ẋx} a_x + c_{ẋy} a_y + c_{ẋz} a_z"
      ]
     },
     "execution_count": 17,
     "metadata": {},
     "output_type": "execute_result"
    }
   ],
   "source": [
    "# the derivative\n",
    "B.x.express(A).dt(A)"
   ]
  },
  {
   "cell_type": "markdown",
   "id": "bb0ea135-059e-46ea-bf6a-4b3b906e74f4",
   "metadata": {},
   "source": [
    "Then each measure number of ${}^A\\bar{\\omega}^B$ are then:"
   ]
  },
  {
   "cell_type": "code",
   "execution_count": 19,
   "id": "f5cd98ba-d4c0-41fb-a0f8-a95d394c702a",
   "metadata": {},
   "outputs": [
    {
     "data": {
      "text/latex": [
       "$\\displaystyle c_{zx} \\dot{c}_{xx} + c_{zy} \\dot{c}_{xy} + c_{zz} \\dot{c}_{xz}$"
      ],
      "text/plain": [
       "c_{zx}⋅c_{ẋx} + c_{zy}⋅c_{ẋy} + c_{zz}⋅c_{ẋz}"
      ]
     },
     "execution_count": 19,
     "metadata": {},
     "output_type": "execute_result"
    }
   ],
   "source": [
    "# the measure numbers \n",
    "mnx = me.dot(B.x.express(A).dt(A), B.z)\n",
    "mnx"
   ]
  },
  {
   "cell_type": "code",
   "execution_count": 20,
   "id": "77993329-534d-45e9-b575-d3e13a3d2ab5",
   "metadata": {},
   "outputs": [
    {
     "data": {
      "text/latex": [
       "$\\displaystyle c_{xx} \\dot{c}_{yx} + c_{xy} \\dot{c}_{yy} + c_{xz} \\dot{c}_{yz}$"
      ],
      "text/plain": [
       "c_{xx}⋅c_{ẏx} + c_{xy}⋅c_{ẏy} + c_{xz}⋅c_{ẏz}"
      ]
     },
     "execution_count": 20,
     "metadata": {},
     "output_type": "execute_result"
    }
   ],
   "source": [
    "mny = me.dot(B.y.express(A).dt(A), B.x)\n",
    "mny"
   ]
  },
  {
   "cell_type": "code",
   "execution_count": 22,
   "id": "881bbdc3-3c4c-4700-8278-b9fd6b513bc6",
   "metadata": {},
   "outputs": [
    {
     "data": {
      "text/latex": [
       "$\\displaystyle c_{yx} \\dot{c}_{zx} + c_{yy} \\dot{c}_{zy} + c_{yz} \\dot{c}_{zz}$"
      ],
      "text/plain": [
       "c_{yx}⋅c_{żx} + c_{yy}⋅c_{ży} + c_{yz}⋅c_{żz}"
      ]
     },
     "execution_count": 22,
     "metadata": {},
     "output_type": "execute_result"
    }
   ],
   "source": [
    "mnz = me.dot(B.z.express(A).dt(A), B.y)\n",
    "mnz"
   ]
  },
  {
   "cell_type": "code",
   "execution_count": 24,
   "id": "57f670b3-6b34-447c-a13d-15f48d95037e",
   "metadata": {},
   "outputs": [
    {
     "data": {
      "text/latex": [
       "$\\displaystyle (c_{zx} \\dot{c}_{xx} + c_{zy} \\dot{c}_{xy} + c_{zz} \\dot{c}_{xz})\\mathbf{\\hat{b}_x} + (c_{xx} \\dot{c}_{yx} + c_{xy} \\dot{c}_{yy} + c_{xz} \\dot{c}_{yz})\\mathbf{\\hat{b}_y} + (c_{yx} \\dot{c}_{zx} + c_{yy} \\dot{c}_{zy} + c_{yz} \\dot{c}_{zz})\\mathbf{\\hat{b}_z}$"
      ],
      "text/plain": [
       "(c_{zx}⋅c_{ẋx} + c_{zy}⋅c_{ẋy} + c_{zz}⋅c_{ẋz}) b_x + (c_{xx}⋅c_{ẏx} + c_{xy}⋅c_{ẏy} + c_{xz}⋅c_{ẏz}) b_y + (c_{yx}⋅c_{żx} +\n",
       " c_{yy}⋅c_{ży} + c_{yz}⋅c_{żz}) b_z"
      ]
     },
     "execution_count": 24,
     "metadata": {},
     "output_type": "execute_result"
    }
   ],
   "source": [
    "A_w_B = mnx*B.x + mny*B.y + mnz*B.z\n",
    "A_w_B"
   ]
  },
  {
   "cell_type": "markdown",
   "id": "b43f3aa6-bb8e-4e2d-87bd-549dde4ce9f9",
   "metadata": {},
   "source": [
    "__Exercise:__"
   ]
  },
  {
   "cell_type": "markdown",
   "id": "25dc5644-b13a-4a77-a1d2-fa301fa2ec80",
   "metadata": {},
   "source": [
    "At one instance of time, the dcm is:\n",
    "$\\begin{split}\n",
    "{}^B\\mathbf{C}^A =\n",
    "    \\begin{bmatrix}\n",
    "      \\frac{\\sqrt{2}}{4}  & \\frac{\\sqrt{2}}{2}  & \\frac{\\sqrt{6}}{4} \\\\\n",
    "      -\\frac{\\sqrt{3}}{2} &                  0  & \\frac{1}{2} \\\\\n",
    "      \\frac{\\sqrt{2}}{4}  & -\\frac{\\sqrt{2}}{2} & \\frac{\\sqrt{6}}{4}\n",
    "    \\end{bmatrix}\n",
    "  \\end{split}$"
   ]
  },
  {
   "cell_type": "markdown",
   "id": "aad527b7-92c1-4485-8507-50cff1acd081",
   "metadata": {},
   "source": [
    "And the time derivative of the entries of the dcm are:\n",
    "$\n",
    "\\begin{split}\n",
    "\\frac{d{}^B\\mathbf{R}^A}{dt} =\n",
    "    \\begin{bmatrix}\n",
    "      -\\frac{\\sqrt{6}}{2}-\\frac{3 \\sqrt{2}}{4} & -\\frac{\\sqrt{6}}{4}+\\frac{3 \\sqrt{2}}{2} &-\\frac{3 \\sqrt{6}}{4}+\\sqrt{2}\\\\\n",
    "      -1  &-\\frac{1}{2} & - \\sqrt{3}\\\\\n",
    "      -\\frac{\\sqrt{6}}{2} + \\frac{3 \\sqrt{2}}{4} & - \\frac{\\sqrt{6}}{4} + \\frac{3 \\sqrt{2}}{2} & \\frac{3 \\sqrt{6}}{4}\n",
    "    \\end{bmatrix}\n",
    "\\end{split}\n",
    "$\n",
    "apply the definition of angular velocity to find ${}^A \\bar{\\omega}^B$"
   ]
  },
  {
   "cell_type": "code",
   "execution_count": 32,
   "id": "dbddfe86-b144-4069-901e-bd504db7684c",
   "metadata": {},
   "outputs": [
    {
     "data": {
      "text/latex": [
       "$\\displaystyle \\left[\\begin{matrix}\\frac{\\sqrt{2}}{4} & \\frac{\\sqrt{2}}{2} & \\frac{\\sqrt{6}}{4}\\\\- \\frac{\\sqrt{3}}{2} & 0 & \\frac{1}{2}\\\\\\frac{\\sqrt{2}}{4} & - \\frac{\\sqrt{2}}{2} & \\frac{\\sqrt{6}}{4}\\end{matrix}\\right]$"
      ],
      "text/plain": [
       "⎡ √2    √2   √6 ⎤\n",
       "⎢ ──    ──   ── ⎥\n",
       "⎢ 4     2    4  ⎥\n",
       "⎢               ⎥\n",
       "⎢-√3            ⎥\n",
       "⎢────   0    1/2⎥\n",
       "⎢ 2             ⎥\n",
       "⎢               ⎥\n",
       "⎢ √2   -√2   √6 ⎥\n",
       "⎢ ──   ────  ── ⎥\n",
       "⎣ 4     2    4  ⎦"
      ]
     },
     "execution_count": 32,
     "metadata": {},
     "output_type": "execute_result"
    }
   ],
   "source": [
    "# the measure numbers of the angular velocity\n",
    "B_R_A = sm.Matrix([\n",
    "    [ sm.sqrt(2)/4,  sm.sqrt(2)/2, sm.sqrt(6)/4],\n",
    "    [-sm.sqrt(3)/2,          0,       sm.S(1)/2],\n",
    "    [ sm.sqrt(2)/4, -sm.sqrt(2)/2, sm.sqrt(6)/4]\n",
    "])\n",
    "B_R_A"
   ]
  },
  {
   "cell_type": "code",
   "execution_count": 31,
   "id": "834448a9-bcff-4a9e-b640-cd91d2463efb",
   "metadata": {},
   "outputs": [
    {
     "data": {
      "text/latex": [
       "$\\displaystyle \\left[\\begin{matrix}- \\frac{\\sqrt{6}}{2} - \\frac{3 \\sqrt{2}}{4} & - \\frac{\\sqrt{6}}{4} + \\frac{3 \\sqrt{2}}{2} & - \\frac{3 \\sqrt{6}}{4} + \\sqrt{2}\\\\-1 & - \\frac{1}{2} & - \\sqrt{3}\\\\- \\frac{\\sqrt{6}}{2} + \\frac{3 \\sqrt{2}}{4} & - \\frac{\\sqrt{6}}{4} + \\frac{3 \\sqrt{2}}{2} & \\frac{3 \\sqrt{6}}{4}\\end{matrix}\\right]$"
      ],
      "text/plain": [
       "⎡  √6   3⋅√2    √6   3⋅√2    3⋅√6     ⎤\n",
       "⎢- ── - ────  - ── + ────  - ──── + √2⎥\n",
       "⎢  2     4      4     2       4       ⎥\n",
       "⎢                                     ⎥\n",
       "⎢    -1          -1/2          -√3    ⎥\n",
       "⎢                                     ⎥\n",
       "⎢  √6   3⋅√2    √6   3⋅√2     3⋅√6    ⎥\n",
       "⎢- ── + ────  - ── + ────     ────    ⎥\n",
       "⎣  2     4      4     2        4      ⎦"
      ]
     },
     "execution_count": 31,
     "metadata": {},
     "output_type": "execute_result"
    }
   ],
   "source": [
    "B_R_A_dt = sm.Matrix([\n",
    "    [-sm.sqrt(6)/2 - 3*sm.sqrt(2)/4, -sm.sqrt(6)/4 + 3*sm.sqrt(2)/2, -3*sm.sqrt(6)/4 + sm.sqrt(2)],\n",
    "    [                      -1,                     -sm.S(1)/2,               -sm.sqrt(3)],\n",
    "    [-sm.sqrt(6)/2 + 3*sm.sqrt(2)/4, -sm.sqrt(6)/4 + 3*sm.sqrt(2)/2,            3*sm.sqrt(6)/4]\n",
    "])\n",
    "B_R_A_dt"
   ]
  },
  {
   "cell_type": "code",
   "execution_count": 42,
   "id": "12af8d02-b202-4d78-b900-7b28412fc92a",
   "metadata": {},
   "outputs": [
    {
     "data": {
      "text/latex": [
       "$\\displaystyle - \\frac{3 \\sqrt{2}}{4}$"
      ],
      "text/plain": [
       "-3⋅√2 \n",
       "──────\n",
       "  4   "
      ]
     },
     "execution_count": 42,
     "metadata": {},
     "output_type": "execute_result"
    }
   ],
   "source": [
    "# then compute the measure number by recognizing the pattern\n",
    "mnx_ex = (B_R_A[2, :]*B_R_A_dt[1, :].transpose())[0, 0]\n",
    "mnx_ex"
   ]
  },
  {
   "cell_type": "code",
   "execution_count": 45,
   "id": "a7d5aaaa-be0b-48e8-8443-cbd55be86272",
   "metadata": {},
   "outputs": [],
   "source": [
    "mny_ex = (B_R_A[0, :]*B_R_A_dt[2, :].transpose())[0, 0]\n",
    "mnz_ex = (B_R_A[1, :]*B_R_A_dt[0, :].transpose())[0, 0]"
   ]
  },
  {
   "cell_type": "markdown",
   "id": "f7d33f7d-ca1b-400d-afc2-cbf4086eb220",
   "metadata": {},
   "source": [
    "A_w_B = mnx_ex*B.x + mny_ex*B.y + mnz_ex*B.z\n",
    "A_w_B"
   ]
  },
  {
   "cell_type": "code",
   "execution_count": 48,
   "id": "44a38554-69fb-4e22-9b41-3a7d238a5f5a",
   "metadata": {},
   "outputs": [
    {
     "data": {
      "text/latex": [
       "$\\displaystyle -  \\frac{3 \\sqrt{2}}{4}\\mathbf{\\hat{b}_x} + (3 - \\frac{\\sqrt{3}}{2})\\mathbf{\\hat{b}_y} + \\frac{5 \\sqrt{2}}{4}\\mathbf{\\hat{b}_z}$"
      ],
      "text/plain": [
       "-3⋅√2        ⎛    √3⎞       5⋅√2\n",
       "────── b_x + ⎜3 - ──⎟ b_y + ──── b_z\n",
       "  4          ⎝    2 ⎠        4"
      ]
     },
     "execution_count": 48,
     "metadata": {},
     "output_type": "execute_result"
    }
   ],
   "source": [
    "A_w_B.simplify()"
   ]
  },
  {
   "cell_type": "markdown",
   "id": "5f140a30-a4dc-4308-bb35-81c4a65fd775",
   "metadata": {},
   "source": [
    "## A NOTE: how is $\\frac{d {}^B R^A}{dt}$ or ${}^B\\dot{R}^A$ the derivatives of the dcm obtained in the first place??\n",
    "\n",
    "$\\frac{dC}{dt}= \\Omega C$, where $\\Omega$ is the skew-symmetric representation of the angular velocity."
   ]
  },
  {
   "cell_type": "markdown",
   "id": "283c8eed-e6d3-4c80-bbdf-cabeecb55192",
   "metadata": {},
   "source": [
    "In practice (according to my experience so far), a time sequenced transformation $T \\in SE(3)$ is generated by interpolation or time-optimal scaling, or by kinematics with constraints (convex programming). The $R \\in SO(3)$ is included in $T$. The angular velocity is then computed from the time sequenced rotations. We can compute the angular velocity in $\\{space\\}$ or $\\{body\\}$ using:  "
   ]
  },
  {
   "cell_type": "markdown",
   "id": "43bf1437-0e54-4080-96f5-4493bad7b8ef",
   "metadata": {},
   "source": [
    "$\\Omega_s = \\dot{R}R^{-1}$ and"
   ]
  },
  {
   "cell_type": "markdown",
   "id": "ab3abd5f-b52b-4d11-8d80-2de050115bda",
   "metadata": {},
   "source": [
    "$\\Omega_b = R^{-1}\\dot{R}$ "
   ]
  },
  {
   "cell_type": "markdown",
   "id": "97f61a07-51f4-43a3-bfc1-c6e32322de8d",
   "metadata": {},
   "source": [
    "Then by setting $\\Delta t = 1$, $\\Omega_s = RR^{-1}$. Likewise for $\\Omega_b$"
   ]
  },
  {
   "cell_type": "markdown",
   "id": "213ae5d2-3c08-4a64-a74d-d5e1e935d08b",
   "metadata": {},
   "source": [
    "# Section 3: Time Derivatives of Vectors"
   ]
  },
  {
   "cell_type": "markdown",
   "id": "e9360ca2-8125-4a69-b40b-7a89c9a995e8",
   "metadata": {},
   "source": [
    "The time derivative of a unit vector fixed in $\\{B\\}$ is related to $\\{B\\}$'s angular velocity by:\n",
    "$\\frac{{}^Ad\\hat{b}_x}{dt} = {}^A \\bar{\\omega}^B \\times \\hat{b}_x$. This indicates that the derivative is always normal to the unit vector because the magnitude of the unit vector is constant and the derivatives scales with the magnitude of the angular velocity:"
   ]
  },
  {
   "cell_type": "markdown",
   "id": "03ba93b2-6db5-44cd-b085-e58f957f0310",
   "metadata": {},
   "source": [
    "$\\frac{{}^Ad\\hat{b}_x}{dt} = |{}^A \\bar{\\omega}^B| ({}^A \\hat{\\omega}^B \\times \\hat{b}_x)$\n",
    "This reads the unit vector fixed in $\\{B\\}$ and observed in $\\{A\\}$."
   ]
  },
  {
   "cell_type": "markdown",
   "id": "9d45e8fa-4f38-4570-a2bd-6cc97173928c",
   "metadata": {},
   "source": [
    "__Case 1: fixed in $\\{B\\}$__"
   ]
  },
  {
   "cell_type": "markdown",
   "id": "4d49f843-9a73-4376-8dbd-f0dd1407957a",
   "metadata": {},
   "source": [
    "Now if vector $\\bar{v} = v\\hat{b}_x$ and v is constant w.r.t time then:\n",
    "$\\frac{{}^A d\\bar{v}}{dt} = v({}^A \\bar{\\omega}^B \\times \\hat{b}_x) = {}^A \\bar{\\omega}^B \\times v \\hat{b}_x = {}^A \\bar{\\omega}^B \\times \\bar{v}$. Then we are able to extend this to express any vector fixed in $\\{B\\}$ and observed from $\\{A\\}$\n",
    "\n",
    "<div class=\"alert alert-block alert-success\">\n",
    "<b>An intuitive understanding:</b> Think of this $\\bar{u}$ represent a point in $\\{b\\}$, this can be any point on the rigid object, saying a basket ball, which is fixed in the basketball's body frame. What is calculated here, the $\\frac{{}^A d\\bar{v}}{dt}$ is the velocity of this point as you are standing still watching it passing by while it is also spinning. This measure of velocity is from your point of view. \n",
    "</div>"
   ]
  },
  {
   "cell_type": "markdown",
   "id": "fb1b3897-ea90-4aeb-96a8-ce15982d0a70",
   "metadata": {},
   "source": [
    "__Case 2: NOT fixed in $\\{B\\}$__"
   ]
  },
  {
   "cell_type": "markdown",
   "id": "83dec44c-6213-4f32-a75b-7b59cc75c077",
   "metadata": {},
   "source": [
    "Now if the vector $\\bar{u}$ is a vector not fixed in $\\{B\\}$, as previously, use the Product Rule. __We first need to express $\\bar{u}$ in $\\{B\\}$:__ $\\bar{u} = u_1\\hat{b}_x + u_2\\hat{b}_y + u_3\\hat{b}_z$."
   ]
  },
  {
   "cell_type": "markdown",
   "id": "c633b12c-90bb-4357-8834-873f2799844c",
   "metadata": {},
   "source": [
    "$\\begin{split}\n",
    "\\frac{{}^Ad\\bar{u}}{dt} &=\n",
    "\\dot{u}_1\\hat{b}_x + \\dot{u}_2\\hat{b}_y + \\dot{u}_3\\hat{b}_z + u_1\\frac{{}^Ad\\hat{b}_x}{dt} + u_2\\frac{{}^Ad\\hat{b}_y}{dt} + u_3\\frac{{}^Ad\\hat{b}_z}{dt} \\\\\n",
    "\\frac{{}^Ad\\bar{u}}{dt} &= \n",
    "\\frac{{}^Bd\\bar{u}}{dt} + u_1{}^A\\bar{\\omega}^B\\times\\hat{b}_x + u_2{}^A\\bar{\\omega}^B\\times\\hat{b}_y + u_3{}^A\\bar{\\omega}^B\\times\\hat{b}_z \\\\\n",
    "\\frac{{}^Ad\\bar{u}}{dt} &= \n",
    "\\frac{{}^Bd\\bar{u}}{dt} + {}^A\\bar{\\omega}^B\\times\\bar{u}\n",
    "\\end{split}$\n",
    "\n",
    "which reads: the time derivative of $\\bar{u}$ which is moving in $\\{B\\}$ and observed in $\\{A\\}$ equals to the part (translation) in $\\{B\\}$ plus the part in $\\{A\\}$ (by rotation).\n",
    "\n",
    "__This is powerful as it allows us to differentiate any vector if we know how it changes in a rotating reference frame relative to the reference frame from which we are observing the change!!!!__\n",
    "\n",
    "<div class=\"alert alert-block alert-success\">\n",
    "<b>An intuitive understanding:</b> Think of this $\\bar{u}$ represent a point in $\\{b\\}$, but the body is no longer a rigid body but a deformable one (it can also be other cases such as you throw a tube with a ball inside that can move within, here just one of the many illustrations), saying a pancake, which is not fixed in the pancake's body frame because it will be streched while spinning. What is calculated here, the $\\frac{{}^A d\\bar{v}}{dt}$ is the velocity of this point as you are standing still watching it passing by while it is also spinning with deformation. The point has relative motion in $\\{B\\}$. This measure of velocity from your point of view includes the pancake frame's motion plus the streching part of motion (vector + vector).\n",
    "</div>"
   ]
  },
  {
   "cell_type": "code",
   "execution_count": 49,
   "id": "87d6410a-42a3-4f67-bc02-a3c2d5daca4a",
   "metadata": {},
   "outputs": [
    {
     "data": {
      "text/latex": [
       "$\\displaystyle u_{1}\\mathbf{\\hat{b}_x} + u_{2}\\mathbf{\\hat{b}_y} + u_{3}\\mathbf{\\hat{b}_z}$"
      ],
      "text/plain": [
       "u₁ b_x + u₂ b_y + u₃ b_z"
      ]
     },
     "execution_count": 49,
     "metadata": {},
     "output_type": "execute_result"
    }
   ],
   "source": [
    "psi, theta, phi = me.dynamicsymbols(\"psi, theta, phi\")\n",
    "\n",
    "A = me.ReferenceFrame('A')\n",
    "B = me.ReferenceFrame('B')\n",
    "B.orient_body_fixed(A, (psi, theta, 0), 'ZXZ')\n",
    "\n",
    "u1, u2, u3 = me.dynamicsymbols(\"u1, u2, u3\")\n",
    "u = u1*B.x + u2*B.y + u3*B.z\n",
    "u"
   ]
  },
  {
   "cell_type": "markdown",
   "id": "ebf425e8-cc98-46c9-8115-4d4ed5498720",
   "metadata": {},
   "source": [
    "Now express $\\bar{u}$ in $\\{A\\}$ and take the time derivative of the measure numbers to obtain $\\frac{{}^Ad\\bar{u}}{dt}$"
   ]
  },
  {
   "cell_type": "code",
   "execution_count": 50,
   "id": "5b81a246-c546-43f7-99f6-225afe6ff6ee",
   "metadata": {},
   "outputs": [
    {
     "data": {
      "text/latex": [
       "$\\displaystyle (u_{1} \\cos{\\left(\\psi \\right)} - u_{2} \\sin{\\left(\\psi \\right)} \\cos{\\left(\\theta \\right)} + u_{3} \\sin{\\left(\\psi \\right)} \\sin{\\left(\\theta \\right)})\\mathbf{\\hat{a}_x} + (u_{1} \\sin{\\left(\\psi \\right)} + u_{2} \\cos{\\left(\\psi \\right)} \\cos{\\left(\\theta \\right)} - u_{3} \\sin{\\left(\\theta \\right)} \\cos{\\left(\\psi \\right)})\\mathbf{\\hat{a}_y} + (u_{2} \\sin{\\left(\\theta \\right)} + u_{3} \\cos{\\left(\\theta \\right)})\\mathbf{\\hat{a}_z}$"
      ],
      "text/plain": [
       "(u₁⋅cos(ψ) - u₂⋅sin(ψ)⋅cos(θ) + u₃⋅sin(ψ)⋅sin(θ)) a_x + (u₁⋅sin(ψ) + u₂⋅cos(ψ)⋅cos(θ) - u₃⋅sin(θ)⋅cos(ψ)) a_y + (u₂⋅sin(θ) + u₃⋅cos\n",
       "(θ)) a_z"
      ]
     },
     "execution_count": 50,
     "metadata": {},
     "output_type": "execute_result"
    }
   ],
   "source": [
    "u.express(A)"
   ]
  },
  {
   "cell_type": "code",
   "execution_count": 73,
   "id": "f0a5b510-bd31-4023-9086-d7278eebf205",
   "metadata": {},
   "outputs": [
    {
     "data": {
      "text/latex": [
       "$\\displaystyle (- u_{1} \\sin{\\left(\\psi \\right)} \\dot{\\psi} + u_{2} \\sin{\\left(\\psi \\right)} \\sin{\\left(\\theta \\right)} \\dot{\\theta} - u_{2} \\cos{\\left(\\psi \\right)} \\cos{\\left(\\theta \\right)} \\dot{\\psi} + u_{3} \\sin{\\left(\\psi \\right)} \\cos{\\left(\\theta \\right)} \\dot{\\theta} + u_{3} \\sin{\\left(\\theta \\right)} \\cos{\\left(\\psi \\right)} \\dot{\\psi} + \\sin{\\left(\\psi \\right)} \\sin{\\left(\\theta \\right)} \\dot{u}_{3} - \\sin{\\left(\\psi \\right)} \\cos{\\left(\\theta \\right)} \\dot{u}_{2} + \\cos{\\left(\\psi \\right)} \\dot{u}_{1})\\mathbf{\\hat{a}_x} + (u_{1} \\cos{\\left(\\psi \\right)} \\dot{\\psi} - u_{2} \\sin{\\left(\\psi \\right)} \\cos{\\left(\\theta \\right)} \\dot{\\psi} - u_{2} \\sin{\\left(\\theta \\right)} \\cos{\\left(\\psi \\right)} \\dot{\\theta} + u_{3} \\sin{\\left(\\psi \\right)} \\sin{\\left(\\theta \\right)} \\dot{\\psi} - u_{3} \\cos{\\left(\\psi \\right)} \\cos{\\left(\\theta \\right)} \\dot{\\theta} + \\sin{\\left(\\psi \\right)} \\dot{u}_{1} - \\sin{\\left(\\theta \\right)} \\cos{\\left(\\psi \\right)} \\dot{u}_{3} + \\cos{\\left(\\psi \\right)} \\cos{\\left(\\theta \\right)} \\dot{u}_{2})\\mathbf{\\hat{a}_y} + (u_{2} \\cos{\\left(\\theta \\right)} \\dot{\\theta} - u_{3} \\sin{\\left(\\theta \\right)} \\dot{\\theta} + \\sin{\\left(\\theta \\right)} \\dot{u}_{2} + \\cos{\\left(\\theta \\right)} \\dot{u}_{3})\\mathbf{\\hat{a}_z}$"
      ],
      "text/plain": [
       "(-u₁⋅sin(ψ)⋅ψ̇ + u₂⋅sin(ψ)⋅sin(θ)⋅θ̇ - u₂⋅cos(ψ)⋅cos(θ)⋅ψ̇ + u₃⋅sin(ψ)⋅cos(θ)⋅θ̇ + u₃⋅sin(θ)⋅cos(ψ)⋅ψ̇ + sin(ψ)⋅sin(θ)⋅u₃̇ - sin(ψ)\n",
       "⋅cos(θ)⋅u₂̇ + cos(ψ)⋅u₁̇) a_x + (u₁⋅cos(ψ)⋅ψ̇ - u₂⋅sin(ψ)⋅cos(θ)⋅ψ̇ - u₂⋅sin(θ)⋅cos(ψ)⋅θ̇ + u₃⋅sin(ψ)⋅sin(θ)⋅ψ̇ - u₃⋅cos(ψ)⋅cos(θ)⋅\n",
       "θ̇ + sin(ψ)⋅u₁̇ - sin(θ)⋅cos(ψ)⋅u₃̇ + cos(ψ)⋅cos(θ)⋅u₂̇) a_y + (u₂⋅cos(θ)⋅θ̇ - u₃⋅sin(θ)⋅θ̇ + sin(θ)⋅u₂̇ + cos(θ)⋅u₃̇) a_z"
      ]
     },
     "execution_count": 73,
     "metadata": {},
     "output_type": "execute_result"
    }
   ],
   "source": [
    "u.express(A).dt(A).simplify()"
   ]
  },
  {
   "cell_type": "markdown",
   "id": "9861d3be-e09e-4b4d-bf4d-a895796f8d8b",
   "metadata": {},
   "source": [
    "If using the expression $\\frac{{}^Ad\\bar{u}}{dt} = \\frac{{}^Bd\\bar{u}}{dt} + {}^A\\bar{\\omega}^B\\times\\bar{u}$, there is no need to express $\\bar{u}$ in $\\{A\\}$."
   ]
  },
  {
   "cell_type": "markdown",
   "id": "dafd8015-ee36-4ae2-9e08-186598b392aa",
   "metadata": {},
   "source": [
    "$\\frac{{}^Bd\\bar{u}}{dt}$:"
   ]
  },
  {
   "cell_type": "code",
   "execution_count": 53,
   "id": "b2225b68-7af8-48d7-927d-b80eef148753",
   "metadata": {},
   "outputs": [
    {
     "data": {
      "text/latex": [
       "$\\displaystyle \\dot{u}_{1}\\mathbf{\\hat{b}_x} + \\dot{u}_{2}\\mathbf{\\hat{b}_y} + \\dot{u}_{3}\\mathbf{\\hat{b}_z}$"
      ],
      "text/plain": [
       "u₁̇ b_x + u₂̇ b_y + u₃̇ b_z"
      ]
     },
     "execution_count": 53,
     "metadata": {},
     "output_type": "execute_result"
    }
   ],
   "source": [
    "u.dt(B)"
   ]
  },
  {
   "cell_type": "markdown",
   "id": "177f9694-23d5-41a0-85d7-d45587eb714b",
   "metadata": {},
   "source": [
    "then ${}^A \\bar{\\omega}^B$ "
   ]
  },
  {
   "cell_type": "code",
   "execution_count": 56,
   "id": "fa177cc3-5d9f-4f6d-99d7-3699e11f442b",
   "metadata": {},
   "outputs": [
    {
     "data": {
      "text/latex": [
       "$\\displaystyle \\dot{\\theta}\\mathbf{\\hat{b}_x} + \\sin{\\left(\\theta \\right)} \\dot{\\psi}\\mathbf{\\hat{b}_y} + \\cos{\\left(\\theta \\right)} \\dot{\\psi}\\mathbf{\\hat{b}_z}$"
      ],
      "text/plain": [
       "θ̇ b_x + sin(θ)⋅ψ̇ b_y + cos(θ)⋅ψ̇ b_z"
      ]
     },
     "execution_count": 56,
     "metadata": {},
     "output_type": "execute_result"
    }
   ],
   "source": [
    "A_w_B = B.ang_vel_in(A)\n",
    "A_w_B"
   ]
  },
  {
   "cell_type": "code",
   "execution_count": 57,
   "id": "d015ea90-22a3-4b17-a740-926d6015479f",
   "metadata": {},
   "outputs": [
    {
     "data": {
      "text/latex": [
       "$\\displaystyle (- u_{2} \\cos{\\left(\\theta \\right)} \\dot{\\psi} + u_{3} \\sin{\\left(\\theta \\right)} \\dot{\\psi} + \\dot{u}_{1})\\mathbf{\\hat{b}_x} + (u_{1} \\cos{\\left(\\theta \\right)} \\dot{\\psi} - u_{3} \\dot{\\theta} + \\dot{u}_{2})\\mathbf{\\hat{b}_y} + (- u_{1} \\sin{\\left(\\theta \\right)} \\dot{\\psi} + u_{2} \\dot{\\theta} + \\dot{u}_{3})\\mathbf{\\hat{b}_z}$"
      ],
      "text/plain": [
       "(-u₂⋅cos(θ)⋅ψ̇ + u₃⋅sin(θ)⋅ψ̇ + u₁̇) b_x + (u₁⋅cos(θ)⋅ψ̇ - u₃⋅θ̇ + u₂̇) b_y + (-u₁⋅sin(θ)⋅ψ̇ + u₂⋅θ̇ + u₃̇) b_z"
      ]
     },
     "execution_count": 57,
     "metadata": {},
     "output_type": "execute_result"
    }
   ],
   "source": [
    "u.dt(B) + me.cross(A_w_B, u)"
   ]
  },
  {
   "cell_type": "code",
   "execution_count": 59,
   "id": "904e89f3-0ef0-4d19-be9c-f8b150d5ce86",
   "metadata": {},
   "outputs": [
    {
     "data": {
      "text/latex": [
       "$\\displaystyle (- u_{2} \\cos{\\left(\\theta \\right)} \\dot{\\psi} + u_{3} \\sin{\\left(\\theta \\right)} \\dot{\\psi} + \\dot{u}_{1})\\mathbf{\\hat{b}_x} + (u_{1} \\cos{\\left(\\theta \\right)} \\dot{\\psi} - u_{3} \\dot{\\theta} + \\dot{u}_{2})\\mathbf{\\hat{b}_y} + (- u_{1} \\sin{\\left(\\theta \\right)} \\dot{\\psi} + u_{2} \\dot{\\theta} + \\dot{u}_{3})\\mathbf{\\hat{b}_z}$"
      ],
      "text/plain": [
       "(-u₂⋅cos(θ)⋅ψ̇ + u₃⋅sin(θ)⋅ψ̇ + u₁̇) b_x + (u₁⋅cos(θ)⋅ψ̇ - u₃⋅θ̇ + u₂̇) b_y + (-u₁⋅sin(θ)⋅ψ̇ + u₂⋅θ̇ + u₃̇) b_z"
      ]
     },
     "execution_count": 59,
     "metadata": {},
     "output_type": "execute_result"
    }
   ],
   "source": [
    "u.express(A).dt(A).express(B).simplify()"
   ]
  },
  {
   "cell_type": "code",
   "execution_count": 65,
   "id": "467f21bf-03e9-45b4-b042-06bd885e263b",
   "metadata": {},
   "outputs": [
    {
     "data": {
      "text/latex": [
       "$\\displaystyle (- u_{2} \\cos{\\left(\\theta \\right)} \\dot{\\psi} + u_{3} \\sin{\\left(\\theta \\right)} \\dot{\\psi} + \\dot{u}_{1})\\mathbf{\\hat{b}_x} + (u_{1} \\cos{\\left(\\theta \\right)} \\dot{\\psi} - u_{3} \\dot{\\theta} + \\dot{u}_{2})\\mathbf{\\hat{b}_y} + (- u_{1} \\sin{\\left(\\theta \\right)} \\dot{\\psi} + u_{2} \\dot{\\theta} + \\dot{u}_{3})\\mathbf{\\hat{b}_z}$"
      ],
      "text/plain": [
       "(-u₂⋅cos(θ)⋅ψ̇ + u₃⋅sin(θ)⋅ψ̇ + u₁̇) b_x + (u₁⋅cos(θ)⋅ψ̇ - u₃⋅θ̇ + u₂̇) b_y + (-u₁⋅sin(θ)⋅ψ̇ + u₂⋅θ̇ + u₃̇) b_z"
      ]
     },
     "execution_count": 65,
     "metadata": {},
     "output_type": "execute_result"
    }
   ],
   "source": [
    "# this shows .dt() applied the expression with cross-product internally\n",
    "u.dt(A)"
   ]
  },
  {
   "cell_type": "markdown",
   "id": "31ee8584-15e5-4bba-94ae-be3f63d493bb",
   "metadata": {},
   "source": [
    "# Section 4: Angular Acceleration \n",
    "The angular acceleration of B when observed from A is: ${}^A\\alpha^B := \\frac{{}^Ad}{dt} {}^A\\bar{\\omega}^B$. Since ${}^A\\bar{\\omega}^B$ is a vector, it can be differentiated w.r.t A:"
   ]
  },
  {
   "cell_type": "markdown",
   "id": "c2d86ec1-dc73-43c8-b94c-5af4bffe4a4a",
   "metadata": {},
   "source": [
    "$\\begin{split}\\frac{{}^Ad}{dt} {}^A\\bar{\\omega}^B & =\n",
    "\\frac{{}^Bd}{dt} {}^A\\bar{\\omega}^B + {}^A\\bar{\\omega}^B \\times {}^A\\bar{\\omega}^B \\end{split}$ which gives:"
   ]
  },
  {
   "cell_type": "markdown",
   "id": "87aaa0a6-cc14-4915-b409-c75444d5336c",
   "metadata": {},
   "source": [
    "$\\frac{{}^Ad}{dt} {}^A\\bar{\\omega}^B = \\frac{{}^Bd}{dt} {}^A\\bar{\\omega}^B$, this means the change of velocity is regardless of the frame from which it is observed."
   ]
  },
  {
   "cell_type": "markdown",
   "id": "62cf4cfd-5d9c-4703-b9a4-9ae9b198bfa7",
   "metadata": {},
   "source": [
    "Seccussive addition of accelerations does not result in a valid total angular acceleration: ${}^A\\bar{\\alpha}^Z \\neq {}^A\\bar{\\alpha}^B + {}^B\\bar{\\alpha}^C + \\ldots + {}^Y\\bar{\\alpha}^Z$"
   ]
  },
  {
   "cell_type": "markdown",
   "id": "a787419d-8b1d-477f-b7ae-b730bebfa7fe",
   "metadata": {},
   "source": [
    "Angular accelerations derived from successive orientations require an explicit differentiation of the associated angular velocity vector. There unfortunately is no theorem that simplifies this calculation as we see with orientation and angular velocity."
   ]
  },
  {
   "cell_type": "code",
   "execution_count": null,
   "id": "72418a8b-f2b4-475f-8961-33f2200acd4f",
   "metadata": {},
   "outputs": [],
   "source": []
  }
 ],
 "metadata": {
  "kernelspec": {
   "display_name": "Python 3 (ipykernel)",
   "language": "python",
   "name": "python3"
  },
  "language_info": {
   "codemirror_mode": {
    "name": "ipython",
    "version": 3
   },
   "file_extension": ".py",
   "mimetype": "text/x-python",
   "name": "python",
   "nbconvert_exporter": "python",
   "pygments_lexer": "ipython3",
   "version": "3.11.6"
  }
 },
 "nbformat": 4,
 "nbformat_minor": 5
}
