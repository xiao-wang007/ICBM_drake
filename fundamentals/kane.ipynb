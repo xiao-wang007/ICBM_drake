{
 "cells": [
  {
   "cell_type": "code",
   "execution_count": 1,
   "id": "1238367c-ac61-447a-bea0-ea87ba8cb7d8",
   "metadata": {},
   "outputs": [],
   "source": [
    "import sympy as sm\n",
    "import sympy.physics.mechanics as me\n",
    "me.init_vprinting(use_latex='mathjax')"
   ]
  },
  {
   "cell_type": "code",
   "execution_count": 2,
   "id": "b44c9b5f-7068-4340-a26a-753fd0a05051",
   "metadata": {},
   "outputs": [],
   "source": [
    "m, Ixx, Iyy, Izz = sm.symbols('m, I_{xx}, I_{yy}, I_{zz}')\n",
    "Ixy, Iyz, Ixz = sm.symbols('I_{xy}, I_{yz}, I_{xz}')\n",
    "Fx, Fy, Fz, Mx, My, Mz = me.dynamicsymbols('F_x, F_y, F_z, M_x, M_y, M_z')\n",
    "u1, u2, u3, u4, u5, u6 = me.dynamicsymbols('u1, u2, u3, u4, u5, u6')\n",
    "\n",
    "A = me.ReferenceFrame('A') # inertia frame\n",
    "B = me.ReferenceFrame('B') # body frame\n",
    "\n",
    "Bo = me.Point('Bo')"
   ]
  },
  {
   "cell_type": "code",
   "execution_count": 7,
   "id": "5a06b5f9-9741-4b39-9b38-5462c7f61cd0",
   "metadata": {},
   "outputs": [],
   "source": [
    "# A_w_B reads B's angular velocity in A\n",
    "A_w_B = u4*B.x + u5*B.y + u6*B.z"
   ]
  },
  {
   "cell_type": "code",
   "execution_count": 6,
   "id": "773c18c7-bd18-4492-b77e-87ea380b5997",
   "metadata": {},
   "outputs": [
    {
     "data": {
      "text/latex": [
       "$\\displaystyle u_{4}\\mathbf{\\hat{b}_x} + u_{5}\\mathbf{\\hat{b}_y} + u_{6}\\mathbf{\\hat{b}_z}$"
      ],
      "text/plain": [
       "u₄ b_x + u₅ b_y + u₆ b_z"
      ]
     },
     "execution_count": 6,
     "metadata": {},
     "output_type": "execute_result"
    }
   ],
   "source": [
    "A_w_B # in body frame"
   ]
  },
  {
   "cell_type": "code",
   "execution_count": 8,
   "id": "c49b9ec6-0554-4728-9c53-494fe33f8aea",
   "metadata": {},
   "outputs": [],
   "source": [
    "B.set_ang_vel(A, A_w_B) # set ang vel in A"
   ]
  },
  {
   "cell_type": "code",
   "execution_count": 14,
   "id": "70d4d02f-ec34-41dc-a8dc-2dcc7a67637f",
   "metadata": {},
   "outputs": [],
   "source": [
    "# linear velocity of the centre of mass\n",
    "A_v_Bo = u1*B.x + u2*B.y + u3*B.z"
   ]
  },
  {
   "cell_type": "code",
   "execution_count": 15,
   "id": "52d97cc4-0a9e-4132-a820-c61e05797ed7",
   "metadata": {},
   "outputs": [
    {
     "data": {
      "text/latex": [
       "$\\displaystyle u_{1}\\mathbf{\\hat{b}_x} + u_{2}\\mathbf{\\hat{b}_y} + u_{3}\\mathbf{\\hat{b}_z}$"
      ],
      "text/plain": [
       "u₁ b_x + u₂ b_y + u₃ b_z"
      ]
     },
     "execution_count": 15,
     "metadata": {},
     "output_type": "execute_result"
    }
   ],
   "source": [
    "A_v_Bo"
   ]
  },
  {
   "cell_type": "code",
   "execution_count": 16,
   "id": "aaa76526-599d-4913-b8ba-8fc7f50a37e2",
   "metadata": {},
   "outputs": [],
   "source": [
    "Bo.set_vel(A, A_v_B) # set CoM (Bo) velocity in frame A "
   ]
  },
  {
   "cell_type": "code",
   "execution_count": 17,
   "id": "8af2fbfb-8923-4788-b635-297093fa4a83",
   "metadata": {},
   "outputs": [],
   "source": [
    "v_Bo_1 = A_v_Bo.diff(u1, A, var_in_dcm=False)\n",
    "v_Bo_2 = A_v_Bo.diff(u2, A, var_in_dcm=False)\n",
    "v_Bo_3 = A_v_Bo.diff(u3, A, var_in_dcm=False)\n",
    "v_Bo_4 = A_v_Bo.diff(u4, A, var_in_dcm=False)\n",
    "v_Bo_5 = A_v_Bo.diff(u5, A, var_in_dcm=False)\n",
    "v_Bo_6 = A_v_Bo.diff(u6, A, var_in_dcm=False)"
   ]
  },
  {
   "cell_type": "code",
   "execution_count": 18,
   "id": "9b9e6653-53d3-45f6-9150-4a058438dc5d",
   "metadata": {},
   "outputs": [
    {
     "data": {
      "text/latex": [
       "$\\displaystyle \\left( \\mathbf{\\hat{b}_x}, \\  \\mathbf{\\hat{b}_y}, \\  \\mathbf{\\hat{b}_z}, \\  0, \\  0, \\  0\\right)$"
      ],
      "text/plain": [
       "(b_x, b_y, b_z, 0, 0, 0)"
      ]
     },
     "execution_count": 18,
     "metadata": {},
     "output_type": "execute_result"
    }
   ],
   "source": [
    "v_Bo_1, v_Bo_2, v_Bo_3, v_Bo_4, v_Bo_5, v_Bo_6"
   ]
  },
  {
   "cell_type": "code",
   "execution_count": 19,
   "id": "a5049194-0fdb-475e-b171-eadab6ba8fac",
   "metadata": {},
   "outputs": [],
   "source": [
    "w_B_1 = A_w_B.diff(u1, A, var_in_dcm=False)\n",
    "w_B_2 = A_w_B.diff(u2, A, var_in_dcm=False)\n",
    "w_B_3 = A_w_B.diff(u3, A, var_in_dcm=False)\n",
    "w_B_4 = A_w_B.diff(u4, A, var_in_dcm=False)\n",
    "w_B_5 = A_w_B.diff(u5, A, var_in_dcm=False)\n",
    "w_B_6 = A_w_B.diff(u6, A, var_in_dcm=False)"
   ]
  },
  {
   "cell_type": "code",
   "execution_count": 20,
   "id": "956a1dfe-2670-4caf-a50c-2b1d71bb0b18",
   "metadata": {},
   "outputs": [
    {
     "data": {
      "text/latex": [
       "$\\displaystyle \\left( 0, \\  0, \\  0, \\  \\mathbf{\\hat{b}_x}, \\  \\mathbf{\\hat{b}_y}, \\  \\mathbf{\\hat{b}_z}\\right)$"
      ],
      "text/plain": [
       "(0, 0, 0, b_x, b_y, b_z)"
      ]
     },
     "execution_count": 20,
     "metadata": {},
     "output_type": "execute_result"
    }
   ],
   "source": [
    "w_B_1, w_B_2, w_B_3, w_B_4, w_B_5, w_B_6"
   ]
  },
  {
   "cell_type": "code",
   "execution_count": 23,
   "id": "8f324b1e-7227-465d-98ee-990c1825559c",
   "metadata": {},
   "outputs": [],
   "source": [
    "# similarly\n",
    "par_vels = me.partial_velocity([A_v_Bo, A_w_B], [u1, u2, u3, u4, u5, u6], A)"
   ]
  },
  {
   "cell_type": "code",
   "execution_count": 24,
   "id": "62a9276f-5250-4b0c-93db-eb3a9873854f",
   "metadata": {},
   "outputs": [
    {
     "data": {
      "text/latex": [
       "$\\displaystyle \\left[ \\left[ \\mathbf{\\hat{b}_x}, \\  \\mathbf{\\hat{b}_y}, \\  \\mathbf{\\hat{b}_z}, \\  0, \\  0, \\  0\\right], \\  \\left[ 0, \\  0, \\  0, \\  \\mathbf{\\hat{b}_x}, \\  \\mathbf{\\hat{b}_y}, \\  \\mathbf{\\hat{b}_z}\\right]\\right]$"
      ],
      "text/plain": [
       "[[b_x, b_y, b_z, 0, 0, 0], [0, 0, 0, b_x, b_y, b_z]]"
      ]
     },
     "execution_count": 24,
     "metadata": {},
     "output_type": "execute_result"
    }
   ],
   "source": [
    "par_vels"
   ]
  },
  {
   "cell_type": "code",
   "execution_count": 25,
   "id": "a54cd751-0ed4-4b60-bf31-4e553d564b93",
   "metadata": {},
   "outputs": [],
   "source": [
    "# generalized active force \n",
    "T = Mx*B.x + My*B.y + Mz*B.z\n",
    "R = Fx*B.x + Fy*B.y + Fz*B.z\n",
    "\n",
    "F1 = v_Bo_1.dot(R) + w_B_1.dot(T)\n",
    "F2 = v_Bo_2.dot(R) + w_B_2.dot(T)\n",
    "F3 = v_Bo_3.dot(R) + w_B_3.dot(T)\n",
    "F4 = v_Bo_4.dot(R) + w_B_4.dot(T)\n",
    "F5 = v_Bo_5.dot(R) + w_B_5.dot(T)\n",
    "F6 = v_Bo_6.dot(R) + w_B_6.dot(T)"
   ]
  },
  {
   "cell_type": "code",
   "execution_count": 26,
   "id": "15aec0e9-f77a-4368-bb86-847ba14cee34",
   "metadata": {},
   "outputs": [
    {
     "data": {
      "text/latex": [
       "$\\displaystyle \\left[\\begin{matrix}F_{x}\\\\F_{y}\\\\F_{z}\\\\M_{x}\\\\M_{x}\\\\M_{z}\\end{matrix}\\right]$"
      ],
      "text/plain": [
       "⎡Fₓ ⎤\n",
       "⎢   ⎥\n",
       "⎢F_y⎥\n",
       "⎢   ⎥\n",
       "⎢F_z⎥\n",
       "⎢   ⎥\n",
       "⎢Mₓ ⎥\n",
       "⎢   ⎥\n",
       "⎢Mₓ ⎥\n",
       "⎢   ⎥\n",
       "⎣M_z⎦"
      ]
     },
     "execution_count": 26,
     "metadata": {},
     "output_type": "execute_result"
    }
   ],
   "source": [
    "Fr = sm.Matrix([F1, F2, F3, F4, F4, F6])\n",
    "Fr"
   ]
  },
  {
   "cell_type": "code",
   "execution_count": 27,
   "id": "5678d146-8f0f-4ca5-9543-a65e43b339c2",
   "metadata": {},
   "outputs": [
    {
     "data": {
      "text/latex": [
       "$\\displaystyle M_{x}\\mathbf{\\hat{b}_x} + M_{y}\\mathbf{\\hat{b}_y} + M_{z}\\mathbf{\\hat{b}_z}$"
      ],
      "text/plain": [
       "Mₓ b_x + M_y b_y + M_z b_z"
      ]
     },
     "execution_count": 27,
     "metadata": {},
     "output_type": "execute_result"
    }
   ],
   "source": [
    "T"
   ]
  },
  {
   "cell_type": "code",
   "execution_count": 28,
   "id": "ce6f56e5-68dd-467e-8067-56558cd8c570",
   "metadata": {},
   "outputs": [
    {
     "data": {
      "text/latex": [
       "$\\displaystyle F_{x}\\mathbf{\\hat{b}_x} + F_{y}\\mathbf{\\hat{b}_y} + F_{z}\\mathbf{\\hat{b}_z}$"
      ],
      "text/plain": [
       "Fₓ b_x + F_y b_y + F_z b_z"
      ]
     },
     "execution_count": 28,
     "metadata": {},
     "output_type": "execute_result"
    }
   ],
   "source": [
    "R"
   ]
  },
  {
   "cell_type": "code",
   "execution_count": 29,
   "id": "c9dac4fd-2563-4ad9-847b-dafaa57cb487",
   "metadata": {},
   "outputs": [
    {
     "data": {
      "text/latex": [
       "$\\displaystyle (- u_{2} u_{6} + u_{3} u_{5} + \\dot{u}_{1})\\mathbf{\\hat{b}_x} + (u_{1} u_{6} - u_{3} u_{4} + \\dot{u}_{2})\\mathbf{\\hat{b}_y} + (- u_{1} u_{5} + u_{2} u_{4} + \\dot{u}_{3})\\mathbf{\\hat{b}_z}$"
      ],
      "text/plain": [
       "(-u₂⋅u₆ + u₃⋅u₅ + u₁̇) b_x + (u₁⋅u₆ - u₃⋅u₄ + u₂̇) b_y + (-u₁⋅u₅ + u₂⋅u₄ + u₃̇) b_z"
      ]
     },
     "execution_count": 29,
     "metadata": {},
     "output_type": "execute_result"
    }
   ],
   "source": [
    "Bo.acc(A)"
   ]
  },
  {
   "cell_type": "code",
   "execution_count": null,
   "id": "fb442ffd-0883-4a8a-8724-fc8377d82422",
   "metadata": {},
   "outputs": [],
   "source": []
  }
 ],
 "metadata": {
  "kernelspec": {
   "display_name": "Python 3 (ipykernel)",
   "language": "python",
   "name": "python3"
  },
  "language_info": {
   "codemirror_mode": {
    "name": "ipython",
    "version": 3
   },
   "file_extension": ".py",
   "mimetype": "text/x-python",
   "name": "python",
   "nbconvert_exporter": "python",
   "pygments_lexer": "ipython3",
   "version": "3.11.6"
  }
 },
 "nbformat": 4,
 "nbformat_minor": 5
}
