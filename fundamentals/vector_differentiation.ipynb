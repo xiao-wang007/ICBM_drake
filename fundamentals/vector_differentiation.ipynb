{
 "cells": [
  {
   "cell_type": "code",
   "execution_count": 1,
   "id": "b55540de-f428-4027-807e-d2facb2afac2",
   "metadata": {},
   "outputs": [],
   "source": [
    "import sympy as sm\n",
    "import sympy.physics.mechanics as me\n",
    "sm.init_printing(use_latex='mathjax')"
   ]
  },
  {
   "cell_type": "markdown",
   "id": "56a4e823-7027-4d39-82dc-dd9db077b90a",
   "metadata": {},
   "source": [
    "# Section 1: Vector Partial Derivatives\n",
    "Only the measure number of the vector is a function of $q_r$ (which usually is $t$, can be parameterized otherwise). Then its derivatives $\\frac{{}^A\\partial \\bar{v}}{\\partial q_r} = \\sum_{i=1}^3 \\frac{\\partial v_i}{\\partial q_r} \\hat{a}_i \\textrm{ for } r=1\\ldots n$"
   ]
  },
  {
   "cell_type": "markdown",
   "id": "3674dc03-7960-459b-840f-18f94865b96f",
   "metadata": {},
   "source": [
    "if $\\bar{v}=v_x\\hat{a}_x+v_y\\hat{a}_y+v_z\\hat{a}_z$, the above expression expands to: $\\frac{{}^A\\partial \\bar{v}}{\\partial q_r} =\n",
    "\\frac{\\partial v_x}{\\partial q_r} \\hat{a}_x +\n",
    "\\frac{\\partial v_y}{\\partial q_r} \\hat{a}_y +\n",
    "\\frac{\\partial v_z}{\\partial q_r} \\hat{a}_z\n",
    "\\textrm{ for } r=1\\ldots n $\n",
    "\n",
    "Then in rigid body dynamics, if only the measure number is a function of time, this means a translating motion: $\\frac{{}^A d \\bar{v}}{dt} := \\sum_{i=1}^3 \\frac{d v_i}{dt} \\hat{a}_i$, no orientation as the frame unit vectors are not functions of $t$"
   ]
  },
  {
   "cell_type": "code",
   "execution_count": null,
   "id": "bf5a2278-5f3c-49f3-a6b2-941b791a83f5",
   "metadata": {},
   "outputs": [],
   "source": [
    "# a vector expressed with unit vectors from three different frames\n",
    "alpha, beta = sm.symbols(\"alpha, beta\")\n",
    "a, b, c, d, e, f = sm.symbols(\"a, b, c, d, e, f\")\n",
    "\n",
    "A = me.ReferenceFrame('A')\n",
    "B = me.ReferenceFrame('B')\n",
    "C = me.ReferenceFrame('C')\n",
    "\n",
    "B.orient_axis(A, A.x, alpha) # reads B is oriented \n",
    "C.orient_axis(B, B.x, beta)\n",
    "\n",
    "v = a*A.x + b*A.y + c*B.x + d*B.y + e*C.x + f*C.y"
   ]
  },
  {
   "cell_type": "markdown",
   "id": "5d2bacec-6be4-4bfb-aec1-9a4f2e058b64",
   "metadata": {},
   "source": [
    "Now show the frames of A, B, C with relativity"
   ]
  },
  {
   "cell_type": "code",
   "execution_count": 3,
   "id": "6845841f-1ac7-49ae-a1fd-f66b728dfb5c",
   "metadata": {},
   "outputs": [
    {
     "data": {
      "text/latex": [
       "$\\displaystyle \\left[\\begin{matrix}1 & 0 & 0\\\\0 & 1 & 0\\\\0 & 0 & 1\\end{matrix}\\right]$"
      ],
      "text/plain": [
       "⎡1  0  0⎤\n",
       "⎢       ⎥\n",
       "⎢0  1  0⎥\n",
       "⎢       ⎥\n",
       "⎣0  0  1⎦"
      ]
     },
     "execution_count": 3,
     "metadata": {},
     "output_type": "execute_result"
    }
   ],
   "source": [
    "A.dcm(A)"
   ]
  },
  {
   "cell_type": "markdown",
   "id": "f4aaec7d-66cc-426f-b655-ce344adb4eb2",
   "metadata": {},
   "source": [
    "To calculate $\\frac{^A \\partial \\bar{v}}{\\partial \\alpha}$: \n",
    "1. to project $\\bar{v}$ onto the unit vectors of $\\{A\\}$\n",
    "2. then take the partial derivatives of the meansure numbers w.r.t $\\alpha$"
   ]
  },
  {
   "cell_type": "code",
   "execution_count": 4,
   "id": "c6df0fb0-b0f6-46f1-957a-1463cdd038e3",
   "metadata": {},
   "outputs": [
    {
     "data": {
      "text/latex": [
       "$\\displaystyle \\left[\\begin{matrix}1 & 0 & 0\\\\0 & \\cos{\\left(\\alpha \\right)} & \\sin{\\left(\\alpha \\right)}\\\\0 & - \\sin{\\left(\\alpha \\right)} & \\cos{\\left(\\alpha \\right)}\\end{matrix}\\right]$"
      ],
      "text/plain": [
       "⎡1     0       0   ⎤\n",
       "⎢                  ⎥\n",
       "⎢0  cos(α)   sin(α)⎥\n",
       "⎢                  ⎥\n",
       "⎣0  -sin(α)  cos(α)⎦"
      ]
     },
     "execution_count": 4,
     "metadata": {},
     "output_type": "execute_result"
    }
   ],
   "source": [
    "B.dcm(A)"
   ]
  },
  {
   "cell_type": "code",
   "execution_count": 5,
   "id": "c1f70c4e-0bc8-4ebc-b9f6-871f9acff413",
   "metadata": {},
   "outputs": [
    {
     "data": {
      "text/latex": [
       "$\\displaystyle \\left[\\begin{matrix}1 & 0 & 0\\\\0 & \\cos{\\left(\\beta \\right)} & \\sin{\\left(\\beta \\right)}\\\\0 & - \\sin{\\left(\\beta \\right)} & \\cos{\\left(\\beta \\right)}\\end{matrix}\\right]$"
      ],
      "text/plain": [
       "⎡1     0       0   ⎤\n",
       "⎢                  ⎥\n",
       "⎢0  cos(β)   sin(β)⎥\n",
       "⎢                  ⎥\n",
       "⎣0  -sin(β)  cos(β)⎦"
      ]
     },
     "execution_count": 5,
     "metadata": {},
     "output_type": "execute_result"
    }
   ],
   "source": [
    "C.dcm(B)"
   ]
  },
  {
   "cell_type": "code",
   "execution_count": 6,
   "id": "f863ab2e-2dd7-488a-86d5-080f32d2210c",
   "metadata": {},
   "outputs": [
    {
     "data": {
      "text/latex": [
       "$\\displaystyle \\left[\\begin{matrix}1 & 0 & 0\\\\0 & - \\sin{\\left(\\alpha \\right)} \\sin{\\left(\\beta \\right)} + \\cos{\\left(\\alpha \\right)} \\cos{\\left(\\beta \\right)} & \\sin{\\left(\\alpha \\right)} \\cos{\\left(\\beta \\right)} + \\sin{\\left(\\beta \\right)} \\cos{\\left(\\alpha \\right)}\\\\0 & - \\sin{\\left(\\alpha \\right)} \\cos{\\left(\\beta \\right)} - \\sin{\\left(\\beta \\right)} \\cos{\\left(\\alpha \\right)} & - \\sin{\\left(\\alpha \\right)} \\sin{\\left(\\beta \\right)} + \\cos{\\left(\\alpha \\right)} \\cos{\\left(\\beta \\right)}\\end{matrix}\\right]$"
      ],
      "text/plain": [
       "⎡1                0                               0               ⎤\n",
       "⎢                                                                 ⎥\n",
       "⎢0  -sin(α)⋅sin(β) + cos(α)⋅cos(β)  sin(α)⋅cos(β) + sin(β)⋅cos(α) ⎥\n",
       "⎢                                                                 ⎥\n",
       "⎣0  -sin(α)⋅cos(β) - sin(β)⋅cos(α)  -sin(α)⋅sin(β) + cos(α)⋅cos(β)⎦"
      ]
     },
     "execution_count": 6,
     "metadata": {},
     "output_type": "execute_result"
    }
   ],
   "source": [
    "C.dcm(A)"
   ]
  },
  {
   "cell_type": "code",
   "execution_count": 7,
   "id": "a029cc87-7ba7-4a18-9e5c-f44057fff527",
   "metadata": {},
   "outputs": [],
   "source": [
    "# the dot product provides the projection, which then is diffed w.r.t alpha\n",
    "dvdalphaAx = v.dot(A.x).diff(alpha)\n",
    "dvdalphaAy = v.dot(A.y).diff(alpha)\n",
    "dvdalphaAz = v.dot(A.z).diff(alpha)"
   ]
  },
  {
   "cell_type": "code",
   "execution_count": 8,
   "id": "579bfe26-158d-47cc-a031-75b3781f732f",
   "metadata": {},
   "outputs": [
    {
     "data": {
      "text/latex": [
       "$\\displaystyle 0$"
      ],
      "text/plain": [
       "0"
      ]
     },
     "execution_count": 8,
     "metadata": {},
     "output_type": "execute_result"
    }
   ],
   "source": [
    "dvdalphaAx"
   ]
  },
  {
   "cell_type": "code",
   "execution_count": 9,
   "id": "736207b6-fb75-4d77-af47-f4ea1c9f69ca",
   "metadata": {},
   "outputs": [
    {
     "data": {
      "text/latex": [
       "$\\displaystyle - d \\sin{\\left(\\alpha \\right)} + f \\left(- \\sin{\\left(\\alpha \\right)} \\cos{\\left(\\beta \\right)} - \\sin{\\left(\\beta \\right)} \\cos{\\left(\\alpha \\right)}\\right)$"
      ],
      "text/plain": [
       "-d⋅sin(α) + f⋅(-sin(α)⋅cos(β) - sin(β)⋅cos(α))"
      ]
     },
     "execution_count": 9,
     "metadata": {},
     "output_type": "execute_result"
    }
   ],
   "source": [
    "dvdalphaAy"
   ]
  },
  {
   "cell_type": "code",
   "execution_count": 10,
   "id": "01d25700-b53b-4ca4-b0a9-de65c9848dbd",
   "metadata": {},
   "outputs": [
    {
     "data": {
      "text/latex": [
       "$\\displaystyle d \\cos{\\left(\\alpha \\right)} + f \\left(- \\sin{\\left(\\alpha \\right)} \\sin{\\left(\\beta \\right)} + \\cos{\\left(\\alpha \\right)} \\cos{\\left(\\beta \\right)}\\right)$"
      ],
      "text/plain": [
       "d⋅cos(α) + f⋅(-sin(α)⋅sin(β) + cos(α)⋅cos(β))"
      ]
     },
     "execution_count": 10,
     "metadata": {},
     "output_type": "execute_result"
    }
   ],
   "source": [
    "dvdalphaAz"
   ]
  },
  {
   "cell_type": "markdown",
   "id": "ced0f527-475b-4ef6-b1e7-7aacd5a45037",
   "metadata": {},
   "source": [
    "Now construct the vector for $\\frac{^A \\partial \\bar{v}}{\\partial \\alpha}$ using the new measure number and the unit vectos in $\\{A\\}$"
   ]
  },
  {
   "cell_type": "code",
   "execution_count": 11,
   "id": "f30b7135-7493-4c2f-8425-7a791599b028",
   "metadata": {},
   "outputs": [
    {
     "data": {
      "text/latex": [
       "$\\displaystyle (- d \\sin{\\left(\\alpha \\right)} + f \\left(- \\sin{\\left(\\alpha \\right)} \\cos{\\left(\\beta \\right)} - \\sin{\\left(\\beta \\right)} \\cos{\\left(\\alpha \\right)}\\right))\\mathbf{\\hat{a}_y} + (d \\cos{\\left(\\alpha \\right)} + f \\left(- \\sin{\\left(\\alpha \\right)} \\sin{\\left(\\beta \\right)} + \\cos{\\left(\\alpha \\right)} \\cos{\\left(\\beta \\right)}\\right))\\mathbf{\\hat{a}_z}$"
      ],
      "text/plain": [
       "(-d⋅sin(α) + f⋅(-sin(α)⋅cos(β) - sin(β)⋅cos(α))) a_y + (d⋅cos(α) + f⋅(-sin(α)⋅sin(β) + cos(α)⋅cos(β))) a_z"
      ]
     },
     "execution_count": 11,
     "metadata": {},
     "output_type": "execute_result"
    }
   ],
   "source": [
    "dvdalpha = dvdalphaAx*A.x + dvdalphaAy*A.y + dvdalphaAz*A.z\n",
    "dvdalpha"
   ]
  },
  {
   "cell_type": "markdown",
   "id": "357a5e50-7be6-4cd3-8710-ba9d5d45feaa",
   "metadata": {},
   "source": [
    "To do it using built-in function"
   ]
  },
  {
   "cell_type": "code",
   "execution_count": 12,
   "id": "4892011e-4621-4aad-9580-49f8f465bbfb",
   "metadata": {},
   "outputs": [],
   "source": [
    "dvdalpha_in_A = v.diff(alpha, A) # which reads diff v expressed in {A} w.r.t alpha  "
   ]
  },
  {
   "cell_type": "code",
   "execution_count": 38,
   "id": "3f33a5f1-e7f6-446f-b81e-529ab668f2b1",
   "metadata": {},
   "outputs": [
    {
     "data": {
      "text/latex": [
       "$\\displaystyle (- d \\sin{\\left(\\alpha \\right)} + f \\left(- \\sin{\\left(\\alpha \\right)} \\cos{\\left(\\beta \\right)} - \\sin{\\left(\\beta \\right)} \\cos{\\left(\\alpha \\right)}\\right))\\mathbf{\\hat{a}_y} + (d \\cos{\\left(\\alpha \\right)} + f \\left(- \\sin{\\left(\\alpha \\right)} \\sin{\\left(\\beta \\right)} + \\cos{\\left(\\alpha \\right)} \\cos{\\left(\\beta \\right)}\\right))\\mathbf{\\hat{a}_z}$"
      ],
      "text/plain": [
       "(-d⋅sin(α) + f⋅(-sin(α)⋅cos(β) - sin(β)⋅cos(α))) a_y + (d⋅cos(α) + f⋅(-sin(α)⋅sin(β) + cos(α)⋅cos(β))) a_z"
      ]
     },
     "execution_count": 38,
     "metadata": {},
     "output_type": "execute_result"
    }
   ],
   "source": [
    "dvdalpha_in_A.express(A)"
   ]
  },
  {
   "cell_type": "markdown",
   "id": "e052cf6e-59bf-4207-8a38-fe7f5336aed2",
   "metadata": {},
   "source": [
    "Example: calculate $\\frac{^B \\partial \\bar{v}}{\\partial e}$"
   ]
  },
  {
   "cell_type": "code",
   "execution_count": 28,
   "id": "2b38ccc2-43b6-40b2-ade9-0ea8efa372eb",
   "metadata": {},
   "outputs": [],
   "source": [
    "dvde_Bx = v.dot(B.x).diff(e)\n",
    "dvde_By = v.dot(B.y).diff(e)\n",
    "dvde_Bz = v.dot(B.z).diff(e)\n",
    "dvde_in_B = dvde_Bx*B.x + dvde_By*B.y + dvde_Bz*B.z"
   ]
  },
  {
   "cell_type": "code",
   "execution_count": 29,
   "id": "8f9b4e0c-10d6-4984-93c4-900babb901b4",
   "metadata": {},
   "outputs": [
    {
     "data": {
      "text/latex": [
       "$\\displaystyle \\mathbf{\\hat{b}_x}$"
      ],
      "text/plain": [
       "b_x"
      ]
     },
     "execution_count": 29,
     "metadata": {},
     "output_type": "execute_result"
    }
   ],
   "source": [
    "dvde_in_B"
   ]
  },
  {
   "cell_type": "code",
   "execution_count": 41,
   "id": "f670b3ad-86ad-4bd0-8f8b-6254e2a50e92",
   "metadata": {},
   "outputs": [
    {
     "data": {
      "text/latex": [
       "$\\displaystyle \\mathbf{\\hat{b}_x}$"
      ],
      "text/plain": [
       "b_x"
      ]
     },
     "execution_count": 41,
     "metadata": {},
     "output_type": "execute_result"
    }
   ],
   "source": [
    "v.diff(e, B).express(B)"
   ]
  },
  {
   "cell_type": "markdown",
   "id": "161154a2-f9e1-4e40-b544-296eeacfd757",
   "metadata": {},
   "source": [
    "### \"express\" vs differentiation \n",
    "A vector can be expressed in any reference frame. \n",
    "Simply project the vector onto the unit (mutually perpendicular) vector of fixed in the frame of interest.\n",
    "Then rewrite the vector in terms of the new (projected) measure numbers associated with the 3 unit vectors using the relavent dcm entries.\n",
    "This is the same as using a transformation $^A X_B$, i.e. $\\{B\\}$ expressed in $\\{A\\}$: ${^A} v = {^A} X_B \\; {^B} v$"
   ]
  },
  {
   "cell_type": "markdown",
   "id": "ec5de357-59fd-4fd4-8114-500aa3801ca1",
   "metadata": {},
   "source": [
    "# Section 2: Product Rule \n",
    "Now, moving on to the case where the frame unit vectors as well as the its measure numbers are a function of $t$. \n",
    "With the same vector in $\\{A\\}$: $\\bar{v}=v_x\\hat{a}_x+v_y\\hat{a}_y+v_z\\hat{a}_z$. Now there is another frame $\\{N\\}$ that is oriented relative to $\\{A\\}$, such that the relative orientation is also dependent on $q_r$. This means when observed in $\\{N\\}$, the unit vectors $\\hat{a}_x,\\hat{a}_y,\\hat{a}_z$ of $\\{A\\}$ is a function of $q_r$."
   ]
  },
  {
   "cell_type": "markdown",
   "id": "70f2c2a0-a662-4748-b200-59245b9307c8",
   "metadata": {},
   "source": [
    "Now, taking the derivatives of $\\bar{v}$ in $\\{N\\}$ requires the product rule:\n",
    "$\\frac{{}^N\\partial \\bar{v}}{\\partial q_r} =\n",
    "\\frac{{}^N\\partial v_x}{\\partial q_r}\\hat{a}_x + v_x \\frac{{}^N\\partial \\hat{a}_x}{\\partial q_r} +\n",
    "\\frac{{}^N\\partial v_y}{\\partial q_r}\\hat{a}_y + v_y \\frac{{}^N\\partial \\hat{a}_y}{\\partial q_r} +\n",
    "\\frac{{}^N\\partial v_z}{\\partial q_r}\\hat{a}_z + v_z \\frac{{}^N\\partial \\hat{a}_z}{\\partial q_r}$"
   ]
  },
  {
   "cell_type": "markdown",
   "id": "613c68ad-1239-4eac-9ae2-697034497d48",
   "metadata": {},
   "source": [
    "The intepretation of the scalar derivatives remain the same:\n",
    "$\\frac{{}^N\\partial v_x}{\\partial q_r}\\hat{a}_x,\n",
    "\\frac{{}^N\\partial v_y}{\\partial q_r}\\hat{a}_y,\n",
    "\\frac{{}^N\\partial v_z}{\\partial q_r}\\hat{a}_z$"
   ]
  },
  {
   "cell_type": "markdown",
   "id": "1c79413f-9d5c-41ad-9b78-c5575d2a42ee",
   "metadata": {},
   "source": [
    "However, the part of unit vector derivatives is tricky. It does not change in length but in orientations:\n",
    "$v_x \\frac{{}^N\\partial \\hat{a}_x}{\\partial q_r},\n",
    "v_y \\frac{{}^N\\partial \\hat{a}_y}{\\partial q_r},\n",
    "v_z \\frac{{}^N\\partial \\hat{a}_z}{\\partial q_r}$"
   ]
  },
  {
   "cell_type": "markdown",
   "id": "fb1d3448-a042-4682-8c28-219199b05847",
   "metadata": {},
   "source": [
    "Product rules of dot and cross product:\n",
    "$\\begin{align}\\begin{aligned}\\frac{\\partial}{\\partial q_r}(\\bar{v} \\cdot \\bar{w}) = &\n",
    "\\frac{\\partial \\bar{v}}{\\partial q_r} \\cdot \\bar{w} +\n",
    "\\bar{v} \\cdot \\frac{\\partial \\bar{w}}{\\partial q_r}\\\\\\frac{\\partial}{\\partial q_r}(\\bar{v} \\times \\bar{w}) = &\n",
    "\\frac{\\partial \\bar{v}}{\\partial q_r} \\times \\bar{w} +\n",
    "\\bar{v} \\times \\frac{\\partial \\bar{w}}{\\partial q_r}\\end{aligned}\\end{align}$"
   ]
  },
  {
   "cell_type": "markdown",
   "id": "a8240024-4d46-4d90-b080-da2ad278d24e",
   "metadata": {},
   "source": [
    "Generalization to any series of product: \n",
    "Let $G = f_1 ... f_n$ be a series of product, then"
   ]
  },
  {
   "cell_type": "markdown",
   "id": "3b36fac6-0715-49d7-acba-f1a2443709e0",
   "metadata": {},
   "source": [
    "$\\frac{\\partial G}{\\partial q_r} =\n",
    "\\frac{\\partial f_1}{\\partial q_r}\\cdot f_2 \\cdots f_n +\n",
    "f_1 \\cdot\\frac{\\partial f_2}{\\partial q_r}\\cdot f_3 \\cdots f_n +\n",
    "\\dots +\n",
    "f_1 \\cdots f_{n-1} \\cdot \\frac{\\partial f_n}{\\partial q_r}$"
   ]
  },
  {
   "cell_type": "markdown",
   "id": "194c898e-c20a-4313-90c3-83fd1c13a7a2",
   "metadata": {},
   "source": [
    "# Section 3: Second Derivatives:\n",
    "$\\frac{{}^A\\partial \\bar{v}}{\\partial q_r}$ is also a vector, and may be a vector function."
   ]
  },
  {
   "cell_type": "markdown",
   "id": "3a737daa-7ebb-483a-b233-82b7a3c2a6e4",
   "metadata": {},
   "source": [
    "We can thus calculate the second partial derivative with respect to $q_s$ where $s = 1...n$. This second partial derivative need not be taken with respect to the same reference frame as the first partial derivative. If we first differentiate with when viewed from $\\{A\\}$ and then when viewed from $\\{B\\}$, the second partial derivative is:"
   ]
  },
  {
   "cell_type": "markdown",
   "id": "34c51456-b26a-483a-8d35-2fc2e8afd220",
   "metadata": {},
   "source": [
    "$\\frac{{}^B\\partial}{\\partial q_s} \\left(\\frac{{}^A\\partial\\bar{v}}{\\partial\n",
    "q_r}\\right)$"
   ]
  },
  {
   "cell_type": "markdown",
   "id": "cf2b6167-5874-4d01-a7c9-08536b8835a2",
   "metadata": {},
   "source": [
    "Second partials in different reference frames do not necessarily commute:"
   ]
  },
  {
   "cell_type": "markdown",
   "id": "c87b1003-97c0-41e6-85bb-2bb38f985e7d",
   "metadata": {},
   "source": [
    "$\\frac{{}^B\\partial}{\\partial q_s} \\left(\\frac{{}^A\\partial\\bar{v}}{\\partial\n",
    "q_r}\\right)\n",
    "\\neq\n",
    "\\frac{{}^A\\partial}{\\partial q_r} \\left(\\frac{{}^B\\partial\\bar{v}}{\\partial\n",
    "q_s}\\right)$"
   ]
  },
  {
   "cell_type": "markdown",
   "id": "618acee8-c634-4435-bf62-5fa8910ea93f",
   "metadata": {},
   "source": [
    "# Section 4: Vector Functions of Time\n",
    "In multibody dynamics we are primarily concerned with how motion changes with respect to time 𝑡 and our vectors and measure numbers will often be implicit functions of time, i.e. $q_{r}(t)$. When that is the case the chain rule can be used to take total derivatives:"
   ]
  },
  {
   "cell_type": "markdown",
   "id": "ac7fd550-b721-4c09-85db-1286a4f7819b",
   "metadata": {},
   "source": [
    "$\\frac{{}^A d\\bar{v}}{dt} =\n",
    "\\sum_{i=1}^n \\frac{{}^A\\partial \\bar{v}}{\\partial q_r(t)} \\frac{d q_r(t)}{dt} +\n",
    "\\frac{{}^A \\partial \\bar{v}}{\\partial t}\n",
    "\\textrm{ where } r=1,\\ldots,n$. \n",
    "Because $\\bar{v} = f(q_r, t)$, where $q_t$ is also a function of $t$. "
   ]
  },
  {
   "cell_type": "code",
   "execution_count": 50,
   "id": "e6fbbe27-ca9b-4bf6-8573-41cc2519188b",
   "metadata": {},
   "outputs": [],
   "source": [
    "t = sm.symbols('t')\n",
    "q_of = sm.Function('q')\n",
    "q = q_of(t)"
   ]
  },
  {
   "cell_type": "code",
   "execution_count": 51,
   "id": "fa7c29b9-b85c-42c7-93a8-35b6d3d32069",
   "metadata": {},
   "outputs": [
    {
     "data": {
      "text/latex": [
       "$\\displaystyle q{\\left(t \\right)}$"
      ],
      "text/plain": [
       "q(t)"
      ]
     },
     "execution_count": 51,
     "metadata": {},
     "output_type": "execute_result"
    }
   ],
   "source": [
    "q"
   ]
  },
  {
   "cell_type": "code",
   "execution_count": 52,
   "id": "dfd0d276-5d1c-4681-8a14-d960e66f9a97",
   "metadata": {},
   "outputs": [
    {
     "data": {
      "text/latex": [
       "$\\displaystyle \\frac{d}{d t} q{\\left(t \\right)}$"
      ],
      "text/plain": [
       "d       \n",
       "──(q(t))\n",
       "dt      "
      ]
     },
     "execution_count": 52,
     "metadata": {},
     "output_type": "execute_result"
    }
   ],
   "source": [
    "# differentiate the scalar function \n",
    "q.diff(t)"
   ]
  },
  {
   "cell_type": "markdown",
   "id": "350f268b-37aa-40a9-8d09-5a7c729f70ff",
   "metadata": {},
   "source": [
    "using SymPy function *dynamicsymbols()* to create scalar functions of time just like *symbols()*"
   ]
  },
  {
   "cell_type": "code",
   "execution_count": 53,
   "id": "4ecfd673-fd36-4607-91ad-a24e32eea6de",
   "metadata": {},
   "outputs": [
    {
     "data": {
      "text/latex": [
       "$\\displaystyle \\left( q_{1}{\\left(t \\right)}, \\  q_{2}{\\left(t \\right)}, \\  q_{3}{\\left(t \\right)}\\right)$"
      ],
      "text/plain": [
       "(q₁(t), q₂(t), q₃(t))"
      ]
     },
     "execution_count": 53,
     "metadata": {},
     "output_type": "execute_result"
    }
   ],
   "source": [
    "q1, q2, q3 = me.dynamicsymbols(\"q1, q2, q3\")\n",
    "q1, q2, q3"
   ]
  },
  {
   "cell_type": "code",
   "execution_count": 56,
   "id": "2b844fb4-8419-435b-8519-009e67c3dd53",
   "metadata": {},
   "outputs": [],
   "source": [
    "t = me.dynamicsymbols._t # retrieving time variable used in q1, q2, q3"
   ]
  },
  {
   "cell_type": "code",
   "execution_count": 59,
   "id": "5b609253-cb70-45d9-b645-322d0aad74a1",
   "metadata": {},
   "outputs": [],
   "source": [
    "me.init_vprinting(use_latex='mathjax')\n",
    "a = q1.diff(t), q2.diff(t, 2), q3.diff(t, 3)"
   ]
  },
  {
   "cell_type": "code",
   "execution_count": 60,
   "id": "bff5316f-28c9-45d6-b8f5-5038e185b560",
   "metadata": {},
   "outputs": [
    {
     "data": {
      "text/latex": [
       "$\\displaystyle \\left( \\dot{q}_{1}, \\  \\ddot{q}_{2}, \\  \\dddot{q}_{3}\\right)$"
      ],
      "text/plain": [
       "(q₁̇, q₂̈, q₃⃛)"
      ]
     },
     "execution_count": 60,
     "metadata": {},
     "output_type": "execute_result"
    }
   ],
   "source": [
    "a"
   ]
  },
  {
   "cell_type": "markdown",
   "id": "10e780d8-6e50-4871-a94c-afe1dbe245d2",
   "metadata": {},
   "source": [
    "Now these scalar functions of time can be used for formulating vectors:"
   ]
  },
  {
   "cell_type": "code",
   "execution_count": 61,
   "id": "9213829d-edcd-40e6-b827-2f5c9d8e6708",
   "metadata": {},
   "outputs": [],
   "source": [
    "A = me.ReferenceFrame('A')\n",
    "B = me.ReferenceFrame('B')\n",
    "B.orient_body_fixed(A, (q1, q2, q3), \"zxz\" ) # parent frame, angles, rotation orders"
   ]
  },
  {
   "cell_type": "code",
   "execution_count": 65,
   "id": "07452c19-08fc-43ad-b1ab-ca170d5c3747",
   "metadata": {},
   "outputs": [
    {
     "data": {
      "text/latex": [
       "$\\displaystyle q_{1}\\mathbf{\\hat{a}_x} + q_{2}\\mathbf{\\hat{a}_y} + q_{3}\\mathbf{\\hat{a}_z}$"
      ],
      "text/plain": [
       "q₁ a_x + q₂ a_y + q₃ a_z"
      ]
     },
     "execution_count": 65,
     "metadata": {},
     "output_type": "execute_result"
    }
   ],
   "source": [
    "v = q1*A.x + q2*A.y + q3*A.z\n",
    "v"
   ]
  },
  {
   "cell_type": "code",
   "execution_count": 66,
   "id": "64452318-a8d0-4009-a7c6-5147248cc4b6",
   "metadata": {},
   "outputs": [
    {
     "data": {
      "text/latex": [
       "$\\displaystyle \\dot{q}_{1}\\mathbf{\\hat{a}_x} + \\dot{q}_{2}\\mathbf{\\hat{a}_y} + \\dot{q}_{3}\\mathbf{\\hat{a}_z}$"
      ],
      "text/plain": [
       "q₁̇ a_x + q₂̇ a_y + q₃̇ a_z"
      ]
     },
     "execution_count": 66,
     "metadata": {},
     "output_type": "execute_result"
    }
   ],
   "source": [
    "v.diff(t, A)"
   ]
  },
  {
   "cell_type": "code",
   "execution_count": 67,
   "id": "dc0930d6-29ae-4385-bcae-ab9b492b8ee9",
   "metadata": {},
   "outputs": [
    {
     "data": {
      "text/latex": [
       "$\\displaystyle (\\left(\\sin{\\left(q_{1} \\right)} \\cos{\\left(q_{3} \\right)} + \\sin{\\left(q_{3} \\right)} \\cos{\\left(q_{1} \\right)} \\cos{\\left(q_{2} \\right)}\\right) \\dot{q}_{2} + \\left(- \\sin{\\left(q_{1} \\right)} \\sin{\\left(q_{3} \\right)} \\cos{\\left(q_{2} \\right)} + \\cos{\\left(q_{1} \\right)} \\cos{\\left(q_{3} \\right)}\\right) \\dot{q}_{1} + \\left(\\sin{\\left(q_{1} \\right)} \\sin{\\left(q_{2} \\right)} \\sin{\\left(q_{3} \\right)} \\dot{q}_{2} - \\sin{\\left(q_{1} \\right)} \\cos{\\left(q_{2} \\right)} \\cos{\\left(q_{3} \\right)} \\dot{q}_{3} - \\sin{\\left(q_{1} \\right)} \\cos{\\left(q_{3} \\right)} \\dot{q}_{1} - \\sin{\\left(q_{3} \\right)} \\cos{\\left(q_{1} \\right)} \\cos{\\left(q_{2} \\right)} \\dot{q}_{1} - \\sin{\\left(q_{3} \\right)} \\cos{\\left(q_{1} \\right)} \\dot{q}_{3}\\right) q_{1} + \\left(- \\sin{\\left(q_{1} \\right)} \\sin{\\left(q_{3} \\right)} \\cos{\\left(q_{2} \\right)} \\dot{q}_{1} - \\sin{\\left(q_{1} \\right)} \\sin{\\left(q_{3} \\right)} \\dot{q}_{3} - \\sin{\\left(q_{2} \\right)} \\sin{\\left(q_{3} \\right)} \\cos{\\left(q_{1} \\right)} \\dot{q}_{2} + \\cos{\\left(q_{1} \\right)} \\cos{\\left(q_{2} \\right)} \\cos{\\left(q_{3} \\right)} \\dot{q}_{3} + \\cos{\\left(q_{1} \\right)} \\cos{\\left(q_{3} \\right)} \\dot{q}_{1}\\right) q_{2} + q_{3} \\sin{\\left(q_{2} \\right)} \\cos{\\left(q_{3} \\right)} \\dot{q}_{3} + q_{3} \\sin{\\left(q_{3} \\right)} \\cos{\\left(q_{2} \\right)} \\dot{q}_{2} + \\sin{\\left(q_{2} \\right)} \\sin{\\left(q_{3} \\right)} \\dot{q}_{3})\\mathbf{\\hat{b}_x} + (\\left(- \\sin{\\left(q_{1} \\right)} \\sin{\\left(q_{3} \\right)} + \\cos{\\left(q_{1} \\right)} \\cos{\\left(q_{2} \\right)} \\cos{\\left(q_{3} \\right)}\\right) \\dot{q}_{2} + \\left(- \\sin{\\left(q_{1} \\right)} \\cos{\\left(q_{2} \\right)} \\cos{\\left(q_{3} \\right)} - \\sin{\\left(q_{3} \\right)} \\cos{\\left(q_{1} \\right)}\\right) \\dot{q}_{1} + \\left(\\sin{\\left(q_{1} \\right)} \\sin{\\left(q_{2} \\right)} \\cos{\\left(q_{3} \\right)} \\dot{q}_{2} + \\sin{\\left(q_{1} \\right)} \\sin{\\left(q_{3} \\right)} \\cos{\\left(q_{2} \\right)} \\dot{q}_{3} + \\sin{\\left(q_{1} \\right)} \\sin{\\left(q_{3} \\right)} \\dot{q}_{1} - \\cos{\\left(q_{1} \\right)} \\cos{\\left(q_{2} \\right)} \\cos{\\left(q_{3} \\right)} \\dot{q}_{1} - \\cos{\\left(q_{1} \\right)} \\cos{\\left(q_{3} \\right)} \\dot{q}_{3}\\right) q_{1} + \\left(- \\sin{\\left(q_{1} \\right)} \\cos{\\left(q_{2} \\right)} \\cos{\\left(q_{3} \\right)} \\dot{q}_{1} - \\sin{\\left(q_{1} \\right)} \\cos{\\left(q_{3} \\right)} \\dot{q}_{3} - \\sin{\\left(q_{2} \\right)} \\cos{\\left(q_{1} \\right)} \\cos{\\left(q_{3} \\right)} \\dot{q}_{2} - \\sin{\\left(q_{3} \\right)} \\cos{\\left(q_{1} \\right)} \\cos{\\left(q_{2} \\right)} \\dot{q}_{3} - \\sin{\\left(q_{3} \\right)} \\cos{\\left(q_{1} \\right)} \\dot{q}_{1}\\right) q_{2} - q_{3} \\sin{\\left(q_{2} \\right)} \\sin{\\left(q_{3} \\right)} \\dot{q}_{3} + q_{3} \\cos{\\left(q_{2} \\right)} \\cos{\\left(q_{3} \\right)} \\dot{q}_{2} + \\sin{\\left(q_{2} \\right)} \\cos{\\left(q_{3} \\right)} \\dot{q}_{3})\\mathbf{\\hat{b}_y} + (q_{1} \\sin{\\left(q_{1} \\right)} \\cos{\\left(q_{2} \\right)} \\dot{q}_{2} + q_{1} \\sin{\\left(q_{2} \\right)} \\cos{\\left(q_{1} \\right)} \\dot{q}_{1} + q_{2} \\sin{\\left(q_{1} \\right)} \\sin{\\left(q_{2} \\right)} \\dot{q}_{1} - q_{2} \\cos{\\left(q_{1} \\right)} \\cos{\\left(q_{2} \\right)} \\dot{q}_{2} - q_{3} \\sin{\\left(q_{2} \\right)} \\dot{q}_{2} + \\sin{\\left(q_{1} \\right)} \\sin{\\left(q_{2} \\right)} \\dot{q}_{1} - \\sin{\\left(q_{2} \\right)} \\cos{\\left(q_{1} \\right)} \\dot{q}_{2} + \\cos{\\left(q_{2} \\right)} \\dot{q}_{3})\\mathbf{\\hat{b}_z}$"
      ],
      "text/plain": [
       "((sin(q₁)⋅cos(q₃) + sin(q₃)⋅cos(q₁)⋅cos(q₂))⋅q₂̇ + (-sin(q₁)⋅sin(q₃)⋅cos(q₂) + cos(q₁)⋅cos(q₃))⋅q₁̇ + (sin(q₁)⋅sin(q₂)⋅sin(q₃)⋅q₂̇\n",
       "- sin(q₁)⋅cos(q₂)⋅cos(q₃)⋅q₃̇ - sin(q₁)⋅cos(q₃)⋅q₁̇ - sin(q₃)⋅cos(q₁)⋅cos(q₂)⋅q₁̇ - sin(q₃)⋅cos(q₁)⋅q₃̇)⋅q₁ + (-sin(q₁)⋅sin(q₃)⋅cos\n",
       "(q₂)⋅q₁̇ - sin(q₁)⋅sin(q₃)⋅q₃̇ - sin(q₂)⋅sin(q₃)⋅cos(q₁)⋅q₂̇ + cos(q₁)⋅cos(q₂)⋅cos(q₃)⋅q₃̇ + cos(q₁)⋅cos(q₃)⋅q₁̇)⋅q₂ + q₃⋅sin(q₂)⋅c\n",
       "os(q₃)⋅q₃̇ + q₃⋅sin(q₃)⋅cos(q₂)⋅q₂̇ + sin(q₂)⋅sin(q₃)⋅q₃̇) b_x + ((-sin(q₁)⋅sin(q₃) + cos(q₁)⋅cos(q₂)⋅cos(q₃))⋅q₂̇ + (-sin(q₁)⋅cos(\n",
       "q₂)⋅cos(q₃) - sin(q₃)⋅cos(q₁))⋅q₁̇ + (sin(q₁)⋅sin(q₂)⋅cos(q₃)⋅q₂̇ + sin(q₁)⋅sin(q₃)⋅cos(q₂)⋅q₃̇ + sin(q₁)⋅sin(q₃)⋅q₁̇ - cos(q₁)⋅cos\n",
       "(q₂)⋅cos(q₃)⋅q₁̇ - cos(q₁)⋅cos(q₃)⋅q₃̇)⋅q₁ + (-sin(q₁)⋅cos(q₂)⋅cos(q₃)⋅q₁̇ - sin(q₁)⋅cos(q₃)⋅q₃̇ - sin(q₂)⋅cos(q₁)⋅cos(q₃)⋅q₂̇ - si\n",
       "n(q₃)⋅cos(q₁)⋅cos(q₂)⋅q₃̇ - sin(q₃)⋅cos(q₁)⋅q₁̇)⋅q₂ - q₃⋅sin(q₂)⋅sin(q₃)⋅q₃̇ + q₃⋅cos(q₂)⋅cos(q₃)⋅q₂̇ + sin(q₂)⋅cos(q₃)⋅q₃̇) b_y +\n",
       "(q₁⋅sin(q₁)⋅cos(q₂)⋅q₂̇ + q₁⋅sin(q₂)⋅cos(q₁)⋅q₁̇ + q₂⋅sin(q₁)⋅sin(q₂)⋅q₁̇ - q₂⋅cos(q₁)⋅cos(q₂)⋅q₂̇ - q₃⋅sin(q₂)⋅q₂̇ + sin(q₁)⋅sin(q\n",
       "₂)⋅q₁̇ - sin(q₂)⋅cos(q₁)⋅q₂̇ + cos(q₂)⋅q₃̇) b_z"
      ]
     },
     "execution_count": 67,
     "metadata": {},
     "output_type": "execute_result"
    }
   ],
   "source": [
    "v.diff(t, B)"
   ]
  },
  {
   "cell_type": "code",
   "execution_count": null,
   "id": "470a925e-2093-4d5e-9fdf-7eb0ad535c53",
   "metadata": {},
   "outputs": [],
   "source": []
  }
 ],
 "metadata": {
  "kernelspec": {
   "display_name": "Python 3 (ipykernel)",
   "language": "python",
   "name": "python3"
  },
  "language_info": {
   "codemirror_mode": {
    "name": "ipython",
    "version": 3
   },
   "file_extension": ".py",
   "mimetype": "text/x-python",
   "name": "python",
   "nbconvert_exporter": "python",
   "pygments_lexer": "ipython3",
   "version": "3.11.6"
  }
 },
 "nbformat": 4,
 "nbformat_minor": 5
}
