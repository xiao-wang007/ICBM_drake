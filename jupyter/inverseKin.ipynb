{
 "cells": [
  {
   "cell_type": "code",
   "execution_count": 9,
   "id": "77c2bcac-662d-4cce-8287-d00eb9ff6a93",
   "metadata": {},
   "outputs": [],
   "source": [
    "import numpy as np\n",
    "from IPython.display import clear_output\n",
    "from pydrake.all import (\n",
    "    AddMultibodyPlantSceneGraph,\n",
    "    Box,\n",
    "    Cylinder,\n",
    "    DiagramBuilder,\n",
    "    InverseKinematics,\n",
    "    MeshcatVisualizer,\n",
    "    MeshcatVisualizerParams,\n",
    "    RigidTransform,\n",
    "    Role,\n",
    "    RollPitchYaw,\n",
    "    RotationMatrix,\n",
    "    Solve,\n",
    "    StartMeshcat,\n",
    "    RevoluteJoint\n",
    ")\n",
    "\n",
    "from pydrake.all import (\n",
    "    FindResourceOrThrow, GenerateHtml, InverseDynamicsController, \n",
    "    MultibodyPlant, Parser, Simulator)"
   ]
  },
  {
   "cell_type": "code",
   "execution_count": 20,
   "id": "bfd3e525-ee40-41e1-8e96-66d4bf091c43",
   "metadata": {},
   "outputs": [],
   "source": [
    "def AddPanda(plant, pandaFile, qs=[0., 0., 0., 0., 0., 0., 0]):\n",
    "    parser = Parser(plant)\n",
    "    panda = parser.AddModels(pandaFile)[0]\n",
    "    plant.WeldFrames(plant.world_frame(), plant.GetFrameByName(\"panda_link0\"))\n",
    "\n",
    "    # Set default positions:\n",
    "    index = 0\n",
    "    for joint_index in plant.GetJointIndices(panda):\n",
    "        joint = plant.get_mutable_joint(joint_index)\n",
    "        if isinstance(joint, RevoluteJoint):\n",
    "            joint.set_default_angle(qs[index])\n",
    "            index += 1\n",
    "    return panda"
   ]
  },
  {
   "cell_type": "code",
   "execution_count": 28,
   "id": "d93f6d0a-3b4e-4619-a374-3a5c7de1b106",
   "metadata": {},
   "outputs": [
    {
     "name": "stderr",
     "output_type": "stream",
     "text": [
      "INFO:drake:Meshcat listening for connections at http://localhost:7006\n"
     ]
    }
   ],
   "source": [
    "# Start the visualizer.\n",
    "meshcat = StartMeshcat()\n",
    "builder = DiagramBuilder()\n",
    "plant, scene_graph = AddMultibodyPlantSceneGraph(builder, time_step=0.001)\n",
    "pandaFile = \"/Users/xiao/0_codes/ICBM_drake/models/franka_description/urdf/panda_arm_hand.urdf\"\n",
    "panda = AddPanda(plant, pandaFile, [0.1, -0.1,  1.5, -1.8,  0.3,  1.3,  0.5])\n",
    "plant.Finalize()\n",
    "\n",
    "meshcat.Delete()\n",
    "meshcat.DeleteAddedControls()\n",
    "visualizer = MeshcatVisualizer.AddToBuilder(builder, scene_graph, meshcat, MeshcatVisualizerParams())\n",
    "collision = MeshcatVisualizer.AddToBuilder(\n",
    "    builder,\n",
    "    scene_graph,\n",
    "    meshcat,\n",
    "    MeshcatVisualizerParams(prefix=\"collision\", role=Role.kProximity, visible_by_default=False),\n",
    ")"
   ]
  },
  {
   "cell_type": "code",
   "execution_count": 29,
   "id": "8debbff8-0de7-4b07-8a2c-6baec4cdb921",
   "metadata": {},
   "outputs": [],
   "source": [
    "diagram = builder.Build()\n",
    "context = diagram.CreateDefaultContext()\n",
    "plant_context = plant.GetMyContextFromRoot(context)"
   ]
  },
  {
   "cell_type": "code",
   "execution_count": 30,
   "id": "7e199bf0-338b-4a7e-8035-f34629f17d4c",
   "metadata": {},
   "outputs": [
    {
     "name": "stdout",
     "output_type": "stream",
     "text": [
      "[ 0.1 -0.1  1.5 -1.8  0.3  1.3  0.5  0.   0. ]\n"
     ]
    }
   ],
   "source": [
    "q0 = plant.GetPositions(plant_context)\n",
    "# gripper_frame = plant.GetFrameByName(\"body\", wsg) # this is to add the gripper to robot\n",
    "gripper_frame = plant.GetFrameByName(\"panda_rightfinger\")\n",
    "print(q0)"
   ]
  },
  {
   "cell_type": "code",
   "execution_count": 63,
   "id": "79d69ffe-f36c-4e33-95d0-ae1c3dbecdf4",
   "metadata": {},
   "outputs": [],
   "source": [
    "def InvKinProg(context, pose):\n",
    "    ik = InverseKinematics(plant, plant_context)\n",
    "    ik.AddPositionConstraint(\n",
    "        gripper_frame,\n",
    "        [0, 0, 0],\n",
    "        plant.world_frame(),\n",
    "        pose.translation(),\n",
    "        pose.translation(),\n",
    "    )\n",
    "    ik.AddOrientationConstraint(\n",
    "        gripper_frame,\n",
    "        RotationMatrix(),\n",
    "        plant.world_frame(),\n",
    "        pose.rotation(),\n",
    "        0.0,\n",
    "    )\n",
    "    prog = ik.get_mutable_prog()\n",
    "    q = ik.q()\n",
    "    prog.AddQuadraticErrorCost(np.identity(len(q)), q0, q)\n",
    "    prog.SetInitialGuess(q, q0)\n",
    "    result = Solve(ik.prog())\n",
    "    if result.is_success():\n",
    "        print(\"IK success\")\n",
    "    else:\n",
    "        print(\"IK failure\")\n",
    "    return result"
   ]
  },
  {
   "cell_type": "code",
   "execution_count": 64,
   "id": "6484b14b-d344-4887-a96c-1731301834da",
   "metadata": {},
   "outputs": [],
   "source": [
    "pose = RigidTransform(\n",
    "  R=RotationMatrix([\n",
    "    [1.0, 0.0, 0.0],\n",
    "    [0.0, 0.0, 1.0],\n",
    "    [0.0, -1.0, 0.0],\n",
    "  ]),\n",
    "  p=[-0.1, -0.2, 0.104],\n",
    ")\n",
    "\n",
    "objPose_in_w = RigidTransform(\n",
    "  R=RotationMatrix([\n",
    "    [1.0, 0.0, 0.0],\n",
    "    [0.0, 0.0, 1.0],\n",
    "    [0.0, -1.0, 0.0],\n",
    "  ]),\n",
    "  p=[-0.1, -0.2, 0.104],\n",
    ")"
   ]
  },
  {
   "cell_type": "code",
   "execution_count": 65,
   "id": "2d546da7-e5fa-4331-8dfe-29a9f2c42216",
   "metadata": {},
   "outputs": [
    {
     "name": "stdout",
     "output_type": "stream",
     "text": [
      "IK success\n"
     ]
    }
   ],
   "source": [
    "result = InvKinProg(context, pose)"
   ]
  },
  {
   "cell_type": "code",
   "execution_count": 58,
   "id": "6c071bd9-64bf-4104-a41c-4f453fc96b1e",
   "metadata": {},
   "outputs": [
    {
     "data": {
      "text/plain": [
       "array([-1.72004007,  0.55612755, -0.09451926, -2.43337601, -0.23156651,\n",
       "        1.43209801, -0.86914392,  0.        ,  0.        ])"
      ]
     },
     "execution_count": 58,
     "metadata": {},
     "output_type": "execute_result"
    }
   ],
   "source": [
    "result.GetSolution()"
   ]
  },
  {
   "cell_type": "code",
   "execution_count": null,
   "id": "fd7cc6fc-c23f-4685-9c7e-cecd4deae2ea",
   "metadata": {},
   "outputs": [],
   "source": []
  }
 ],
 "metadata": {
  "kernelspec": {
   "display_name": "Python 3 (ipykernel)",
   "language": "python",
   "name": "python3"
  },
  "language_info": {
   "codemirror_mode": {
    "name": "ipython",
    "version": 3
   },
   "file_extension": ".py",
   "mimetype": "text/x-python",
   "name": "python",
   "nbconvert_exporter": "python",
   "pygments_lexer": "ipython3",
   "version": "3.11.6"
  }
 },
 "nbformat": 4,
 "nbformat_minor": 5
}
