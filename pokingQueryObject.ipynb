{
 "cells": [
  {
   "cell_type": "markdown",
   "id": "2b9be40c-5527-4f43-9341-875651ee76be",
   "metadata": {},
   "source": [
    "# class drake::geometry::QueryObject< T >"
   ]
  },
  {
   "cell_type": "code",
   "execution_count": 1,
   "id": "6858526c-970e-43f6-afcc-1e9df506af9b",
   "metadata": {},
   "outputs": [],
   "source": [
    "# Import some basic libraries and functions for this tutorial.\n",
    "import numpy as np\n",
    "import os\n",
    "\n",
    "from pydrake.common import temp_directory\n",
    "from pydrake.geometry import StartMeshcat\n",
    "from pydrake.math import RigidTransform, RollPitchYaw, RotationMatrix\n",
    "from pydrake.multibody.parsing import Parser\n",
    "from pydrake.multibody.plant import AddMultibodyPlantSceneGraph\n",
    "from pydrake.systems.analysis import Simulator\n",
    "from pydrake.systems.framework import DiagramBuilder\n",
    "from pydrake.visualization import AddDefaultVisualization, ModelVisualizer\n",
    "from pydrake.all import (\n",
    "    AddMultibodyPlantSceneGraph, DiagramBuilder, \n",
    "    FindResourceOrThrow, GenerateHtml, InverseDynamicsController, \n",
    "    MultibodyPlant, Parser, Simulator)\n",
    "from pydrake.multibody.jupyter_widgets import MakeJointSlidersThatPublishOnCallback\n",
    "import pydrake\n",
    "from pydrake import geometry\n",
    "from pydrake.math import RigidTransform, RollPitchYaw, RotationMatrix \n",
    "from pydrake.solvers import MathematicalProgram, Solve\n",
    "from pydrake.systems.jupyter_widgets import PoseSliders, WidgetSystem\n",
    "from ipywidgets import ToggleButton, ToggleButtons\n",
    "from functools import partial\n",
    "from pydrake.all import (\n",
    "    JointIndex, PiecewisePolynomial, JacobianWrtVariable,\n",
    "    eq, ge,  AutoDiffXd, SnoptSolver, IpoptSolver,  \n",
    "    AddUnitQuaternionConstraintOnPlant, PositionConstraint, OrientationConstraint\n",
    "    )"
   ]
  },
  {
   "cell_type": "code",
   "execution_count": 2,
   "id": "39d0ade5-41cf-4e1a-84f2-ea4b6a9a7f81",
   "metadata": {},
   "outputs": [],
   "source": [
    "h = 1e-3\n",
    "builder = DiagramBuilder()\n",
    "plant, scene_graph = AddMultibodyPlantSceneGraph(builder, time_step=h)\n",
    "parser = Parser(plant)"
   ]
  },
  {
   "cell_type": "code",
   "execution_count": 3,
   "id": "827c0c20-fd33-4201-add3-fb7a345e78ae",
   "metadata": {},
   "outputs": [],
   "source": [
    "dir1 = \"/Users/xiao/0_codes/ICBM_drake/models/objects\"\n",
    "dir2 = \"/Users/xiao/0_codes/ICBM_drake/models/ycb/sdf/\"\n",
    "table_file = os.path.join(dir1, \"table_top.sdf\")\n",
    "panda_file = \"/Users/xiao/0_codes/ICBM_drake/models/franka_description/urdf/panda_arm_hand.urdf\"\n",
    "box_file = os.path.join(dir2, \"003_cracker_box.sdf\")\n",
    "table_modelInstance = parser.AddModels(table_file)[0]  # this return pydrake.multibody.tree.ModelInstanceIndex\n",
    "panda_modelInstance = parser.AddModels(panda_file)[0]\n",
    "box_modelInstance = parser.AddModels(box_file)[0]\n",
    "\n",
    "table_top_frame = plant.GetFrameByName(\"table_top_center\")\n",
    "robot_base = plant.GetFrameByName(\"panda_link0\")\n",
    "\n",
    "X_W_table = RigidTransform(\n",
    "  R=RotationMatrix([\n",
    "    [1.0, 0.0, 0.0],\n",
    "    [0.0, 1.0, 0.0],\n",
    "    [0.0, 0.0, 1.0],]),\n",
    "  p=[0.0, 0.0, 0.0]\n",
    ")\n",
    "\n",
    "plant.WeldFrames(plant.world_frame(), table_top_frame, X_W_table)\n",
    "plant.WeldFrames(table_top_frame, robot_base, RigidTransform(RotationMatrix.Identity(), [0., -0.4, 0.]))\n",
    "plant.Finalize()\n",
    "plant.set_name(\"table_with_box\")\n",
    "diagram = builder.Build()\n",
    "context = diagram.CreateDefaultContext()\n",
    "mutable_context = plant.GetMyContextFromRoot(context)"
   ]
  },
  {
   "cell_type": "markdown",
   "id": "0ca1444e-ddda-480e-a74a-ed7a5f30985a",
   "metadata": {},
   "source": [
    "<div class=\"alert alert-block alert-success\">\n",
    "<b>Querying the scene geometry based on context at $t_k$:</b> 1. create mutable_contexts from root_context for each time step; 2. at $t_k$, using its corresponding mutable_context to create a query_port; 3. create query_object, which has some useful member functions; 4. create the inspector = query_object.inspector() to extract informations from the scene geometries.\n",
    "</div>"
   ]
  },
  {
   "cell_type": "code",
   "execution_count": 5,
   "id": "a5028043-ed33-40ea-809b-847af3a4f113",
   "metadata": {},
   "outputs": [],
   "source": [
    "query_port = plant.get_geometry_query_input_port()"
   ]
  },
  {
   "cell_type": "code",
   "execution_count": 9,
   "id": "e33f04e1-eabf-4be8-a4ec-0734b67bdc3f",
   "metadata": {},
   "outputs": [],
   "source": [
    "if query_port.HasValue(mutable_context):\n",
    "    query_object = query_port.Eval(mutable_context)"
   ]
  },
  {
   "cell_type": "code",
   "execution_count": 10,
   "id": "ab6aeed3-c39d-4d49-9adc-c5ae767bdb5f",
   "metadata": {},
   "outputs": [],
   "source": [
    "signed_distance_pairs = query_object.ComputeSignedDistancePairwiseClosestPoints()"
   ]
  },
  {
   "cell_type": "code",
   "execution_count": 26,
   "id": "6aff48ae-bfb9-457a-91ad-f529aeb7677f",
   "metadata": {},
   "outputs": [
    {
     "name": "stdout",
     "output_type": "stream",
     "text": [
      "2165\n"
     ]
    }
   ],
   "source": [
    "print(len(signed_distance_pairs))"
   ]
  },
  {
   "cell_type": "code",
   "execution_count": 16,
   "id": "a8dab5d9-9664-43f5-a4f4-7aefa07ce3fd",
   "metadata": {},
   "outputs": [
    {
     "name": "stdout",
     "output_type": "stream",
     "text": [
      "<GeometryId value=21>\n",
      "<GeometryId value=282>\n"
     ]
    }
   ],
   "source": [
    "print(signed_distance_pairs[0].id_A)\n",
    "print(signed_distance_pairs[0].id_B)"
   ]
  },
  {
   "cell_type": "code",
   "execution_count": 23,
   "id": "41f5eb78-d54e-47b4-ac45-c206c98d8675",
   "metadata": {},
   "outputs": [],
   "source": [
    "# using the inspector to get info on the pairs\n",
    "inspector = query_object.inspector()\n",
    "frameA_id = inspector.GetFrameId(signed_distance_pairs[0].id_A)\n",
    "frameB_id = inspector.GetFrameId(signed_distance_pairs[1].id_B)\n",
    "\n",
    "bodyA = plant.GetBodyFromFrameId(frameA_id)\n",
    "bodyB = plant.GetBodyFromFrameId(frameB_id)"
   ]
  },
  {
   "cell_type": "code",
   "execution_count": 24,
   "id": "9beb68d1-f5bf-4c44-8378-008d2b9b204c",
   "metadata": {},
   "outputs": [
    {
     "data": {
      "text/plain": [
       "pydrake.multibody.tree.RigidBody"
      ]
     },
     "execution_count": 24,
     "metadata": {},
     "output_type": "execute_result"
    }
   ],
   "source": [
    "type(bodyA)"
   ]
  },
  {
   "cell_type": "code",
   "execution_count": 25,
   "id": "279881a9-2955-458c-83ef-1fdae9289ae7",
   "metadata": {},
   "outputs": [
    {
     "name": "stdout",
     "output_type": "stream",
     "text": [
      "<RigidBody name='table_top_link' index=1 model_instance=2>\n",
      "<RigidBody name='base_link_cracker' index=14 model_instance=4>\n"
     ]
    }
   ],
   "source": [
    "print(bodyA)\n",
    "print(bodyB)"
   ]
  },
  {
   "cell_type": "code",
   "execution_count": null,
   "id": "1e6ab1be-2348-4acb-aad1-14278c325006",
   "metadata": {},
   "outputs": [],
   "source": []
  }
 ],
 "metadata": {
  "kernelspec": {
   "display_name": "Python 3 (ipykernel)",
   "language": "python",
   "name": "python3"
  },
  "language_info": {
   "codemirror_mode": {
    "name": "ipython",
    "version": 3
   },
   "file_extension": ".py",
   "mimetype": "text/x-python",
   "name": "python",
   "nbconvert_exporter": "python",
   "pygments_lexer": "ipython3",
   "version": "3.11.6"
  }
 },
 "nbformat": 4,
 "nbformat_minor": 5
}
