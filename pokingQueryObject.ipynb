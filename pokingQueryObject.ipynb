{
 "cells": [
  {
   "cell_type": "markdown",
   "id": "2b9be40c-5527-4f43-9341-875651ee76be",
   "metadata": {},
   "source": [
    "# class drake::geometry::QueryObject< T >"
   ]
  },
  {
   "cell_type": "code",
   "execution_count": 1,
   "id": "6858526c-970e-43f6-afcc-1e9df506af9b",
   "metadata": {},
   "outputs": [],
   "source": [
    "# Import some basic libraries and functions for this tutorial.\n",
    "import numpy as np\n",
    "import os\n",
    "\n",
    "from pydrake.common import temp_directory\n",
    "from pydrake.geometry import StartMeshcat\n",
    "from pydrake.math import RigidTransform, RollPitchYaw, RotationMatrix\n",
    "from pydrake.multibody.parsing import Parser\n",
    "from pydrake.multibody.plant import AddMultibodyPlantSceneGraph\n",
    "from pydrake.systems.analysis import Simulator\n",
    "from pydrake.systems.framework import DiagramBuilder\n",
    "from pydrake.visualization import AddDefaultVisualization, ModelVisualizer\n",
    "from pydrake.all import (\n",
    "    AddMultibodyPlantSceneGraph, DiagramBuilder, \n",
    "    FindResourceOrThrow, GenerateHtml, InverseDynamicsController, \n",
    "    MultibodyPlant, Parser, Simulator)\n",
    "from pydrake.multibody.jupyter_widgets import MakeJointSlidersThatPublishOnCallback\n",
    "import pydrake\n",
    "from pydrake import geometry\n",
    "from pydrake.math import RigidTransform, RollPitchYaw, RotationMatrix \n",
    "from pydrake.solvers import MathematicalProgram, Solve\n",
    "from pydrake.systems.jupyter_widgets import PoseSliders, WidgetSystem\n",
    "from ipywidgets import ToggleButton, ToggleButtons\n",
    "from functools import partial\n",
    "from pydrake.all import (\n",
    "    JointIndex, PiecewisePolynomial, JacobianWrtVariable,\n",
    "    eq, ge,  AutoDiffXd, SnoptSolver, IpoptSolver,  \n",
    "    AddUnitQuaternionConstraintOnPlant, PositionConstraint, OrientationConstraint\n",
    "    )"
   ]
  },
  {
   "cell_type": "code",
   "execution_count": 2,
   "id": "39d0ade5-41cf-4e1a-84f2-ea4b6a9a7f81",
   "metadata": {},
   "outputs": [],
   "source": [
    "h = 1e-3\n",
    "builder = DiagramBuilder()\n",
    "plant, scene_graph = AddMultibodyPlantSceneGraph(builder, time_step=h)\n",
    "parser = Parser(plant)"
   ]
  },
  {
   "cell_type": "code",
   "execution_count": 3,
   "id": "827c0c20-fd33-4201-add3-fb7a345e78ae",
   "metadata": {},
   "outputs": [],
   "source": [
    "dir1 = \"/Users/xiao/0_codes/ICBM_drake/models/objects\"\n",
    "dir2 = \"/Users/xiao/0_codes/ICBM_drake/models/ycb/sdf/\"\n",
    "table_file = os.path.join(dir1, \"table_top.sdf\")\n",
    "panda_file = \"/Users/xiao/0_codes/ICBM_drake/models/franka_description/urdf/panda_arm_hand.urdf\"\n",
    "box_file = os.path.join(dir2, \"003_cracker_box.sdf\")\n",
    "table_modelInstance = parser.AddModels(table_file)[0]  # this return pydrake.multibody.tree.ModelInstanceIndex\n",
    "panda_modelInstance = parser.AddModels(panda_file)[0]\n",
    "box_modelInstance = parser.AddModels(box_file)[0]\n",
    "\n",
    "table_top_frame = plant.GetFrameByName(\"table_top_center\")\n",
    "robot_base = plant.GetFrameByName(\"panda_link0\")\n",
    "\n",
    "X_W_table = RigidTransform(\n",
    "  R=RotationMatrix([\n",
    "    [1.0, 0.0, 0.0],\n",
    "    [0.0, 1.0, 0.0],\n",
    "    [0.0, 0.0, 1.0],]),\n",
    "  p=[0.0, 0.0, 0.0]\n",
    ")\n",
    "\n",
    "plant.WeldFrames(plant.world_frame(), table_top_frame, X_W_table)\n",
    "plant.WeldFrames(table_top_frame, robot_base, RigidTransform(RotationMatrix.Identity(), [0., -0.4, 0.]))\n",
    "plant.Finalize()\n",
    "plant.set_name(\"table_with_box\")\n",
    "diagram = builder.Build()\n",
    "context = diagram.CreateDefaultContext()\n",
    "mutable_context = plant.GetMyContextFromRoot(context)"
   ]
  },
  {
   "cell_type": "markdown",
   "id": "0ca1444e-ddda-480e-a74a-ed7a5f30985a",
   "metadata": {},
   "source": [
    "<div class=\"alert alert-block alert-success\">\n",
    "<b>Querying the scene geometry based on context at $t_k$:</b> 1. create mutable_contexts from root_context for each time step; 2. at $t_k$, using its corresponding mutable_context to create a query_port; 3. create query_object, which has some useful member functions; 4. create the inspector = query_object.inspector() to extract informations from the scene geometries.\n",
    "</div>"
   ]
  },
  {
   "cell_type": "code",
   "execution_count": 5,
   "id": "a5028043-ed33-40ea-809b-847af3a4f113",
   "metadata": {},
   "outputs": [],
   "source": [
    "query_port = plant.get_geometry_query_input_port()"
   ]
  },
  {
   "cell_type": "code",
   "execution_count": 9,
   "id": "e33f04e1-eabf-4be8-a4ec-0734b67bdc3f",
   "metadata": {},
   "outputs": [],
   "source": [
    "if query_port.HasValue(mutable_context):\n",
    "    query_object = query_port.Eval(mutable_context)"
   ]
  },
  {
   "cell_type": "code",
   "execution_count": 10,
   "id": "ab6aeed3-c39d-4d49-9adc-c5ae767bdb5f",
   "metadata": {},
   "outputs": [],
   "source": [
    "signed_distance_pairs = query_object.ComputeSignedDistancePairwiseClosestPoints()"
   ]
  },
  {
   "cell_type": "code",
   "execution_count": 26,
   "id": "6aff48ae-bfb9-457a-91ad-f529aeb7677f",
   "metadata": {},
   "outputs": [
    {
     "name": "stdout",
     "output_type": "stream",
     "text": [
      "2165\n"
     ]
    }
   ],
   "source": [
    "print(len(signed_distance_pairs))"
   ]
  },
  {
   "cell_type": "code",
   "execution_count": 16,
   "id": "a8dab5d9-9664-43f5-a4f4-7aefa07ce3fd",
   "metadata": {},
   "outputs": [
    {
     "name": "stdout",
     "output_type": "stream",
     "text": [
      "<GeometryId value=21>\n",
      "<GeometryId value=282>\n"
     ]
    }
   ],
   "source": [
    "print(signed_distance_pairs[0].id_A)\n",
    "print(signed_distance_pairs[0].id_B)"
   ]
  },
  {
   "cell_type": "code",
   "execution_count": 23,
   "id": "41f5eb78-d54e-47b4-ac45-c206c98d8675",
   "metadata": {},
   "outputs": [],
   "source": [
    "# using the inspector to get info on the pairs\n",
    "inspector = query_object.inspector()\n",
    "frameA_id = inspector.GetFrameId(signed_distance_pairs[0].id_A)\n",
    "frameB_id = inspector.GetFrameId(signed_distance_pairs[1].id_B)\n",
    "\n",
    "bodyA = plant.GetBodyFromFrameId(frameA_id)\n",
    "bodyB = plant.GetBodyFromFrameId(frameB_id)"
   ]
  },
  {
   "cell_type": "code",
   "execution_count": 24,
   "id": "9beb68d1-f5bf-4c44-8378-008d2b9b204c",
   "metadata": {},
   "outputs": [
    {
     "data": {
      "text/plain": [
       "pydrake.multibody.tree.RigidBody"
      ]
     },
     "execution_count": 24,
     "metadata": {},
     "output_type": "execute_result"
    }
   ],
   "source": [
    "type(bodyA)"
   ]
  },
  {
   "cell_type": "code",
   "execution_count": 27,
   "id": "17152cce-765c-4964-815e-c6964581dfd3",
   "metadata": {
    "scrolled": true
   },
   "outputs": [
    {
     "name": "stdout",
     "output_type": "stream",
     "text": [
      "<RigidBody name='table_top_link' index=1 model_instance=2>\n",
      "<RigidBody name='base_link_cracker' index=14 model_instance=4>\n"
     ]
    }
   ],
   "source": [
    "print(bodyA)\n",
    "print(bodyB)"
   ]
  },
  {
   "cell_type": "markdown",
   "id": "af3c426d-77a4-41d3-81d2-a2ad5945b27b",
   "metadata": {},
   "source": [
    "__A variant of ComputeSignedDistancePairwiseClosestPoints() which computes the signed distance (and witnesses) between a specific pair of geometries indicated by id.__ "
   ]
  },
  {
   "cell_type": "code",
   "execution_count": 28,
   "id": "1e6ab1be-2348-4acb-aad1-14278c325006",
   "metadata": {},
   "outputs": [],
   "source": [
    "\"\"\"\n",
    "# This could be used for getting pairs between finger and box\n",
    "query_object.ComputeSignedDistancePairClosestPoints(GeometryId geometry_id_A,\n",
    "                                                    GeometryId geometry_id_B)\n",
    "\"\"\"                                                     \"\"\"\n",
    "# maybe use this \n",
    "query_object.ComputeSignedDistanceToPoint()\n",
    "\"\"\"\n",
    "\n",
    "# get link 7 in {W}\n",
    "link7_frame = plant.GetFrameByName(\"panda_link7\")"
   ]
  },
  {
   "cell_type": "code",
   "execution_count": 30,
   "id": "35cd9d79-236d-4f46-90f5-b2c2415eb52c",
   "metadata": {},
   "outputs": [
    {
     "name": "stdout",
     "output_type": "stream",
     "text": [
      "<BodyFrame name='panda_link7' index=11 model_instance=3>\n"
     ]
    }
   ],
   "source": [
    "print(link7_frame)"
   ]
  },
  {
   "cell_type": "code",
   "execution_count": 35,
   "id": "bdaeb9e2-f44b-4e11-92d8-ce75645fee21",
   "metadata": {},
   "outputs": [
    {
     "data": {
      "text/plain": [
       "RigidTransform(\n",
       "  R=RotationMatrix([\n",
       "    [1.0, 0.0, 0.0],\n",
       "    [0.0, 1.0, 0.0],\n",
       "    [0.0, 0.0, 1.0],\n",
       "  ]),\n",
       "  p=[0.0, 0.0, 0.0],\n",
       ")"
      ]
     },
     "execution_count": 35,
     "metadata": {},
     "output_type": "execute_result"
    }
   ],
   "source": [
    "link7_frame.CalcPoseInBodyFrame(mutable_context)"
   ]
  },
  {
   "cell_type": "code",
   "execution_count": 37,
   "id": "3dcea77a-81d0-44ef-86a9-f23f081c58b6",
   "metadata": {},
   "outputs": [
    {
     "data": {
      "text/plain": [
       "RigidTransform(\n",
       "  R=RotationMatrix([\n",
       "    [1.0, 0.0, 0.0],\n",
       "    [0.0, -1.0, -9.793177720293495e-12],\n",
       "    [0.0, 9.793177720293495e-12, -1.0],\n",
       "  ]),\n",
       "  p=[0.088, -0.39999999999966707, 1.033],\n",
       ")"
      ]
     },
     "execution_count": 37,
     "metadata": {},
     "output_type": "execute_result"
    }
   ],
   "source": [
    "link7_frame.CalcPoseInWorld(mutable_context)"
   ]
  },
  {
   "cell_type": "markdown",
   "id": "5941e45a-0057-4d9a-b96d-e50f5ba39478",
   "metadata": {},
   "source": [
    "<div class=\"alert alert-block alert-success\">\n",
    "<b>I know what to do next!!:</b> Manually choose a point on the finger in {link8}. Then manually choose three points of the box to give surface normal. Something useful relevant to contact constraints: https://drake.mit.edu/doxygen_cxx/group__contact__surface__constraints.html\n",
    "</div>"
   ]
  },
  {
   "cell_type": "markdown",
   "id": "c3cf123e-d9c9-4767-81b7-f4114bfcc7e6",
   "metadata": {},
   "source": [
    "__this will be useful!__ #include \"drake/geometry/proximity/calc_distance_to_surface_mesh.h\" and \"proximity_utilities.h\" These are what I will be doing manually."
   ]
  },
  {
   "cell_type": "code",
   "execution_count": 41,
   "id": "96fa350d-83e1-4d7f-bc63-c38dcd7b269a",
   "metadata": {},
   "outputs": [
    {
     "name": "stdout",
     "output_type": "stream",
     "text": [
      "box fram in W: RigidTransform(\n",
      "  R=RotationMatrix([\n",
      "    [1.0, 0.0, 0.0],\n",
      "    [0.0, 1.0, 0.0],\n",
      "    [0.0, 0.0, 1.0],\n",
      "  ]),\n",
      "  p=[0.0, 0.0, 0.0],\n",
      ")\n"
     ]
    }
   ],
   "source": [
    "box_frame = plant.GetFrameByName(\"base_link_cracker\")\n",
    "print(f\"box fram in W: {box_frame.CalcPoseInWorld(mutable_context)}\")"
   ]
  },
  {
   "cell_type": "code",
   "execution_count": 43,
   "id": "a866e931-6679-4b93-b03c-a175fa8f3a34",
   "metadata": {},
   "outputs": [
    {
     "data": {
      "text/plain": [
       "ModelInstanceIndex(3)"
      ]
     },
     "execution_count": 43,
     "metadata": {},
     "output_type": "execute_result"
    }
   ],
   "source": [
    "panda_modelInstance"
   ]
  },
  {
   "cell_type": "code",
   "execution_count": 44,
   "id": "f1816b28-2985-48e0-ac60-39ad49fcea82",
   "metadata": {},
   "outputs": [
    {
     "data": {
      "text/plain": [
       "<BodyFrame name='world' index=0 model_instance=0>"
      ]
     },
     "execution_count": 44,
     "metadata": {},
     "output_type": "execute_result"
    }
   ],
   "source": [
    "plant.world_frame()"
   ]
  },
  {
   "cell_type": "code",
   "execution_count": 47,
   "id": "818a7d78-d66b-40dd-8d08-9c18247f9c86",
   "metadata": {},
   "outputs": [
    {
     "data": {
      "text/plain": [
       "RigidTransform(\n",
       "  R=RotationMatrix([\n",
       "    [1.0, 0.0, 0.0],\n",
       "    [0.0, 1.0, 0.0],\n",
       "    [0.0, 0.0, 1.0],\n",
       "  ]),\n",
       "  p=[0.0, 0.0, 0.0],\n",
       ")"
      ]
     },
     "execution_count": 47,
     "metadata": {},
     "output_type": "execute_result"
    }
   ],
   "source": [
    "plant.world_frame().CalcPoseInWorld(mutable_context)"
   ]
  },
  {
   "cell_type": "code",
   "execution_count": 301,
   "id": "20e3fe7d-60b9-4ae7-bc27-b83470ccfeeb",
   "metadata": {},
   "outputs": [],
   "source": [
    "\"\"\" a function to extract collision points from the box\n",
    "    These points are expressed in {box}\n",
    "\"\"\"\n",
    "def getPointsFromCollisionBox(modelfile):\n",
    "    points = []\n",
    "    with open(modelfile, 'r') as f:\n",
    "        model_file = f.read()\n",
    "    model_data = bs(model_file, \"xml\")\n",
    "    box_collision_points = model_data.find_all('collision') # this gathers all <collision> tags in the model.\n",
    "    # print(box_collision_points)\n",
    "    for ele in box_collision_points:\n",
    "        if ele[\"name\"].split('_')[0] == \"point\":\n",
    "            coords = ele.text.strip().split(' ')\n",
    "            points.append([coords[0], coords[1], coords[2]])\n",
    "    return np.array(points).astype(float)\n",
    "    \n",
    "points = getPointsFromCollisionBox(box_file)"
   ]
  },
  {
   "cell_type": "markdown",
   "id": "dc9efdb0-7f9d-4443-a903-88aa4b01cd10",
   "metadata": {},
   "source": [
    "__Now I can compute the surfaces normal, then project a point in hand onto the surface.__\n",
    "__Next up: get a point in left finger, then express in {W}__\n",
    "__Then, compute the relative velocity at contact point {C}__"
   ]
  },
  {
   "cell_type": "code",
   "execution_count": 331,
   "id": "7072b104-a368-4f07-949f-152a04a8d788",
   "metadata": {},
   "outputs": [
    {
     "name": "stdout",
     "output_type": "stream",
     "text": [
      "A point of the right finger expressed in panda_link7 is:\n",
      " [[-0.00494975]\n",
      " [-0.00494975]\n",
      " [ 0.2104    ]]\n"
     ]
    }
   ],
   "source": [
    "# get the transformation from {rightfinger} to {link7}\n",
    "rightfinger_frame = plant.GetFrameByName(\"panda_rightfinger\")\n",
    "link7_frame = plant.GetFrameByName(\"panda_link7\")\n",
    "X_w_rightfinger = rightfinger_frame.CalcPoseInWorld(mutable_context)\n",
    "X_w_link7 = link7_frame.CalcPoseInWorld(mutable_context)\n",
    "X_link7_p = X_w_link7.inverse().multiply(X_w_rightfinger)\n",
    "\n",
    "# from the urdf collision bodies get a roughly exstimated points, express in {link7}\n",
    "p_rf = np.array([[0], [-0.007], [0.045]])\n",
    "p_link7_rf = X_link7_p.multiply(p_rf)\n",
    "print(f\"A point of the right finger expressed in panda_link7 is:\\n {p_link7_rf}\")"
   ]
  },
  {
   "cell_type": "code",
   "execution_count": 361,
   "id": "be2236c1-02a9-4a2e-923e-7b3c6b15863c",
   "metadata": {},
   "outputs": [],
   "source": [
    "frameIds = inspector.GetAllFrameIds()\n",
    "# plant.GetBodyFromFrameId(frameIds)\n",
    "def getFrameIdByLinkName(linkName, frameIds):\n",
    "    for id in frameIds:\n",
    "        if plant.GetBodyFromFrameId(id).name() == linkName:\n",
    "            return id"
   ]
  },
  {
   "cell_type": "markdown",
   "id": "c8480d32-cacd-472b-bf15-4b47dd4f891b",
   "metadata": {},
   "source": [
    "<div class=\"alert alert-block alert-danger\">\n",
    "<b>Just realized!!:</b> I should not rigidly follow the C++ sliding_friction_complementarity_constraint.cc line 211-216. Because in Drake's pipeline, the contact points are detected by SceneGraph(), which are registered as points in the colliding geometries. Then it makes sense to transform the points into body frame. I can just do this manually as I know the contacts in bodies and their poses. \n",
    "</div>"
   ]
  },
  {
   "cell_type": "markdown",
   "id": "e0929cfc-bde1-489d-8bc8-ad96bfc5e099",
   "metadata": {},
   "source": [
    "# Continue here!"
   ]
  },
  {
   "cell_type": "code",
   "execution_count": 405,
   "id": "b6201ba8-baf6-4d84-af46-02ba76ef23ee",
   "metadata": {},
   "outputs": [
    {
     "data": {
      "text/plain": [
       "array([[ 0.   ],\n",
       "       [-0.007],\n",
       "       [ 0.045]])"
      ]
     },
     "execution_count": 405,
     "metadata": {},
     "output_type": "execute_result"
    }
   ],
   "source": [
    "p_in_geom_finger = np.array([[0], [-0.007], [0.045]])\n",
    "rightfinger_frameId = getFrameIdByLinkName(\"panda_rightfinger\", frameIds)\n",
    "rightfinger_pose = rightfinger_frame.CalcPoseInBodyFrame(mutable_context)\n",
    "p_in_rightfinger_frame = rightfinger_pose @ p_in_geom_finger\n",
    "p_in_rightfinger_frame"
   ]
  },
  {
   "cell_type": "code",
   "execution_count": 382,
   "id": "912969cf-0788-4d24-a395-106764787844",
   "metadata": {},
   "outputs": [
    {
     "data": {
      "text/plain": [
       "[<FrameId value=9>,\n",
       " <FrameId value=17>,\n",
       " <FrameId value=23>,\n",
       " <FrameId value=69>,\n",
       " <FrameId value=91>,\n",
       " <FrameId value=113>,\n",
       " <FrameId value=132>,\n",
       " <FrameId value=157>,\n",
       " <FrameId value=197>,\n",
       " <FrameId value=216>,\n",
       " <FrameId value=226>,\n",
       " <FrameId value=230>,\n",
       " <FrameId value=246>,\n",
       " <FrameId value=256>,\n",
       " <FrameId value=268>]"
      ]
     },
     "execution_count": 382,
     "metadata": {},
     "output_type": "execute_result"
    }
   ],
   "source": [
    "frameIds"
   ]
  },
  {
   "cell_type": "code",
   "execution_count": 385,
   "id": "efa2d5e1-084c-48e7-8203-bc61b3600b31",
   "metadata": {},
   "outputs": [
    {
     "data": {
      "text/plain": [
       "RigidTransform(\n",
       "  R=RotationMatrix([\n",
       "    [0.7071067811868645, 0.7071067811862305, 0.0],\n",
       "    [0.7071067811862305, -0.7071067811868645, -9.793177720293495e-12],\n",
       "    [-6.92482237538144e-12, 6.924822375387649e-12, -1.0],\n",
       "  ]),\n",
       "  p=[0.088, -0.4000000000012869, 0.8675999999999999],\n",
       ")"
      ]
     },
     "execution_count": 385,
     "metadata": {},
     "output_type": "execute_result"
    }
   ],
   "source": [
    "plant.GetBodyFromFrameId(rightfinger_frameId).body_frame().CalcPoseInWorld(mutable_context)"
   ]
  },
  {
   "cell_type": "code",
   "execution_count": 387,
   "id": "5acf406c-e1e6-4249-b7cc-e8e08c207d75",
   "metadata": {},
   "outputs": [
    {
     "data": {
      "text/plain": [
       "RigidTransform(\n",
       "  R=RotationMatrix([\n",
       "    [0.7071067811868645, 0.7071067811862305, 0.0],\n",
       "    [0.7071067811862305, -0.7071067811868645, -9.793177720293495e-12],\n",
       "    [-6.92482237538144e-12, 6.924822375387649e-12, -1.0],\n",
       "  ]),\n",
       "  p=[0.088, -0.4000000000012869, 0.8675999999999999],\n",
       ")"
      ]
     },
     "execution_count": 387,
     "metadata": {},
     "output_type": "execute_result"
    }
   ],
   "source": [
    "plant.GetBodyByName(\"panda_rightfinger\").body_frame().CalcPoseInWorld(mutable_context)"
   ]
  },
  {
   "cell_type": "code",
   "execution_count": 398,
   "id": "f5235f0a-c58c-442c-873d-9b24b1e7de38",
   "metadata": {},
   "outputs": [],
   "source": [
    "rf_frame = plant.GetBodyByName(\"panda_rightfinger\").body_frame()\n",
    "rf_frame.CalcPoseInWorld(mutable_context)\n",
    "\n",
    "for geoid in geoIds:\n",
    "    if inspector.GetPoseInFrame(geoid) == rf_frame.CalcPoseInBodyFrame(mutable_context):\n",
    "        print(geoid)"
   ]
  },
  {
   "cell_type": "code",
   "execution_count": 400,
   "id": "8e9ab23f-fab0-4b03-a4c9-7d318352cda3",
   "metadata": {},
   "outputs": [
    {
     "data": {
      "text/plain": [
       "RigidTransform(\n",
       "  R=RotationMatrix([\n",
       "    [1.0, 0.0, 0.0],\n",
       "    [0.0, 1.0, 0.0],\n",
       "    [-0.0, 0.0, 1.0],\n",
       "  ]),\n",
       "  p=[0.0, -0.171, 0.0],\n",
       ")"
      ]
     },
     "execution_count": 400,
     "metadata": {},
     "output_type": "execute_result"
    }
   ],
   "source": [
    "inspector.GetPoseInFrame(geoIds[28])\n"
   ]
  },
  {
   "cell_type": "code",
   "execution_count": 371,
   "id": "85ac4048-78c4-4406-bda8-a83d5ba4dbdb",
   "metadata": {},
   "outputs": [
    {
     "data": {
      "text/plain": [
       "RigidTransform(\n",
       "  R=RotationMatrix([\n",
       "    [0.7071067811868645, 0.7071067811862305, 0.0],\n",
       "    [0.7071067811862305, -0.7071067811868645, -9.793177720293495e-12],\n",
       "    [-6.92482237538144e-12, 6.924822375387649e-12, -1.0],\n",
       "  ]),\n",
       "  p=[0.088, -0.4000000000012869, 0.8675999999999999],\n",
       ")"
      ]
     },
     "execution_count": 371,
     "metadata": {},
     "output_type": "execute_result"
    }
   ],
   "source": [
    "rightfinger_frame = plant.GetFrameByName(\"panda_rightfinger\")\n",
    "rightfinger_frame.CalcPoseInWorld(mutable_context)"
   ]
  },
  {
   "cell_type": "code",
   "execution_count": null,
   "id": "769d35ea-08f7-4af7-93da-b82acc18f084",
   "metadata": {},
   "outputs": [],
   "source": [
    "# get spatial velocity of the point p in {link7}\n",
    "V_rf_box_w = rightfinger_frame.CalcSpatialVelocity(mutable_context, box_frame, plant.world_frame())\n",
    "\n",
    "# get witness point in {w}\n",
    "p_link7_rf_W = plant.CalcRelativeTransform(mutable_context, plant.world_frame(), link7_frame) @ p_link7_rf;\n",
    "print(p_link7_rf_W)"
   ]
  },
  {
   "cell_type": "code",
   "execution_count": 329,
   "id": "dc6a6787-ba19-4348-a8a1-453140c6d8f8",
   "metadata": {},
   "outputs": [
    {
     "data": {
      "text/plain": [
       "pydrake.multibody.tree.FrameIndex"
      ]
     },
     "execution_count": 329,
     "metadata": {},
     "output_type": "execute_result"
    }
   ],
   "source": [
    "type(rightfinger_frame.index())"
   ]
  },
  {
   "cell_type": "code",
   "execution_count": 320,
   "id": "410f0b84-138a-4f81-81c5-f0390e37163d",
   "metadata": {},
   "outputs": [
    {
     "data": {
      "text/plain": [
       "['CalcAngularVelocity',\n",
       " 'CalcOffsetPoseInBody',\n",
       " 'CalcOffsetRotationMatrixInBody',\n",
       " 'CalcPose',\n",
       " 'CalcPoseInBodyFrame',\n",
       " 'CalcPoseInWorld',\n",
       " 'CalcRelativeSpatialAcceleration',\n",
       " 'CalcRelativeSpatialAccelerationInWorld',\n",
       " 'CalcRelativeSpatialVelocity',\n",
       " 'CalcRelativeSpatialVelocityInWorld',\n",
       " 'CalcRotationMatrix',\n",
       " 'CalcRotationMatrixInBodyFrame',\n",
       " 'CalcRotationMatrixInWorld',\n",
       " 'CalcSpatialAcceleration',\n",
       " 'CalcSpatialAccelerationInWorld',\n",
       " 'CalcSpatialVelocity',\n",
       " 'CalcSpatialVelocityInWorld',\n",
       " 'EvalAngularVelocityInWorld',\n",
       " 'GetFixedOffsetPoseInBody',\n",
       " 'GetFixedPoseInBodyFrame',\n",
       " 'GetFixedRotationMatrixInBody',\n",
       " 'GetFixedRotationMatrixInBodyFrame',\n",
       " 'GetParentPlant',\n",
       " '__class__',\n",
       " '__del__',\n",
       " '__delattr__',\n",
       " '__dir__',\n",
       " '__doc__',\n",
       " '__eq__',\n",
       " '__format__',\n",
       " '__ge__',\n",
       " '__getattribute__',\n",
       " '__getstate__',\n",
       " '__gt__',\n",
       " '__hash__',\n",
       " '__init__',\n",
       " '__init_subclass__',\n",
       " '__le__',\n",
       " '__lt__',\n",
       " '__module__',\n",
       " '__ne__',\n",
       " '__new__',\n",
       " '__reduce__',\n",
       " '__reduce_ex__',\n",
       " '__repr__',\n",
       " '__setattr__',\n",
       " '__sizeof__',\n",
       " '__str__',\n",
       " '__subclasshook__',\n",
       " '_pybind11_del_orig',\n",
       " 'body',\n",
       " 'index',\n",
       " 'is_body_frame',\n",
       " 'is_world_frame',\n",
       " 'model_instance',\n",
       " 'name',\n",
       " 'scoped_name']"
      ]
     },
     "execution_count": 320,
     "metadata": {},
     "output_type": "execute_result"
    }
   ],
   "source": [
    "dir(rightfinger_frame)"
   ]
  },
  {
   "cell_type": "code",
   "execution_count": 340,
   "id": "95f4aab8-688b-4068-8536-bda800f72ee3",
   "metadata": {},
   "outputs": [
    {
     "data": {
      "text/plain": [
       "['__class__',\n",
       " '__del__',\n",
       " '__delattr__',\n",
       " '__dir__',\n",
       " '__doc__',\n",
       " '__eq__',\n",
       " '__format__',\n",
       " '__ge__',\n",
       " '__getattribute__',\n",
       " '__getstate__',\n",
       " '__gt__',\n",
       " '__hash__',\n",
       " '__index__',\n",
       " '__init__',\n",
       " '__init_subclass__',\n",
       " '__int__',\n",
       " '__le__',\n",
       " '__lt__',\n",
       " '__module__',\n",
       " '__ne__',\n",
       " '__new__',\n",
       " '__reduce__',\n",
       " '__reduce_ex__',\n",
       " '__repr__',\n",
       " '__setattr__',\n",
       " '__sizeof__',\n",
       " '__str__',\n",
       " '__subclasshook__',\n",
       " '_pybind11_del_orig',\n",
       " 'is_valid']"
      ]
     },
     "execution_count": 340,
     "metadata": {},
     "output_type": "execute_result"
    }
   ],
   "source": [
    "dir(box_modelInstance)"
   ]
  },
  {
   "cell_type": "code",
   "execution_count": null,
   "id": "61d96b94-965d-4d9a-8220-94d217282f4c",
   "metadata": {},
   "outputs": [],
   "source": []
  }
 ],
 "metadata": {
  "kernelspec": {
   "display_name": "Python 3 (ipykernel)",
   "language": "python",
   "name": "python3"
  },
  "language_info": {
   "codemirror_mode": {
    "name": "ipython",
    "version": 3
   },
   "file_extension": ".py",
   "mimetype": "text/x-python",
   "name": "python",
   "nbconvert_exporter": "python",
   "pygments_lexer": "ipython3",
   "version": "3.11.6"
  }
 },
 "nbformat": 4,
 "nbformat_minor": 5
}
