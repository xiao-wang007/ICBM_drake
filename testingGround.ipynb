{
 "cells": [
  {
   "cell_type": "code",
   "execution_count": 61,
   "id": "6d5992d5-2a0e-42dd-9a8a-7e92dafc429d",
   "metadata": {},
   "outputs": [],
   "source": [
    "from pydrake.all import (\n",
    "    AddMultibodyPlantSceneGraph, DiagramBuilder, \n",
    "    FindResourceOrThrow, GenerateHtml, InverseDynamicsController, \n",
    "    MultibodyPlant, Parser, Simulator)\n",
    "from pydrake.multibody.jupyter_widgets import MakeJointSlidersThatPublishOnCallback\n",
    "import pydrake\n",
    "from pydrake import geometry\n",
    "from pydrake.math import RigidTransform, RollPitchYaw, RotationMatrix \n",
    "from pydrake.solvers import MathematicalProgram, Solve\n",
    "from pydrake.systems.jupyter_widgets import PoseSliders, WidgetSystem\n",
    "from ipywidgets import ToggleButton, ToggleButtons\n",
    "from functools import partial\n",
    "from pydrake.all import (\n",
    "    JointIndex, PiecewisePolynomial, JacobianWrtVariable,\n",
    "    eq, ge,  AutoDiffXd, SnoptSolver, IpoptSolver,  \n",
    "    AddUnitQuaternionConstraintOnPlant, PositionConstraint, OrientationConstraint\n",
    "    )\n",
    "import numpy as np"
   ]
  },
  {
   "cell_type": "code",
   "execution_count": 73,
   "id": "413d46aa-3b52-49a0-b9b7-4c8e0bccd33c",
   "metadata": {},
   "outputs": [
    {
     "data": {
      "text/plain": [
       "(4,)"
      ]
     },
     "execution_count": 73,
     "metadata": {},
     "output_type": "execute_result"
    }
   ],
   "source": [
    "prog = MathematicalProgram()\n",
    "var1 = prog.NewContinuousVariables(3, 10, \"q\")\n",
    "var2 = prog.NewContinuousVariables(4, 10, \"v\")\n",
    "var3 = prog.NewContinuousVariables(4, 1, \"var3\")\n",
    "var4 = prog.NewContinuousVariables(4, \"var4\")\n",
    "var4.shape"
   ]
  },
  {
   "cell_type": "code",
   "execution_count": 63,
   "id": "5c7d9d01-66ee-43e0-b116-3b48a76e36ab",
   "metadata": {},
   "outputs": [],
   "source": [
    "combined = np.vstack((var1, var2))"
   ]
  },
  {
   "cell_type": "code",
   "execution_count": 83,
   "id": "80cad267-98bc-4039-abaa-2054a5e80b1e",
   "metadata": {},
   "outputs": [
    {
     "data": {
      "text/plain": [
       "False"
      ]
     },
     "execution_count": 83,
     "metadata": {},
     "output_type": "execute_result"
    }
   ],
   "source": [
    "combined.shape\n",
    "isinstance(var1[0,0], AutoDiffXd)"
   ]
  },
  {
   "cell_type": "code",
   "execution_count": 66,
   "id": "e5973310-4de6-4ce1-81be-8658d9ac84c5",
   "metadata": {},
   "outputs": [
    {
     "data": {
      "text/plain": [
       "['Add2NormSquaredCost',\n",
       " 'AddBoundingBoxConstraint',\n",
       " 'AddConstraint',\n",
       " 'AddCost',\n",
       " 'AddDecisionVariables',\n",
       " 'AddEqualityConstraintBetweenPolynomials',\n",
       " 'AddExponentialConeConstraint',\n",
       " 'AddIndeterminate',\n",
       " 'AddIndeterminates',\n",
       " 'AddL2NormCost',\n",
       " 'AddL2NormCostUsingConicConstraint',\n",
       " 'AddLinearComplementarityConstraint',\n",
       " 'AddLinearConstraint',\n",
       " 'AddLinearCost',\n",
       " 'AddLinearEqualityConstraint',\n",
       " 'AddLinearMatrixInequalityConstraint',\n",
       " 'AddLorentzConeConstraint',\n",
       " 'AddMaximizeGeometricMeanCost',\n",
       " 'AddMaximizeLogDeterminantCost',\n",
       " 'AddPositiveDiagonallyDominantMatrixConstraint',\n",
       " 'AddPositiveSemidefiniteConstraint',\n",
       " 'AddQuadraticAsRotatedLorentzConeConstraint',\n",
       " 'AddQuadraticConstraint',\n",
       " 'AddQuadraticCost',\n",
       " 'AddQuadraticErrorCost',\n",
       " 'AddRotatedLorentzConeConstraint',\n",
       " 'AddScaledDiagonallyDominantMatrixConstraint',\n",
       " 'AddSosConstraint',\n",
       " 'AddVisualizationCallback',\n",
       " 'CheckSatisfied',\n",
       " 'CheckSatisfiedAtInitialGuess',\n",
       " 'ClearVariableScaling',\n",
       " 'Clone',\n",
       " 'EvalBinding',\n",
       " 'EvalBindingAtInitialGuess',\n",
       " 'EvalBindingVectorized',\n",
       " 'EvalBindings',\n",
       " 'FindDecisionVariableIndex',\n",
       " 'FindDecisionVariableIndices',\n",
       " 'FindIndeterminateIndex',\n",
       " 'GetAllConstraints',\n",
       " 'GetAllCosts',\n",
       " 'GetBindingVariableValues',\n",
       " 'GetInitialGuess',\n",
       " 'GetLinearConstraints',\n",
       " 'GetSolverOptions',\n",
       " 'GetVariableScaling',\n",
       " 'MakePolynomial',\n",
       " 'NewBinaryVariables',\n",
       " 'NewContinuousVariables',\n",
       " 'NewEvenDegreeDsosPolynomial',\n",
       " 'NewEvenDegreeFreePolynomial',\n",
       " 'NewEvenDegreeNonnegativePolynomial',\n",
       " 'NewEvenDegreeSdsosPolynomial',\n",
       " 'NewEvenDegreeSosPolynomial',\n",
       " 'NewFreePolynomial',\n",
       " 'NewIndeterminates',\n",
       " 'NewOddDegreeFreePolynomial',\n",
       " 'NewSosPolynomial',\n",
       " 'NewSymmetricContinuousVariables',\n",
       " 'NonnegativePolynomial',\n",
       " 'RemoveConstraint',\n",
       " 'RemoveCost',\n",
       " 'Reparse',\n",
       " 'SetDecisionVariableValueInVector',\n",
       " 'SetInitialGuess',\n",
       " 'SetInitialGuessForAllVariables',\n",
       " 'SetSolverOption',\n",
       " 'SetSolverOptions',\n",
       " 'SetVariableScaling',\n",
       " 'ToLatex',\n",
       " '__class__',\n",
       " '__copy__',\n",
       " '__deepcopy__',\n",
       " '__del__',\n",
       " '__delattr__',\n",
       " '__dir__',\n",
       " '__doc__',\n",
       " '__eq__',\n",
       " '__format__',\n",
       " '__ge__',\n",
       " '__getattribute__',\n",
       " '__getstate__',\n",
       " '__gt__',\n",
       " '__hash__',\n",
       " '__init__',\n",
       " '__init_subclass__',\n",
       " '__le__',\n",
       " '__lt__',\n",
       " '__module__',\n",
       " '__ne__',\n",
       " '__new__',\n",
       " '__reduce__',\n",
       " '__reduce_ex__',\n",
       " '__repr__',\n",
       " '__setattr__',\n",
       " '__sizeof__',\n",
       " '__str__',\n",
       " '__subclasshook__',\n",
       " '_pybind11_del_orig',\n",
       " 'bounding_box_constraints',\n",
       " 'decision_variable',\n",
       " 'decision_variable_index',\n",
       " 'decision_variables',\n",
       " 'exponential_cone_constraints',\n",
       " 'generic_constraints',\n",
       " 'generic_costs',\n",
       " 'indeterminate',\n",
       " 'indeterminates',\n",
       " 'indeterminates_index',\n",
       " 'initial_guess',\n",
       " 'l2norm_costs',\n",
       " 'linear_complementarity_constraints',\n",
       " 'linear_constraints',\n",
       " 'linear_costs',\n",
       " 'linear_equality_constraints',\n",
       " 'linear_matrix_inequality_constraints',\n",
       " 'lorentz_cone_constraints',\n",
       " 'num_indeterminates',\n",
       " 'num_vars',\n",
       " 'positive_semidefinite_constraints',\n",
       " 'quadratic_constraints',\n",
       " 'quadratic_costs',\n",
       " 'rotated_lorentz_cone_constraints']"
      ]
     },
     "execution_count": 66,
     "metadata": {},
     "output_type": "execute_result"
    }
   ],
   "source": [
    "dir(prog)"
   ]
  },
  {
   "cell_type": "markdown",
   "id": "c17895dc-2477-414d-aa5e-7c876e9d8478",
   "metadata": {},
   "source": [
    "# Testing decVar indexing"
   ]
  },
  {
   "cell_type": "code",
   "execution_count": 1,
   "id": "9fc2c589-0180-4f6f-bc42-2679fe460f84",
   "metadata": {},
   "outputs": [],
   "source": [
    "import numpy as np"
   ]
  },
  {
   "cell_type": "code",
   "execution_count": 14,
   "id": "9aeadffe-3a3b-4dc5-acc0-80ec883ac6ed",
   "metadata": {},
   "outputs": [],
   "source": [
    "row = np.linspace(1, 10, 10)"
   ]
  },
  {
   "cell_type": "code",
   "execution_count": 16,
   "id": "b083981b-f64b-4d23-8353-0cefbdec47b1",
   "metadata": {},
   "outputs": [
    {
     "data": {
      "text/plain": [
       "array([ 1.,  2.,  3.,  4.,  5.,  6.,  7.,  8.,  9., 10.])"
      ]
     },
     "execution_count": 16,
     "metadata": {},
     "output_type": "execute_result"
    }
   ],
   "source": [
    "row"
   ]
  },
  {
   "cell_type": "code",
   "execution_count": 25,
   "id": "161bd375-0d49-42a9-8e11-790c9c0c542b",
   "metadata": {},
   "outputs": [],
   "source": [
    "test = np.repeat([row], 7, axis=0)"
   ]
  },
  {
   "cell_type": "code",
   "execution_count": 26,
   "id": "c3a2b807-ab3b-468a-935b-d5ffc7b3768b",
   "metadata": {},
   "outputs": [
    {
     "data": {
      "text/plain": [
       "array([[ 1.,  2.,  3.,  4.,  5.,  6.,  7.,  8.,  9., 10.],\n",
       "       [ 1.,  2.,  3.,  4.,  5.,  6.,  7.,  8.,  9., 10.],\n",
       "       [ 1.,  2.,  3.,  4.,  5.,  6.,  7.,  8.,  9., 10.],\n",
       "       [ 1.,  2.,  3.,  4.,  5.,  6.,  7.,  8.,  9., 10.],\n",
       "       [ 1.,  2.,  3.,  4.,  5.,  6.,  7.,  8.,  9., 10.],\n",
       "       [ 1.,  2.,  3.,  4.,  5.,  6.,  7.,  8.,  9., 10.],\n",
       "       [ 1.,  2.,  3.,  4.,  5.,  6.,  7.,  8.,  9., 10.]])"
      ]
     },
     "execution_count": 26,
     "metadata": {},
     "output_type": "execute_result"
    }
   ],
   "source": [
    "test"
   ]
  },
  {
   "cell_type": "code",
   "execution_count": 58,
   "id": "541623ee-8830-4027-a77e-5e1083b4d2e8",
   "metadata": {},
   "outputs": [
    {
     "data": {
      "text/plain": [
       "7300"
      ]
     },
     "execution_count": 58,
     "metadata": {},
     "output_type": "execute_result"
    }
   ],
   "source": [
    "nTime = 100\n",
    "ndecVar = (13 + 13 + 7 + 5*(6+1+1)) * nTime\n",
    "ndecVar"
   ]
  },
  {
   "cell_type": "code",
   "execution_count": 59,
   "id": "3d5d67d5-b515-430d-b816-475b29ecdf9e",
   "metadata": {},
   "outputs": [],
   "source": [
    "index = np.array([i for i in range(ndecVar)])"
   ]
  },
  {
   "cell_type": "code",
   "execution_count": 60,
   "id": "5327b0ed-aac6-4547-8a4d-97ab34297d55",
   "metadata": {},
   "outputs": [
    {
     "data": {
      "text/plain": [
       "array([   0,    1,    2, ..., 7297, 7298, 7299])"
      ]
     },
     "execution_count": 60,
     "metadata": {},
     "output_type": "execute_result"
    }
   ],
   "source": [
    "index"
   ]
  },
  {
   "cell_type": "code",
   "execution_count": 80,
   "id": "095d4ab7-2d79-49a8-99ce-14095616ac79",
   "metadata": {},
   "outputs": [
    {
     "data": {
      "text/plain": [
       "array([ 8.,  9., 10.])"
      ]
     },
     "execution_count": 80,
     "metadata": {},
     "output_type": "execute_result"
    }
   ],
   "source": [
    "row[-3:]"
   ]
  },
  {
   "cell_type": "code",
   "execution_count": 82,
   "id": "18c45672-166a-48f6-8ca8-cb2bac363ed5",
   "metadata": {},
   "outputs": [
    {
     "data": {
      "text/plain": [
       "array([[ 1.,  3.,  5.,  7.,  9.],\n",
       "       [ 2.,  4.,  6.,  8., 10.]])"
      ]
     },
     "execution_count": 82,
     "metadata": {},
     "output_type": "execute_result"
    }
   ],
   "source": [
    "row.reshape((2,5), order='F')"
   ]
  },
  {
   "cell_type": "code",
   "execution_count": 84,
   "id": "e256ee9b-ae86-4dc5-81ae-20135ad2c9fd",
   "metadata": {},
   "outputs": [
    {
     "data": {
      "text/plain": [
       "array([ 1.,  2.,  3.,  4.,  5.,  6.,  7.,  8.,  9., 10.])"
      ]
     },
     "execution_count": 84,
     "metadata": {},
     "output_type": "execute_result"
    }
   ],
   "source": [
    "row"
   ]
  },
  {
   "cell_type": "code",
   "execution_count": 85,
   "id": "3b39914f-ba5a-49fb-b1b6-603082f82af1",
   "metadata": {},
   "outputs": [
    {
     "data": {
      "text/plain": [
       "array([1., 2., 3.])"
      ]
     },
     "execution_count": 85,
     "metadata": {},
     "output_type": "execute_result"
    }
   ],
   "source": [
    "row[:3]"
   ]
  },
  {
   "cell_type": "code",
   "execution_count": 87,
   "id": "6f1e8265-f4a0-477a-bbd1-36d830b14186",
   "metadata": {},
   "outputs": [
    {
     "data": {
      "text/plain": [
       "array([4., 5., 6., 7.])"
      ]
     },
     "execution_count": 87,
     "metadata": {},
     "output_type": "execute_result"
    }
   ],
   "source": [
    "row[3:7]"
   ]
  },
  {
   "cell_type": "code",
   "execution_count": 89,
   "id": "2d4b78e1-4faf-4fd6-aaa7-70e4c5d4c66e",
   "metadata": {},
   "outputs": [
    {
     "data": {
      "text/plain": [
       "[array([1., 2., 3.]), array([4., 5., 6.]), array([ 7.,  8.,  9., 10.])]"
      ]
     },
     "execution_count": 89,
     "metadata": {},
     "output_type": "execute_result"
    }
   ],
   "source": [
    "np.split(row, [3,6])"
   ]
  },
  {
   "cell_type": "code",
   "execution_count": 90,
   "id": "5f9542cf-6d98-4fed-8c42-0d45d3f92d0f",
   "metadata": {},
   "outputs": [],
   "source": [
    "from functools import partial\n",
    "\n",
    "poke1 = 5\n",
    "\n",
    "# A normal function\n",
    "def f(a, b, c, x):\n",
    "    return 1000*a + 100*b + 10*c + x\n",
    " \n",
    "# A partial function that calls f with\n",
    "# a as 3, b as 1 and c as 4.\n",
    "g = partial(f, poke1, 1, 4)"
   ]
  },
  {
   "cell_type": "code",
   "execution_count": 92,
   "id": "d295657c-4212-44a3-9b58-df8b6c027672",
   "metadata": {},
   "outputs": [
    {
     "data": {
      "text/plain": [
       "5145"
      ]
     },
     "execution_count": 92,
     "metadata": {},
     "output_type": "execute_result"
    }
   ],
   "source": [
    "g(5)"
   ]
  },
  {
   "cell_type": "code",
   "execution_count": 94,
   "id": "50fff7f6-5f09-4fdc-8608-5c008e68979d",
   "metadata": {},
   "outputs": [
    {
     "name": "stdout",
     "output_type": "stream",
     "text": [
      "0 1.0 1.0\n",
      "1 2.0 2.0\n",
      "2 3.0 3.0\n",
      "3 4.0 4.0\n",
      "4 5.0 5.0\n",
      "5 6.0 6.0\n",
      "6 7.0 7.0\n",
      "7 8.0 8.0\n",
      "8 9.0 9.0\n",
      "9 10.0 10.0\n"
     ]
    }
   ],
   "source": [
    "row = np.linspace(1, 10, 10)\n",
    "col = np.linspace(1, 10, 10)\n",
    "\n",
    "for i, (r, c) in enumerate(zip(row, col)):\n",
    "    print(i, r, c)"
   ]
  },
  {
   "cell_type": "code",
   "execution_count": 95,
   "id": "92df3292-cdec-4acb-a7a3-78cc4d2a5f98",
   "metadata": {},
   "outputs": [
    {
     "data": {
      "text/plain": [
       "array([ 5.,  6.,  7.,  8.,  9., 10.])"
      ]
     },
     "execution_count": 95,
     "metadata": {},
     "output_type": "execute_result"
    }
   ],
   "source": [
    "row[4:]"
   ]
  },
  {
   "cell_type": "code",
   "execution_count": 96,
   "id": "72ef9e6d-2a1b-42e7-b9e5-db19e6463493",
   "metadata": {},
   "outputs": [
    {
     "data": {
      "text/plain": [
       "array([ 1.,  2.,  3.,  4.,  5.,  6.,  7.,  8.,  9., 10.])"
      ]
     },
     "execution_count": 96,
     "metadata": {},
     "output_type": "execute_result"
    }
   ],
   "source": [
    "row"
   ]
  },
  {
   "cell_type": "code",
   "execution_count": 98,
   "id": "306ae32c-9b1d-4d84-80f1-ecb8c3b5222a",
   "metadata": {},
   "outputs": [
    {
     "data": {
      "text/plain": [
       "array([ 8.,  9., 10.])"
      ]
     },
     "execution_count": 98,
     "metadata": {},
     "output_type": "execute_result"
    }
   ],
   "source": [
    "row[4:][3:]"
   ]
  },
  {
   "cell_type": "code",
   "execution_count": null,
   "id": "a33108b3-77a7-40b3-bf96-2b2adcca57a3",
   "metadata": {},
   "outputs": [],
   "source": []
  }
 ],
 "metadata": {
  "kernelspec": {
   "display_name": "Python 3 (ipykernel)",
   "language": "python",
   "name": "python3"
  },
  "language_info": {
   "codemirror_mode": {
    "name": "ipython",
    "version": 3
   },
   "file_extension": ".py",
   "mimetype": "text/x-python",
   "name": "python",
   "nbconvert_exporter": "python",
   "pygments_lexer": "ipython3",
   "version": "3.11.6"
  }
 },
 "nbformat": 4,
 "nbformat_minor": 5
}
