{
 "cells": [
  {
   "cell_type": "code",
   "execution_count": 3,
   "id": "0364a33f-d57a-4b14-9ebc-7e942f5be2e6",
   "metadata": {},
   "outputs": [
    {
     "name": "stdout",
     "output_type": "stream",
     "text": [
      "Check!\n"
     ]
    }
   ],
   "source": [
    "from pydrake.all import (\n",
    "    AddMultibodyPlantSceneGraph, DiagramBuilder, \n",
    "    FindResourceOrThrow, GenerateHtml, InverseDynamicsController, \n",
    "    MultibodyPlant, Parser, Simulator)\n",
    "from pydrake.multibody.jupyter_widgets import MakeJointSlidersThatPublishOnCallback\n",
    "import pydrake\n",
    "from pydrake import geometry\n",
    "from pydrake.math import RigidTransform, RollPitchYaw, RotationMatrix \n",
    "from pydrake.solvers import MathematicalProgram, Solve\n",
    "from pydrake.systems.jupyter_widgets import PoseSliders, WidgetSystem\n",
    "from ipywidgets import ToggleButton, ToggleButtons\n",
    "from functools import partial\n",
    "from pydrake.all import (\n",
    "    JointIndex, PiecewisePolynomial, JacobianWrtVariable,\n",
    "    eq, ge,  AutoDiffXd, SnoptSolver, IpoptSolver,  \n",
    "    AddUnitQuaternionConstraintOnPlant, PositionConstraint, OrientationConstraint\n",
    "    )\n",
    "import numpy as np\n",
    "import os\n",
    "print(\"Check!\")"
   ]
  },
  {
   "cell_type": "code",
   "execution_count": 4,
   "id": "900e1de4-ef51-41b9-aa1f-9f217e3cbee3",
   "metadata": {},
   "outputs": [],
   "source": [
    "h = 1e-3\n",
    "builder = DiagramBuilder()\n",
    "plant, scene_graph = AddMultibodyPlantSceneGraph(builder, time_step=h)\n",
    "parser = Parser(plant)\n",
    "dir1 = \"/Users/xiao/0_codes/ICBM_drake/models/objects\"\n",
    "dir2 = \"/Users/xiao/0_codes/ICBM_drake/models/ycb/sdf/\"\n",
    "table_file = os.path.join(dir1, \"table_top.sdf\")\n",
    "panda_file = \"/Users/xiao/0_codes/ICBM_drake/models/franka_description/urdf/panda_arm_hand.urdf\"\n",
    "box_file = os.path.join(dir2, \"003_cracker_box.sdf\")\n",
    "\n",
    "table_modelInstance = parser.AddModels(table_file)[0]  # this return pydrake.multibody.tree.ModelInstanceIndex\n",
    "panda_modelInstance = parser.AddModels(panda_file)[0]\n",
    "box_modelInstance = parser.AddModels(box_file)[0]\n",
    "# get table-top frame in the world, here the dummy is for getting familiar with Drake\n",
    "table_top_frame = plant.GetFrameByName(\"table_top_center\")\n",
    "robot_base = plant.GetFrameByName(\"panda_link0\")\n",
    "\n",
    "# move the table for a bit\n",
    "X_W_table = RigidTransform(\n",
    "  R=RotationMatrix([\n",
    "    [1.0, 0.0, 0.0],\n",
    "    [0.0, 1.0, 0.0],\n",
    "    [0.0, 0.0, 1.0],]),\n",
    "  p=[0.0, -0.4, 0.0]\n",
    ") # or similar: X_W_table = RigidTransform(RotationMatrix.Identity(), [0., -0.4, 0.])\n",
    "\n",
    "plant.WeldFrames(plant.world_frame(), table_top_frame, X_W_table) # 2nd arg relative to 1st arg transformed by X_W_table \n",
    "plant.WeldFrames(table_top_frame, robot_base, RigidTransform(RotationMatrix.Identity(), [0., -0.4, 0.]))\n",
    "\n",
    "plant.Finalize()\n",
    "plant.set_name(\"table_with_box\")\n",
    "\n",
    "# now build the diagram\n",
    "diagram = builder.Build()"
   ]
  },
  {
   "cell_type": "code",
   "execution_count": 5,
   "id": "00dce547-a3e0-4128-acfc-fda8f300324f",
   "metadata": {},
   "outputs": [],
   "source": [
    "context = diagram.CreateDefaultContext()\n",
    "mutable_context = plant.GetMyContextFromRoot(context)"
   ]
  },
  {
   "cell_type": "code",
   "execution_count": 32,
   "id": "9fb9cdc2-9a4b-44d6-bff0-cdd8dbb89776",
   "metadata": {},
   "outputs": [
    {
     "name": "stdout",
     "output_type": "stream",
     "text": [
      "V_AB_W shape is SpatialVelocity(\n",
      "  w=[0.0, 0.0, 0.0],\n",
      "  v=[0.0, 0.0, 0.0],\n",
      ")\n",
      "R_w_B shape is RotationMatrix([\n",
      "  [1.0, 0.0, 0.0],\n",
      "  [0.0, 1.0, 0.0],\n",
      "  [0.0, 0.0, 1.0],\n",
      "])\n",
      "p_BCb_w shape is [1. 2. 3.]\n",
      "v_ACb_W shape is [0. 0. 0.]\n",
      "v_ACb_W type is <class 'numpy.ndarray'>\n"
     ]
    }
   ],
   "source": [
    "def ComputeContactTangentialVelocity(ad_plant, mutable_context, bodyA, bodyB, ptB, nhat_BA_W):\n",
    "    frameA = ad_plant.GetFrameByName(bodyA)\n",
    "    frameB = ad_plant.GetFrameByName(bodyB)\n",
    "    V_AB_W = frameB.CalcSpatialVelocity(mutable_context, \\\n",
    "                                                frameA, \\\n",
    "                                                ad_plant.world_frame())\n",
    "    print(f\"V_AB_W shape is {np.array(V_AB_W)}\")\n",
    "    R_w_B = ad_plant.CalcRelativeTransform(mutable_context, \\\n",
    "                                                ad_plant.world_frame(), \\\n",
    "                                                frameB).rotation() # DCM from body B pose in {W}\n",
    "    \n",
    "    print(f\"R_w_B shape is {np.array(R_w_B)}\")\n",
    "    p_BCb_W = R_w_B @ ptB # the contact points in {B} expressed in {W}\n",
    "    print(f\"p_BCb_w shape is {np.array(p_BCb_W)}\")\n",
    "    v_ACb_W = V_AB_W.Shift(p_BCb_W).translational() # compute the contact point's velocity in {A}\n",
    "    print(f\"v_ACb_W shape is {np.array(v_ACb_W)}\")\n",
    "    print(f\"v_ACb_W type is {type(v_ACb_W)}\")\n",
    "    v_tang_ACb_W = v_ACb_W - np.dot(v_ACb_W, nhat_BA_W) * nhat_BA_W\n",
    "    return v_tang_ACb_W\n",
    "\n",
    "v = ComputeContactTangentialVelocity(plant, mutable_context, \\\n",
    "                                     \"panda_link8\", \"base_link_cracker\", \\\n",
    "                                     np.array([1.,2.,3.]), np.array([1.,2.,3.]))"
   ]
  },
  {
   "cell_type": "code",
   "execution_count": 31,
   "id": "6d16ec18-ff33-4498-83d0-03f0bb433dc4",
   "metadata": {},
   "outputs": [
    {
     "data": {
      "text/plain": [
       "array([6])"
      ]
     },
     "execution_count": 31,
     "metadata": {},
     "output_type": "execute_result"
    }
   ],
   "source": [
    "a = np.array([1,2,3])\n",
    "b = np.array([[1],[1],[1]])\n",
    "np.dot(a, b)"
   ]
  },
  {
   "cell_type": "code",
   "execution_count": 33,
   "id": "2be3f125-0707-4ae7-84e3-5b7029265191",
   "metadata": {},
   "outputs": [
    {
     "data": {
      "text/plain": [
       "array([0., 0., 0.])"
      ]
     },
     "execution_count": 33,
     "metadata": {},
     "output_type": "execute_result"
    }
   ],
   "source": [
    "v"
   ]
  },
  {
   "cell_type": "code",
   "execution_count": 34,
   "id": "6f01372d-468a-4633-b53d-008cc89298a0",
   "metadata": {},
   "outputs": [],
   "source": [
    "c = [[[1,2,3],[4,5,6]],[[7,8,9],[10,11,12]],[[13,14,15],[16,17,18]]]"
   ]
  },
  {
   "cell_type": "code",
   "execution_count": 35,
   "id": "9abd036f-2d7d-4e6d-8cf6-97ad895ee178",
   "metadata": {},
   "outputs": [
    {
     "data": {
      "text/plain": [
       "[[[1, 2, 3], [4, 5, 6]],\n",
       " [[7, 8, 9], [10, 11, 12]],\n",
       " [[13, 14, 15], [16, 17, 18]]]"
      ]
     },
     "execution_count": 35,
     "metadata": {},
     "output_type": "execute_result"
    }
   ],
   "source": [
    "c"
   ]
  },
  {
   "cell_type": "code",
   "execution_count": 36,
   "id": "0f6cd010-5494-4436-8919-aa94c5bb9234",
   "metadata": {},
   "outputs": [],
   "source": [
    "c = np.array(c)"
   ]
  },
  {
   "cell_type": "code",
   "execution_count": 38,
   "id": "8d9dbdc0-6c9d-4066-9bb4-d49ebe316914",
   "metadata": {},
   "outputs": [
    {
     "data": {
      "text/plain": [
       "(3, 2, 3)"
      ]
     },
     "execution_count": 38,
     "metadata": {},
     "output_type": "execute_result"
    }
   ],
   "source": [
    "c.shape"
   ]
  },
  {
   "cell_type": "code",
   "execution_count": 39,
   "id": "fd8b282a-fdf1-4d84-b4b0-9bab115a8d31",
   "metadata": {},
   "outputs": [
    {
     "data": {
      "text/plain": [
       "array([[[ 1,  2,  3],\n",
       "        [ 4,  5,  6]],\n",
       "\n",
       "       [[ 7,  8,  9],\n",
       "        [10, 11, 12]],\n",
       "\n",
       "       [[13, 14, 15],\n",
       "        [16, 17, 18]]])"
      ]
     },
     "execution_count": 39,
     "metadata": {},
     "output_type": "execute_result"
    }
   ],
   "source": [
    "c"
   ]
  },
  {
   "cell_type": "code",
   "execution_count": 40,
   "id": "a71097fb-041c-4c31-a893-e0116002617b",
   "metadata": {},
   "outputs": [],
   "source": [
    "vars = 3"
   ]
  },
  {
   "cell_type": "code",
   "execution_count": 41,
   "id": "c459fad3-f05f-4f02-acc0-67e3222182ff",
   "metadata": {},
   "outputs": [
    {
     "data": {
      "text/plain": [
       "3"
      ]
     },
     "execution_count": 41,
     "metadata": {},
     "output_type": "execute_result"
    }
   ],
   "source": [
    "vars"
   ]
  },
  {
   "cell_type": "code",
   "execution_count": 43,
   "id": "e6d67d53-66d4-4be8-9a90-8fd45475a9dc",
   "metadata": {},
   "outputs": [],
   "source": [
    "prog = MathematicalProgram()\n",
    "qvars = prog.NewContinuousVariables(5, 2, \"q\")"
   ]
  },
  {
   "cell_type": "code",
   "execution_count": 44,
   "id": "42b2c209-680c-4788-9640-d07884ae6a9f",
   "metadata": {},
   "outputs": [
    {
     "data": {
      "text/plain": [
       "array([[Variable('q(0,0)', Continuous), Variable('q(0,1)', Continuous)],\n",
       "       [Variable('q(1,0)', Continuous), Variable('q(1,1)', Continuous)],\n",
       "       [Variable('q(2,0)', Continuous), Variable('q(2,1)', Continuous)],\n",
       "       [Variable('q(3,0)', Continuous), Variable('q(3,1)', Continuous)],\n",
       "       [Variable('q(4,0)', Continuous), Variable('q(4,1)', Continuous)]],\n",
       "      dtype=object)"
      ]
     },
     "execution_count": 44,
     "metadata": {},
     "output_type": "execute_result"
    }
   ],
   "source": [
    "qvars"
   ]
  },
  {
   "cell_type": "code",
   "execution_count": 45,
   "id": "c38e0b7a-8abf-4677-95e8-4b16d7b55838",
   "metadata": {},
   "outputs": [
    {
     "data": {
      "text/plain": [
       "numpy.ndarray"
      ]
     },
     "execution_count": 45,
     "metadata": {},
     "output_type": "execute_result"
    }
   ],
   "source": [
    "type(qvars)"
   ]
  },
  {
   "cell_type": "code",
   "execution_count": 46,
   "id": "4b5b025c-a4f8-4891-be5f-757f54fb15ad",
   "metadata": {},
   "outputs": [],
   "source": [
    "vvars = prog.NewContinuousVariables(5, 2, \"v\")"
   ]
  },
  {
   "cell_type": "code",
   "execution_count": 47,
   "id": "042295d1-0b6c-4369-a3f5-b168053315cf",
   "metadata": {},
   "outputs": [],
   "source": [
    "a = np.array([1,2,3])\n",
    "b = np.array([1,2,3])"
   ]
  },
  {
   "cell_type": "code",
   "execution_count": 48,
   "id": "00ae7886-e43b-44c2-b535-2ec22f3eae21",
   "metadata": {},
   "outputs": [
    {
     "data": {
      "text/plain": [
       "array([1, 4, 9])"
      ]
     },
     "execution_count": 48,
     "metadata": {},
     "output_type": "execute_result"
    }
   ],
   "source": [
    "a*b"
   ]
  },
  {
   "cell_type": "code",
   "execution_count": 49,
   "id": "76201b66-3430-4f78-b247-69536859a482",
   "metadata": {},
   "outputs": [
    {
     "data": {
      "text/plain": [
       "array([[[ 1,  2,  3],\n",
       "        [ 4,  5,  6]],\n",
       "\n",
       "       [[ 7,  8,  9],\n",
       "        [10, 11, 12]],\n",
       "\n",
       "       [[13, 14, 15],\n",
       "        [16, 17, 18]]])"
      ]
     },
     "execution_count": 49,
     "metadata": {},
     "output_type": "execute_result"
    }
   ],
   "source": [
    "c"
   ]
  },
  {
   "cell_type": "code",
   "execution_count": 52,
   "id": "b3754111-deba-4903-9706-2f77a51a972d",
   "metadata": {},
   "outputs": [],
   "source": [
    "d = c.reshape((c.shape[0]*c.shape[1], c.shape[2]))"
   ]
  },
  {
   "cell_type": "code",
   "execution_count": 53,
   "id": "bb4d9a5b-d44f-4b3f-aaf5-7d3cd0147f1c",
   "metadata": {},
   "outputs": [
    {
     "data": {
      "text/plain": [
       "array([[ 1,  2,  3],\n",
       "       [ 4,  5,  6],\n",
       "       [ 7,  8,  9],\n",
       "       [10, 11, 12],\n",
       "       [13, 14, 15],\n",
       "       [16, 17, 18]])"
      ]
     },
     "execution_count": 53,
     "metadata": {},
     "output_type": "execute_result"
    }
   ],
   "source": [
    "d"
   ]
  },
  {
   "cell_type": "code",
   "execution_count": 54,
   "id": "bfab1254-25bc-4c7b-8ab7-afe9710a3bb9",
   "metadata": {},
   "outputs": [
    {
     "data": {
      "text/plain": [
       "array([1., 2., 3.])"
      ]
     },
     "execution_count": 54,
     "metadata": {},
     "output_type": "execute_result"
    }
   ],
   "source": [
    "np.append([], [1,2,3])"
   ]
  },
  {
   "cell_type": "code",
   "execution_count": 56,
   "id": "3c68b83f-eb35-44bc-a3c9-3373bc2d35af",
   "metadata": {},
   "outputs": [
    {
     "data": {
      "text/plain": [
       "array([1, 2, 3, 1, 2, 3])"
      ]
     },
     "execution_count": 56,
     "metadata": {},
     "output_type": "execute_result"
    }
   ],
   "source": [
    "np.append([1,2,3], [1,2,3], axis=0)"
   ]
  },
  {
   "cell_type": "code",
   "execution_count": null,
   "id": "67478ec4-6215-45c6-a98b-b376dc1376d9",
   "metadata": {},
   "outputs": [],
   "source": []
  }
 ],
 "metadata": {
  "kernelspec": {
   "display_name": "Python 3 (ipykernel)",
   "language": "python",
   "name": "python3"
  },
  "language_info": {
   "codemirror_mode": {
    "name": "ipython",
    "version": 3
   },
   "file_extension": ".py",
   "mimetype": "text/x-python",
   "name": "python",
   "nbconvert_exporter": "python",
   "pygments_lexer": "ipython3",
   "version": "3.11.6"
  }
 },
 "nbformat": 4,
 "nbformat_minor": 5
}
