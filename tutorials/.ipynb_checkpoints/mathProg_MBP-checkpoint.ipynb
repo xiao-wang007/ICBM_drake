{
 "cells": [
  {
   "cell_type": "code",
   "execution_count": 1,
   "id": "b86e63c7-72b6-4468-8bec-2abb1b2a28e7",
   "metadata": {},
   "outputs": [],
   "source": [
    "import numpy as np\n",
    "\n",
    "from pydrake.math import RigidTransform\n",
    "from pydrake.multibody.parsing import Parser\n",
    "from pydrake.systems.analysis import Simulator\n",
    "from pydrake.all import MultibodyPlant\n",
    "\n",
    "from pydrake.solvers import MathematicalProgram, Solve"
   ]
  },
  {
   "cell_type": "code",
   "execution_count": 2,
   "id": "b6cd1f98-8ba2-4229-9369-276660f309cd",
   "metadata": {},
   "outputs": [],
   "source": [
    "plant_f = MultibodyPlant(0.0) # note the h = 0.0 here\n",
    "iiwa_url = (\n",
    "   \"package://drake/manipulation/models/iiwa_description/sdf/\"\n",
    "   \"iiwa14_no_collision.sdf\")\n",
    "(iiwa,) = Parser(plant_f).AddModels(url=iiwa_url)"
   ]
  },
  {
   "cell_type": "code",
   "execution_count": 3,
   "id": "22983607-78db-4231-a529-385e36b42617",
   "metadata": {},
   "outputs": [
    {
     "name": "stdout",
     "output_type": "stream",
     "text": [
      "<class 'pydrake.multibody.tree.ModelInstanceIndex'>\n",
      "ModelInstanceIndex(2)\n"
     ]
    }
   ],
   "source": [
    "print(type(iiwa)); print(iiwa)"
   ]
  },
  {
   "cell_type": "code",
   "execution_count": 4,
   "id": "e51e2192-f1fb-4fb1-a683-ef146495eefb",
   "metadata": {},
   "outputs": [
    {
     "data": {
      "text/plain": [
       "' Note, here only the plant is defined. Not scene graph '"
      ]
     },
     "execution_count": 4,
     "metadata": {},
     "output_type": "execute_result"
    }
   ],
   "source": [
    "# define some frames\n",
    "W = plant_f.world_frame()\n",
    "L0 = plant_f.GetFrameByName(\"iiwa_link_0\", iiwa) # get frames by name in .urdf or .sdf\n",
    "L7 = plant_f.GetFrameByName(\"iiwa_link_7\", iiwa)\n",
    "\n",
    "# set {W} to the based link\n",
    "plant_f.WeldFrames(W, L0)\n",
    "plant_f.Finalize()\n",
    "\"\"\" Note, here only the plant is defined. Not scene graph \"\"\"\n"
   ]
  },
  {
   "cell_type": "code",
   "execution_count": 5,
   "id": "cdf754f0-0600-4bd2-ae59-dccdd9dcf9c3",
   "metadata": {},
   "outputs": [],
   "source": [
    "\"\"\" Now the important bit: the custom evaluator for custom cost and constraints\"\"\"\n",
    "# create the plant context in float\n",
    "context_f = plant_f.CreateDefaultContext() # so default is float\n",
    "\n",
    "# create the context in AutoDiffXd\n",
    "plant_ad = plant_f.ToAutoDiffXd()\n",
    "context_ad = plant_ad.CreateDefaultContext()"
   ]
  },
  {
   "cell_type": "code",
   "execution_count": 6,
   "id": "d54ac76e-0594-4896-af10-768d7fdd1d0b",
   "metadata": {},
   "outputs": [],
   "source": [
    "def resolve_frame(plant, F):\n",
    "    \"\"\"gets a frame from a plant whose scalar type may be different \"\"\"\n",
    "    return plant.GetFrameByName(F.name(), F.model_instance())"
   ]
  },
  {
   "cell_type": "code",
   "execution_count": 7,
   "id": "6ff7cb55-7c53-42d1-b70a-cef6ed64d71f",
   "metadata": {},
   "outputs": [],
   "source": [
    "# define target position\n",
    "p_WT = [0.1, 0.1, 0.6]"
   ]
  },
  {
   "cell_type": "code",
   "execution_count": 14,
   "id": "0d3cea52-4657-43d7-96de-5da7f76565cf",
   "metadata": {},
   "outputs": [],
   "source": [
    "# the custom evaluator\n",
    "def link_7_distance_to_target(q):\n",
    "    \"\"\" evaluates squared distance between L7 origin and target T \"\"\"\n",
    "    # choose the plant and context based on dtype\n",
    "    if q.dtype == float:\n",
    "        plant = plant_f\n",
    "        context = context_f\n",
    "    else:\n",
    "        plant = plant_ad\n",
    "        context = context_ad\n",
    "    # do forward kinematics \n",
    "    plant.SetPositions(context, iiwa, q)\n",
    "    X_WL7 = plant.CalcRelativeTransform(context, resolve_frame(plant, W), resolve_frame(plant, L7))\n",
    "    p_TL7 = X_WL7.translation() - p_WT\n",
    "    return p_TL7.dot(p_TL7)"
   ]
  },
  {
   "cell_type": "code",
   "execution_count": 15,
   "id": "1d55cca0-722a-4f19-9b50-3d27276780ce",
   "metadata": {},
   "outputs": [],
   "source": [
    "\"\"\" Warning: if you return a scalar for a constraint, or a vector for a cost, you may get the \n",
    "    following cryptic error:\n",
    "    Unable to cast Python instance to c++ type \"\"\"\n",
    "link_7_distance_to_target_vector = lambda q: [link_7_distance_to_target(q)] # [] turn ensures the return is a vector"
   ]
  },
  {
   "cell_type": "code",
   "execution_count": 16,
   "id": "b87aa1fc-1b56-4070-8cfa-b23584962946",
   "metadata": {},
   "outputs": [
    {
     "data": {
      "text/plain": [
       "[0.3877977000014801]"
      ]
     },
     "execution_count": 16,
     "metadata": {},
     "output_type": "execute_result"
    }
   ],
   "source": [
    "q_test = np.random.rand(7)\n",
    "link_7_distance_to_target_vector(q_test)"
   ]
  },
  {
   "cell_type": "code",
   "execution_count": 19,
   "id": "a2a5a224-e6e3-4460-b57e-1f8bd49cc19b",
   "metadata": {},
   "outputs": [
    {
     "data": {
      "text/plain": [
       "<pydrake.solvers.Binding𝓣Constraint𝓤 at 0x1109ff870>"
      ]
     },
     "execution_count": 19,
     "metadata": {},
     "output_type": "execute_result"
    }
   ],
   "source": [
    "\"\"\" Now formulate the IK as an optimization problem \n",
    "    with the previously defined function as a constraint \"\"\"\n",
    "\n",
    "prog = MathematicalProgram() # instantiation\n",
    "\n",
    "q = prog.NewContinuousVariables(plant_f.num_positions()) # define the decision variable \n",
    "\n",
    "# define nominal configuration\n",
    "q0 = np.zeros(plant_f.num_positions())\n",
    "\n",
    "# add basic cost (this will be parsed into a QuadraticCost.)\n",
    "prog.AddCost((q - q0).dot(q - q0))\n",
    "\n",
    "# add constraint using the custom evaluator\n",
    "prog.AddConstraint(link_7_distance_to_target_vector, lb=[0.1], ub=[0.2], vars=q)\n",
    "\n"
   ]
  },
  {
   "cell_type": "code",
   "execution_count": 20,
   "id": "a167541c-8750-4adf-b0fa-b1fcd19bb04d",
   "metadata": {},
   "outputs": [],
   "source": [
    "# now solve it \n",
    "result = Solve(prog, initial_guess=q0)"
   ]
  },
  {
   "cell_type": "code",
   "execution_count": 25,
   "id": "5e4759b3-08f8-4afd-86a6-0f750a4d51a2",
   "metadata": {},
   "outputs": [
    {
     "name": "stdout",
     "output_type": "stream",
     "text": [
      "Success? True\n",
      "SolutionResult.kSolutionFound\n",
      "[ 0.18293302 -0.15345868  0.22224834 -1.24010409  0.01028776  0.28116727\n",
      "  0.        ]\n",
      "Initial distance: 0.457\n",
      "Solution distance: 0.200\n"
     ]
    }
   ],
   "source": [
    "# extract the solutions\n",
    "print(f\"Success? {result.is_success()}\")\n",
    "print(result.get_solution_result()) # some flag to print out \n",
    "q_sol = result.GetSolution(q) # get the solution joint positions with the decVar as the input\n",
    "print(q_sol)\n",
    "\n",
    "print(f\"Initial distance: {link_7_distance_to_target(q0):.3f}\")\n",
    "print(f\"Solution distance: {link_7_distance_to_target(q_sol):.3f}\")\n"
   ]
  },
  {
   "cell_type": "code",
   "execution_count": null,
   "id": "d29a642a-802b-450c-b199-8b4c31260b08",
   "metadata": {},
   "outputs": [],
   "source": []
  }
 ],
 "metadata": {
  "kernelspec": {
   "display_name": "Python 3 (ipykernel)",
   "language": "python",
   "name": "python3"
  },
  "language_info": {
   "codemirror_mode": {
    "name": "ipython",
    "version": 3
   },
   "file_extension": ".py",
   "mimetype": "text/x-python",
   "name": "python",
   "nbconvert_exporter": "python",
   "pygments_lexer": "ipython3",
   "version": "3.11.6"
  }
 },
 "nbformat": 4,
 "nbformat_minor": 5
}
