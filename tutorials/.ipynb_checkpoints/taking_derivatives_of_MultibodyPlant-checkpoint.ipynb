{
 "cells": [
  {
   "cell_type": "code",
   "execution_count": 1,
   "id": "39d4bcce-70c6-4484-a0d8-7f17f2f41789",
   "metadata": {},
   "outputs": [],
   "source": [
    "import numpy as np\n",
    "from pydrake.multibody.tree import SpatialInertia, UnitInertia\n",
    "from pydrake.multibody.plant import MultibodyPlant_, MultibodyPlant\n",
    "from pydrake.autodiffutils import AutoDiffXd"
   ]
  },
  {
   "cell_type": "code",
   "execution_count": 2,
   "id": "b1d848c1-d227-4aa5-b0a8-d2816ee8c261",
   "metadata": {},
   "outputs": [],
   "source": [
    "plant = MultibodyPlant(time_step=0.0)\n",
    "\n",
    "body1 = plant.AddRigidBody(\n",
    "    \"body1\",\n",
    "    M_BBo_B=SpatialInertia(\n",
    "        mass=2.0,\n",
    "        p_PScm_E=[0, 0, 0],\n",
    "        # N.B. Rotational inertia is unimportant for calculations\n",
    "        # in this notebook, and thus is arbitrarily chosen.\n",
    "        G_SP_E=UnitInertia(0.1, 0.1, 0.1),\n",
    "    ),\n",
    ")\n",
    "body2 = plant.AddRigidBody(\n",
    "    \"body2\",\n",
    "    M_BBo_B=SpatialInertia(\n",
    "        mass=0.5,\n",
    "        p_PScm_E=[0, 0, 0],\n",
    "        # N.B. Rotational inertia is unimportant for calculations\n",
    "        # in this notebook, and thus is arbitrarily chosen.\n",
    "        G_SP_E=UnitInertia(0.1, 0.1, 0.1),\n",
    "    ),\n",
    ")\n",
    "plant.Finalize()"
   ]
  },
  {
   "cell_type": "code",
   "execution_count": 3,
   "id": "ae961575-bb7e-4f7c-bad9-aabade44f66e",
   "metadata": {},
   "outputs": [],
   "source": [
    "# convert plant to AutoDiff compatible after Finalize()\n",
    "plant_ad = plant.ToScalarType[AutoDiffXd]()\n",
    "body1_ad = plant_ad.get_body(body1.index())\n",
    "body2_ad = plant_ad.get_body(body2.index())"
   ]
  },
  {
   "cell_type": "code",
   "execution_count": 5,
   "id": "5c7dd558-c83e-463d-a6fb-951b1fcff161",
   "metadata": {},
   "outputs": [
    {
     "name": "stdout",
     "output_type": "stream",
     "text": [
      "<class 'pydrake.multibody.tree.RigidBody_𝓣AutoDiffXd𝓤'>\n",
      "<RigidBody_[AutoDiffXd] name='body1' index=1 model_instance=1>\n"
     ]
    }
   ],
   "source": [
    "print(type(body1_ad))\n",
    "print(body1_ad)"
   ]
  },
  {
   "cell_type": "code",
   "execution_count": 8,
   "id": "bc4c466d-6ee9-48a3-a66f-46023fabac81",
   "metadata": {},
   "outputs": [],
   "source": [
    "m1 = AutoDiffXd(2.0, [1.0, 0.0])\n",
    "m2 = AutoDiffXd(0.5, [0.0, 1.0])"
   ]
  },
  {
   "cell_type": "markdown",
   "id": "db3605aa-b6b9-4726-9120-0980155989fe",
   "metadata": {},
   "source": [
    "In this example, the gradients to be calculated using AD is the vertical force w.r.t each body's mass, i.e. $\\frac{\\partial f_z}{\\partial \\boldsymbol{m}}$. Because this is a **MultibodyPlant()** with two rigid bodies so two masses, and two $\\boldsymbol{f}_z$, the gradient matrix $\\frac{\\partial f_z}{\\partial \\boldsymbol{m}} = \\begin{bmatrix} \\frac{\\partial f_{z1}}{m_1} &\\frac{\\partial f_{z2}}{m_1}\\\\ \\frac{\\partial f_{z1}}{m_2} &\\frac{\\partial f_{z2}}{m_2}\\end{bmatrix} \\in \\mathbb{R}^{2\\times2}$.\n",
    "The 1st arg for AutoDiffXd() is the value of the mass. The 2nd arg specifies the where the dependent variables are, e.g. zero for the 2nd entry for $m_1$ because $f_{1z}$ is not dependent on m2."
   ]
  },
  {
   "cell_type": "code",
   "execution_count": null,
   "id": "0a317ee8-ee76-453e-b6e7-912825461a46",
   "metadata": {},
   "outputs": [],
   "source": []
  }
 ],
 "metadata": {
  "kernelspec": {
   "display_name": "Python 3 (ipykernel)",
   "language": "python",
   "name": "python3"
  },
  "language_info": {
   "codemirror_mode": {
    "name": "ipython",
    "version": 3
   },
   "file_extension": ".py",
   "mimetype": "text/x-python",
   "name": "python",
   "nbconvert_exporter": "python",
   "pygments_lexer": "ipython3",
   "version": "3.11.6"
  }
 },
 "nbformat": 4,
 "nbformat_minor": 5
}
