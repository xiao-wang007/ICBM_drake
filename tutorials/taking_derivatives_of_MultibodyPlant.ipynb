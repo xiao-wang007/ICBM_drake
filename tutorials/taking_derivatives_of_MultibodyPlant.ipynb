{
 "cells": [
  {
   "cell_type": "code",
   "execution_count": 1,
   "id": "26e1ff20-2f54-475f-bb71-730cac06fb68",
   "metadata": {},
   "outputs": [],
   "source": [
    "import numpy as np\n",
    "from pydrake.multibody.tree import SpatialInertia, UnitInertia\n",
    "from pydrake.multibody.plant import MultibodyPlant_, MultibodyPlant\n",
    "from pydrake.autodiffutils import AutoDiffXd"
   ]
  },
  {
   "cell_type": "code",
   "execution_count": 2,
   "id": "b1d848c1-d227-4aa5-b0a8-d2816ee8c261",
   "metadata": {},
   "outputs": [],
   "source": [
    "plant = MultibodyPlant(time_step=0.0)\n",
    "\n",
    "body1 = plant.AddRigidBody(\n",
    "    \"body1\",\n",
    "    M_BBo_B=SpatialInertia(\n",
    "        mass=2.0,\n",
    "        p_PScm_E=[0, 0, 0],\n",
    "        # N.B. Rotational inertia is unimportant for calculations\n",
    "        # in this notebook, and thus is arbitrarily chosen.\n",
    "        G_SP_E=UnitInertia(0.1, 0.1, 0.1),\n",
    "    ),\n",
    ")\n",
    "body2 = plant.AddRigidBody(\n",
    "    \"body2\",\n",
    "    M_BBo_B=SpatialInertia(\n",
    "        mass=0.5,\n",
    "        p_PScm_E=[0, 0, 0],\n",
    "        # N.B. Rotational inertia is unimportant for calculations\n",
    "        # in this notebook, and thus is arbitrarily chosen.\n",
    "        G_SP_E=UnitInertia(0.1, 0.1, 0.1),\n",
    "    ),\n",
    ")\n",
    "plant.Finalize()"
   ]
  },
  {
   "cell_type": "code",
   "execution_count": 3,
   "id": "ae961575-bb7e-4f7c-bad9-aabade44f66e",
   "metadata": {},
   "outputs": [],
   "source": [
    "# convert plant to AutoDiff compatible after Finalize()\n",
    "plant_ad = plant.ToScalarType[AutoDiffXd]()\n",
    "body1_ad = plant_ad.get_body(body1.index())\n",
    "body2_ad = plant_ad.get_body(body2.index())\n",
    "context_ad = plant_ad.CreateDefaultContext()"
   ]
  },
  {
   "cell_type": "code",
   "execution_count": 4,
   "id": "5c7dd558-c83e-463d-a6fb-951b1fcff161",
   "metadata": {},
   "outputs": [
    {
     "name": "stdout",
     "output_type": "stream",
     "text": [
      "<class 'pydrake.multibody.tree.RigidBody_𝓣AutoDiffXd𝓤'>\n",
      "<RigidBody_[AutoDiffXd] name='body1' index=1 model_instance=1>\n"
     ]
    }
   ],
   "source": [
    "print(type(body1_ad))\n",
    "print(body1_ad)"
   ]
  },
  {
   "cell_type": "code",
   "execution_count": 5,
   "id": "bc4c466d-6ee9-48a3-a66f-46023fabac81",
   "metadata": {},
   "outputs": [],
   "source": [
    "# making m1 and m2 as dependent variables for AD\n",
    "m1 = AutoDiffXd(2.0, [1.0, 0.0])\n",
    "body1_ad.SetMass(context_ad, m1)\n",
    "m2 = AutoDiffXd(0.5, [0.0, 1.0])\n",
    "body2_ad.SetMass(context_ad, m2)"
   ]
  },
  {
   "cell_type": "markdown",
   "id": "db3605aa-b6b9-4726-9120-0980155989fe",
   "metadata": {},
   "source": [
    "In this example, the gradients to be calculated using AD is the vertical force w.r.t each body's mass, i.e. $\\frac{\\partial \\boldsymbol{f_z}}{\\partial \\boldsymbol{m}}$. Because this is a **MultibodyPlant()** with two rigid bodies so two masses, and two entries in $\\boldsymbol{f}_z$, the gradient matrix $\\frac{\\partial \\boldsymbol{f_z}}{\\partial \\boldsymbol{m}} = \\begin{bmatrix} \\frac{\\partial f_{z1}}{m_1} &\\frac{\\partial f_{z2}}{m_1}\\\\ \\frac{\\partial f_{z1}}{m_2} &\\frac{\\partial f_{z2}}{m_2}\\end{bmatrix} \\in \\mathbb{R}^{2\\times2}$.\n",
    "The 1st arg for AutoDiffXd() is the value of the mass. The 2nd arg specifies the where the dependent variables are, e.g. zero for the 2nd entry for $m_1$ because $f_{z1}$ is not dependent on m2. Similarly for $m_2$."
   ]
  },
  {
   "cell_type": "code",
   "execution_count": 6,
   "id": "0a317ee8-ee76-453e-b6e7-912825461a46",
   "metadata": {},
   "outputs": [],
   "source": [
    "def get_z_component(plant, body, v):\n",
    "    assert body.is_floating()\n",
    "    \n",
    "    # body.floating_velocities_start() returns the index of this Body’s first generalized \n",
    "    # velocity in the full state vector for a MultibodyPlant model, under the dubious \n",
    "    # assumption that the state consists of [q v] concatenated.\n",
    "    x_start = body.floating_velocities_start()\n",
    "\n",
    "    # floating velocities conventions [angular; translation], so spatial velocity convention in Plücker Notation\n",
    "    v_start = x_start - plant.num_positions() # get the v starting index\n",
    "    nv_pose = 6\n",
    "\n",
    "    # damn! a detour just to get the translational force in gravity wrench and you use \"v\" as input arguments for confusion.\n",
    "    # For those who are not familiar in spatial notation or \"Plücker\" notation. twist (spatial velocity) v = [angular linear]^T \n",
    "    # and wrench (spatial force) f = [moment force]^T. The indexing for angular and linear are the same.     \n",
    "    \"\"\"\n",
    "    Actually, it is such a good example that it illustrated how the state vector is arranged (though still conform to [q v])\n",
    "    for MultibodyPlant():\n",
    "    state = [q1, q2, ..., qN, dq1, dq2, ..., dqN], that is why nv_pose = 6 here.\n",
    "    \"\"\"\n",
    "    rxyz_txyz = v[v_start:v_start + nv_pose]\n",
    "    assert len(rxyz_txyz) == nv_pose \n",
    "    txyz = rxyz_txyz[-3:] # get the translation part\n",
    "    z = txyz[2] # [x y z]\n",
    "    return z"
   ]
  },
  {
   "cell_type": "code",
   "execution_count": 7,
   "id": "e11bd2b7-4a44-4f9e-a768-4ab7ac4991f4",
   "metadata": {},
   "outputs": [],
   "source": [
    "@np.vectorize\n",
    "def ad_to_string(x):\n",
    "    # Formats an array of AutoDiffXd elements to a string.\n",
    "    # Note that this implementation is for a scalar, but we use `np.vectorize` to\n",
    "    # effectively convert our array to `ndarray` of strings\n",
    "    return f\"AutoDiffXd({x.value()}, derivatives={x.derivatives()})\""
   ]
  },
  {
   "cell_type": "code",
   "execution_count": 8,
   "id": "97a9b7f9-cc26-4a48-bff6-ed08b1d463b7",
   "metadata": {},
   "outputs": [
    {
     "name": "stdout",
     "output_type": "stream",
     "text": [
      "AutoDiffXd(-19.62, derivatives=[-9.81 -0.  ])\n",
      "AutoDiffXd(-4.905, derivatives=[-0.   -9.81])\n"
     ]
    }
   ],
   "source": [
    "tau_g = plant_ad.CalcGravityGeneralizedForces(context_ad)\n",
    "tau_g_z1 = get_z_component(plant_ad, body1_ad, tau_g)\n",
    "tau_g_z2 = get_z_component(plant_ad, body2_ad, tau_g)\n",
    "print(ad_to_string(tau_g_z1))\n",
    "print(ad_to_string(tau_g_z2))"
   ]
  },
  {
   "cell_type": "code",
   "execution_count": 9,
   "id": "0d0e464b-9c42-433a-89a2-31323e267812",
   "metadata": {},
   "outputs": [
    {
     "data": {
      "text/plain": [
       "array([<AutoDiffXd -0.0 nderiv=2>, <AutoDiffXd -0.0 nderiv=2>,\n",
       "       <AutoDiffXd -0.0 nderiv=2>, <AutoDiffXd -0.0 nderiv=2>,\n",
       "       <AutoDiffXd -0.0 nderiv=2>, <AutoDiffXd -19.62 nderiv=2>,\n",
       "       <AutoDiffXd -0.0 nderiv=2>, <AutoDiffXd -0.0 nderiv=2>,\n",
       "       <AutoDiffXd -0.0 nderiv=2>, <AutoDiffXd -0.0 nderiv=2>,\n",
       "       <AutoDiffXd -0.0 nderiv=2>, <AutoDiffXd -4.905 nderiv=2>],\n",
       "      dtype=object)"
      ]
     },
     "execution_count": 9,
     "metadata": {},
     "output_type": "execute_result"
    }
   ],
   "source": [
    "tau_g"
   ]
  },
  {
   "cell_type": "code",
   "execution_count": 34,
   "id": "218c52f6-9b87-49cf-a5b2-1db30ca7a0b4",
   "metadata": {},
   "outputs": [
    {
     "data": {
      "text/plain": [
       "<AutoDiffXd -19.62 nderiv=2>"
      ]
     },
     "execution_count": 34,
     "metadata": {},
     "output_type": "execute_result"
    }
   ],
   "source": [
    "tau_g_z1"
   ]
  },
  {
   "cell_type": "code",
   "execution_count": 29,
   "id": "396c10d6-8480-427a-af1a-788a2c7f5d74",
   "metadata": {},
   "outputs": [
    {
     "data": {
      "text/plain": [
       "array([-9.81, -0.  ])"
      ]
     },
     "execution_count": 29,
     "metadata": {},
     "output_type": "execute_result"
    }
   ],
   "source": [
    "tau_g_z1.derivatives()"
   ]
  },
  {
   "cell_type": "code",
   "execution_count": 30,
   "id": "e2831cd1-92db-4fea-bd2d-30fea43a560b",
   "metadata": {},
   "outputs": [
    {
     "data": {
      "text/plain": [
       "-19.62"
      ]
     },
     "execution_count": 30,
     "metadata": {},
     "output_type": "execute_result"
    }
   ],
   "source": [
    "tau_g_z1.value()"
   ]
  },
  {
   "cell_type": "code",
   "execution_count": 10,
   "id": "ae17e1bb-6c22-4927-882f-8b5e8cc477fd",
   "metadata": {},
   "outputs": [
    {
     "data": {
      "text/plain": [
       "pydrake.autodiffutils.AutoDiffXd"
      ]
     },
     "execution_count": 10,
     "metadata": {},
     "output_type": "execute_result"
    }
   ],
   "source": [
    "type(tau_g_z1)"
   ]
  },
  {
   "cell_type": "code",
   "execution_count": null,
   "id": "a1cecfd7-6347-4f1a-a829-e4a4e3d696d5",
   "metadata": {},
   "outputs": [],
   "source": [
    "from pydrake.all import ExtractGradient\n",
    "ExtractGradient(tau_g_z1"
   ]
  }
 ],
 "metadata": {
  "kernelspec": {
   "display_name": "Python 3 (ipykernel)",
   "language": "python",
   "name": "python3"
  },
  "language_info": {
   "codemirror_mode": {
    "name": "ipython",
    "version": 3
   },
   "file_extension": ".py",
   "mimetype": "text/x-python",
   "name": "python",
   "nbconvert_exporter": "python",
   "pygments_lexer": "ipython3",
   "version": "3.11.6"
  }
 },
 "nbformat": 4,
 "nbformat_minor": 5
}
